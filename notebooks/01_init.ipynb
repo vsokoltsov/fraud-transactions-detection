{
 "cells": [
  {
   "cell_type": "markdown",
   "id": "2480f107",
   "metadata": {},
   "source": [
    "# Skill Test document\n",
    "\n",
    "* Name: Vadim Sokoltsov\n",
    "* Date: 06.10.2025\n",
    "* E-mail: \n",
    "\n",
    "Note: Please make sure you send the necessary documentation to run this notebook. If you installed any library do not forget to send the requirements.txt"
   ]
  },
  {
   "cell_type": "code",
   "execution_count": 1,
   "id": "0b7eb217",
   "metadata": {},
   "outputs": [],
   "source": [
    "import pandas as pd\n",
    "import numpy as np\n",
    "from pathlib import Path\n",
    "import os\n",
    "\n",
    "%matplotlib inline\n",
    "\n",
    "import matplotlib.pyplot as plt\n",
    "import seaborn as sns"
   ]
  },
  {
   "cell_type": "code",
   "execution_count": 2,
   "id": "3e2fe4b1",
   "metadata": {},
   "outputs": [],
   "source": [
    "ROOT = Path(os.path.abspath('')).resolve().parents[0]\n",
    "DATA = ROOT / \"data\"\n",
    "INTERIM_DATA = DATA / \"interim\""
   ]
  },
  {
   "cell_type": "code",
   "execution_count": 3,
   "id": "b880bece",
   "metadata": {},
   "outputs": [],
   "source": [
    "trx = pd.read_csv(DATA / \"transactions.csv\", parse_dates=['TX_DATETIME'], dtype = {'CUSTOMER_ID': np.int64,'SECTOR_ID': np.int64,'TX_FRAUD': np.int8})"
   ]
  },
  {
   "cell_type": "markdown",
   "id": "603aef2d",
   "metadata": {},
   "source": [
    "# EDA"
   ]
  },
  {
   "cell_type": "markdown",
   "id": "370374f4",
   "metadata": {},
   "source": [
    "## Validating assumptions\n",
    "\n",
    "Here we validate some first level assumptions on the data."
   ]
  },
  {
   "cell_type": "code",
   "execution_count": 4,
   "id": "2da57c88",
   "metadata": {},
   "outputs": [
    {
     "data": {
      "text/plain": [
       "np.True_"
      ]
     },
     "execution_count": 4,
     "metadata": {},
     "output_type": "execute_result"
    }
   ],
   "source": [
    "#Each customer has an unique sector\n",
    "(trx.groupby('CUSTOMER_ID').SECTOR_ID.nunique() == 1).all()"
   ]
  },
  {
   "cell_type": "code",
   "execution_count": 5,
   "id": "ded86a19",
   "metadata": {},
   "outputs": [
    {
     "data": {
      "text/plain": [
       "CUSTOMER_ID    False\n",
       "TX_DATETIME    False\n",
       "TX_AMOUNT      False\n",
       "SECTOR_ID      False\n",
       "TX_FRAUD       False\n",
       "dtype: bool"
      ]
     },
     "execution_count": 5,
     "metadata": {},
     "output_type": "execute_result"
    }
   ],
   "source": [
    "#No NANs in the data \n",
    "trx.isna().any()"
   ]
  },
  {
   "cell_type": "code",
   "execution_count": 6,
   "id": "7dd86bb3",
   "metadata": {},
   "outputs": [
    {
     "data": {
      "text/plain": [
       "CUSTOMER_ID             int64\n",
       "TX_DATETIME    datetime64[ns]\n",
       "TX_AMOUNT             float64\n",
       "SECTOR_ID               int64\n",
       "TX_FRAUD                 int8\n",
       "dtype: object"
      ]
     },
     "execution_count": 6,
     "metadata": {},
     "output_type": "execute_result"
    }
   ],
   "source": [
    "#Data types\n",
    "trx.dtypes"
   ]
  },
  {
   "cell_type": "markdown",
   "id": "9a4e7de7",
   "metadata": {},
   "source": [
    "## Descriptive Analysis"
   ]
  },
  {
   "cell_type": "code",
   "execution_count": 7,
   "id": "67eb35b6",
   "metadata": {},
   "outputs": [
    {
     "name": "stdout",
     "output_type": "stream",
     "text": [
      "We have a total of 1229921 transactions\n",
      "We have a total of 3779 frauds\n",
      "The dataset starts at 2023-01-01 00:21:42 and ends at 2023-06-18 13:37:52. There are 168 days in total\n",
      "They come from 5000 customers from 20 different sectors.\n"
     ]
    }
   ],
   "source": [
    "#Total transactions and columns\n",
    "nb_transactions = len(trx)\n",
    "nb_customers = trx.CUSTOMER_ID.nunique()\n",
    "nb_sectors = trx.SECTOR_ID.nunique()\n",
    "nb_frauds = len(trx[trx.TX_FRAUD == 1])\n",
    "start_date = trx.TX_DATETIME.min()\n",
    "end_date = trx.TX_DATETIME.max()\n",
    "nb_days = (end_date - start_date).days\n",
    "\n",
    "print(f\"We have a total of {nb_transactions} transactions\")\n",
    "print(f\"We have a total of {nb_frauds} frauds\")\n",
    "print(f\"The dataset starts at {start_date} and ends at {end_date}. There are {nb_days} days in total\")\n",
    "print(f\"They come from {nb_customers} customers from {nb_sectors} different sectors.\")"
   ]
  },
  {
   "cell_type": "code",
   "execution_count": 8,
   "id": "9c611fce",
   "metadata": {},
   "outputs": [
    {
     "data": {
      "text/html": [
       "<div>\n",
       "<style scoped>\n",
       "    .dataframe tbody tr th:only-of-type {\n",
       "        vertical-align: middle;\n",
       "    }\n",
       "\n",
       "    .dataframe tbody tr th {\n",
       "        vertical-align: top;\n",
       "    }\n",
       "\n",
       "    .dataframe thead th {\n",
       "        text-align: right;\n",
       "    }\n",
       "</style>\n",
       "<table border=\"1\" class=\"dataframe\">\n",
       "  <thead>\n",
       "    <tr style=\"text-align: right;\">\n",
       "      <th></th>\n",
       "      <th>CUSTOMER_ID</th>\n",
       "      <th>TX_DATETIME</th>\n",
       "      <th>TX_AMOUNT</th>\n",
       "      <th>SECTOR_ID</th>\n",
       "      <th>TX_FRAUD</th>\n",
       "    </tr>\n",
       "  </thead>\n",
       "  <tbody>\n",
       "    <tr>\n",
       "      <th>count</th>\n",
       "      <td>1.229921e+06</td>\n",
       "      <td>1229921</td>\n",
       "      <td>1.229921e+06</td>\n",
       "      <td>1.229921e+06</td>\n",
       "      <td>1.229921e+06</td>\n",
       "    </tr>\n",
       "    <tr>\n",
       "      <th>mean</th>\n",
       "      <td>2.498093e+03</td>\n",
       "      <td>2023-03-28 05:59:47.830255616</td>\n",
       "      <td>5.283276e+02</td>\n",
       "      <td>9.541541e+00</td>\n",
       "      <td>3.072555e-03</td>\n",
       "    </tr>\n",
       "    <tr>\n",
       "      <th>min</th>\n",
       "      <td>0.000000e+00</td>\n",
       "      <td>2023-01-01 00:21:42</td>\n",
       "      <td>1.415089e+01</td>\n",
       "      <td>0.000000e+00</td>\n",
       "      <td>0.000000e+00</td>\n",
       "    </tr>\n",
       "    <tr>\n",
       "      <th>25%</th>\n",
       "      <td>1.247000e+03</td>\n",
       "      <td>2023-02-15 03:41:01</td>\n",
       "      <td>1.234908e+02</td>\n",
       "      <td>4.000000e+00</td>\n",
       "      <td>0.000000e+00</td>\n",
       "    </tr>\n",
       "    <tr>\n",
       "      <th>50%</th>\n",
       "      <td>2.497000e+03</td>\n",
       "      <td>2023-03-28 08:57:58</td>\n",
       "      <td>4.294975e+02</td>\n",
       "      <td>1.000000e+01</td>\n",
       "      <td>0.000000e+00</td>\n",
       "    </tr>\n",
       "    <tr>\n",
       "      <th>75%</th>\n",
       "      <td>3.744000e+03</td>\n",
       "      <td>2023-05-08 11:51:48</td>\n",
       "      <td>6.871575e+02</td>\n",
       "      <td>1.500000e+01</td>\n",
       "      <td>0.000000e+00</td>\n",
       "    </tr>\n",
       "    <tr>\n",
       "      <th>max</th>\n",
       "      <td>4.999000e+03</td>\n",
       "      <td>2023-06-18 13:37:52</td>\n",
       "      <td>4.328488e+03</td>\n",
       "      <td>1.900000e+01</td>\n",
       "      <td>1.000000e+00</td>\n",
       "    </tr>\n",
       "    <tr>\n",
       "      <th>std</th>\n",
       "      <td>1.442027e+03</td>\n",
       "      <td>NaN</td>\n",
       "      <td>5.218334e+02</td>\n",
       "      <td>5.825168e+00</td>\n",
       "      <td>5.534543e-02</td>\n",
       "    </tr>\n",
       "  </tbody>\n",
       "</table>\n",
       "</div>"
      ],
      "text/plain": [
       "        CUSTOMER_ID                    TX_DATETIME     TX_AMOUNT  \\\n",
       "count  1.229921e+06                        1229921  1.229921e+06   \n",
       "mean   2.498093e+03  2023-03-28 05:59:47.830255616  5.283276e+02   \n",
       "min    0.000000e+00            2023-01-01 00:21:42  1.415089e+01   \n",
       "25%    1.247000e+03            2023-02-15 03:41:01  1.234908e+02   \n",
       "50%    2.497000e+03            2023-03-28 08:57:58  4.294975e+02   \n",
       "75%    3.744000e+03            2023-05-08 11:51:48  6.871575e+02   \n",
       "max    4.999000e+03            2023-06-18 13:37:52  4.328488e+03   \n",
       "std    1.442027e+03                            NaN  5.218334e+02   \n",
       "\n",
       "          SECTOR_ID      TX_FRAUD  \n",
       "count  1.229921e+06  1.229921e+06  \n",
       "mean   9.541541e+00  3.072555e-03  \n",
       "min    0.000000e+00  0.000000e+00  \n",
       "25%    4.000000e+00  0.000000e+00  \n",
       "50%    1.000000e+01  0.000000e+00  \n",
       "75%    1.500000e+01  0.000000e+00  \n",
       "max    1.900000e+01  1.000000e+00  \n",
       "std    5.825168e+00  5.534543e-02  "
      ]
     },
     "execution_count": 8,
     "metadata": {},
     "output_type": "execute_result"
    }
   ],
   "source": [
    "trx.describe()"
   ]
  },
  {
   "cell_type": "code",
   "execution_count": 9,
   "id": "9dd01e97",
   "metadata": {},
   "outputs": [
    {
     "name": "stdout",
     "output_type": "stream",
     "text": [
      "<class 'pandas.core.frame.DataFrame'>\n",
      "RangeIndex: 1229921 entries, 0 to 1229920\n",
      "Data columns (total 5 columns):\n",
      " #   Column       Non-Null Count    Dtype         \n",
      "---  ------       --------------    -----         \n",
      " 0   CUSTOMER_ID  1229921 non-null  int64         \n",
      " 1   TX_DATETIME  1229921 non-null  datetime64[ns]\n",
      " 2   TX_AMOUNT    1229921 non-null  float64       \n",
      " 3   SECTOR_ID    1229921 non-null  int64         \n",
      " 4   TX_FRAUD     1229921 non-null  int8          \n",
      "dtypes: datetime64[ns](1), float64(1), int64(2), int8(1)\n",
      "memory usage: 38.7 MB\n"
     ]
    }
   ],
   "source": [
    "trx.info()"
   ]
  },
  {
   "cell_type": "code",
   "execution_count": 10,
   "id": "9026df29",
   "metadata": {},
   "outputs": [
    {
     "data": {
      "text/html": [
       "<div>\n",
       "<style scoped>\n",
       "    .dataframe tbody tr th:only-of-type {\n",
       "        vertical-align: middle;\n",
       "    }\n",
       "\n",
       "    .dataframe tbody tr th {\n",
       "        vertical-align: top;\n",
       "    }\n",
       "\n",
       "    .dataframe thead th {\n",
       "        text-align: right;\n",
       "    }\n",
       "</style>\n",
       "<table border=\"1\" class=\"dataframe\">\n",
       "  <thead>\n",
       "    <tr style=\"text-align: right;\">\n",
       "      <th></th>\n",
       "      <th>CUSTOMER_ID</th>\n",
       "      <th>TX_DATETIME</th>\n",
       "      <th>TX_AMOUNT</th>\n",
       "      <th>SECTOR_ID</th>\n",
       "      <th>TX_FRAUD</th>\n",
       "    </tr>\n",
       "  </thead>\n",
       "  <tbody>\n",
       "    <tr>\n",
       "      <th>0</th>\n",
       "      <td>2541</td>\n",
       "      <td>2023-01-01 00:21:42</td>\n",
       "      <td>499.210846</td>\n",
       "      <td>11</td>\n",
       "      <td>0</td>\n",
       "    </tr>\n",
       "    <tr>\n",
       "      <th>1</th>\n",
       "      <td>1735</td>\n",
       "      <td>2023-01-01 00:21:59</td>\n",
       "      <td>58.824293</td>\n",
       "      <td>3</td>\n",
       "      <td>0</td>\n",
       "    </tr>\n",
       "    <tr>\n",
       "      <th>2</th>\n",
       "      <td>669</td>\n",
       "      <td>2023-01-01 00:36:40</td>\n",
       "      <td>91.967189</td>\n",
       "      <td>12</td>\n",
       "      <td>0</td>\n",
       "    </tr>\n",
       "    <tr>\n",
       "      <th>3</th>\n",
       "      <td>4235</td>\n",
       "      <td>2023-01-01 00:51:34</td>\n",
       "      <td>836.571053</td>\n",
       "      <td>16</td>\n",
       "      <td>0</td>\n",
       "    </tr>\n",
       "    <tr>\n",
       "      <th>4</th>\n",
       "      <td>2162</td>\n",
       "      <td>2023-01-01 01:15:23</td>\n",
       "      <td>1537.707662</td>\n",
       "      <td>19</td>\n",
       "      <td>0</td>\n",
       "    </tr>\n",
       "  </tbody>\n",
       "</table>\n",
       "</div>"
      ],
      "text/plain": [
       "   CUSTOMER_ID         TX_DATETIME    TX_AMOUNT  SECTOR_ID  TX_FRAUD\n",
       "0         2541 2023-01-01 00:21:42   499.210846         11         0\n",
       "1         1735 2023-01-01 00:21:59    58.824293          3         0\n",
       "2          669 2023-01-01 00:36:40    91.967189         12         0\n",
       "3         4235 2023-01-01 00:51:34   836.571053         16         0\n",
       "4         2162 2023-01-01 01:15:23  1537.707662         19         0"
      ]
     },
     "execution_count": 10,
     "metadata": {},
     "output_type": "execute_result"
    }
   ],
   "source": [
    "trx.head(5)"
   ]
  },
  {
   "cell_type": "code",
   "execution_count": 11,
   "id": "ee5c0ada",
   "metadata": {},
   "outputs": [],
   "source": [
    "trx.columns = trx.columns.str.lower().str.replace(\" \", \"_\")"
   ]
  },
  {
   "cell_type": "code",
   "execution_count": 12,
   "id": "113e1811",
   "metadata": {},
   "outputs": [
    {
     "data": {
      "text/html": [
       "<div>\n",
       "<style scoped>\n",
       "    .dataframe tbody tr th:only-of-type {\n",
       "        vertical-align: middle;\n",
       "    }\n",
       "\n",
       "    .dataframe tbody tr th {\n",
       "        vertical-align: top;\n",
       "    }\n",
       "\n",
       "    .dataframe thead th {\n",
       "        text-align: right;\n",
       "    }\n",
       "</style>\n",
       "<table border=\"1\" class=\"dataframe\">\n",
       "  <thead>\n",
       "    <tr style=\"text-align: right;\">\n",
       "      <th></th>\n",
       "      <th>customer_id</th>\n",
       "      <th>tx_datetime</th>\n",
       "      <th>tx_amount</th>\n",
       "      <th>sector_id</th>\n",
       "      <th>tx_fraud</th>\n",
       "    </tr>\n",
       "  </thead>\n",
       "  <tbody>\n",
       "    <tr>\n",
       "      <th>0</th>\n",
       "      <td>2541</td>\n",
       "      <td>2023-01-01 00:21:42</td>\n",
       "      <td>499.210846</td>\n",
       "      <td>11</td>\n",
       "      <td>0</td>\n",
       "    </tr>\n",
       "    <tr>\n",
       "      <th>1</th>\n",
       "      <td>1735</td>\n",
       "      <td>2023-01-01 00:21:59</td>\n",
       "      <td>58.824293</td>\n",
       "      <td>3</td>\n",
       "      <td>0</td>\n",
       "    </tr>\n",
       "    <tr>\n",
       "      <th>2</th>\n",
       "      <td>669</td>\n",
       "      <td>2023-01-01 00:36:40</td>\n",
       "      <td>91.967189</td>\n",
       "      <td>12</td>\n",
       "      <td>0</td>\n",
       "    </tr>\n",
       "    <tr>\n",
       "      <th>3</th>\n",
       "      <td>4235</td>\n",
       "      <td>2023-01-01 00:51:34</td>\n",
       "      <td>836.571053</td>\n",
       "      <td>16</td>\n",
       "      <td>0</td>\n",
       "    </tr>\n",
       "    <tr>\n",
       "      <th>4</th>\n",
       "      <td>2162</td>\n",
       "      <td>2023-01-01 01:15:23</td>\n",
       "      <td>1537.707662</td>\n",
       "      <td>19</td>\n",
       "      <td>0</td>\n",
       "    </tr>\n",
       "  </tbody>\n",
       "</table>\n",
       "</div>"
      ],
      "text/plain": [
       "   customer_id         tx_datetime    tx_amount  sector_id  tx_fraud\n",
       "0         2541 2023-01-01 00:21:42   499.210846         11         0\n",
       "1         1735 2023-01-01 00:21:59    58.824293          3         0\n",
       "2          669 2023-01-01 00:36:40    91.967189         12         0\n",
       "3         4235 2023-01-01 00:51:34   836.571053         16         0\n",
       "4         2162 2023-01-01 01:15:23  1537.707662         19         0"
      ]
     },
     "execution_count": 12,
     "metadata": {},
     "output_type": "execute_result"
    }
   ],
   "source": [
    "trx.head(5)"
   ]
  },
  {
   "cell_type": "code",
   "execution_count": 13,
   "id": "32eea404",
   "metadata": {},
   "outputs": [
    {
     "data": {
      "text/plain": [
       "<Axes: xlabel='tx_amount', ylabel='Count'>"
      ]
     },
     "execution_count": 13,
     "metadata": {},
     "output_type": "execute_result"
    },
    {
     "data": {
      "image/png": "[encoded data removed]",
      "text/plain": [
       "<Figure size 640x480 with 1 Axes>"
      ]
     },
     "metadata": {},
     "output_type": "display_data"
    }
   ],
   "source": [
    "sns.histplot(trx['tx_amount'], bins=50)"
   ]
  },
  {
   "cell_type": "markdown",
   "id": "f70cf21d",
   "metadata": {},
   "source": [
    "Since `tx_amount` column has a long tail, it makes sense to represent it as `log()`value"
   ]
  },
  {
   "cell_type": "code",
   "execution_count": 14,
   "id": "a042dc74",
   "metadata": {},
   "outputs": [
    {
     "data": {
      "text/plain": [
       "<Axes: xlabel='tx_amount', ylabel='Count'>"
      ]
     },
     "execution_count": 14,
     "metadata": {},
     "output_type": "execute_result"
    },
    {
     "data": {
      "image/png": "[encoded data removed]",
      "text/plain": [
       "<Figure size 640x480 with 1 Axes>"
      ]
     },
     "metadata": {},
     "output_type": "display_data"
    }
   ],
   "source": [
    "sns.histplot(np.log1p(trx['tx_amount']), bins=50)"
   ]
  },
  {
   "cell_type": "code",
   "execution_count": 15,
   "id": "4bb870da",
   "metadata": {},
   "outputs": [],
   "source": [
    "trx['tx_amount_log'] = np.log1p(trx['tx_amount'])"
   ]
  },
  {
   "cell_type": "code",
   "execution_count": 16,
   "id": "cea7e1c1",
   "metadata": {},
   "outputs": [],
   "source": [
    "trx['day_of_week'] = trx['tx_datetime'].dt.day_of_week\n",
    "trx['hour'] = trx['tx_datetime'].dt.hour\n",
    "trx['month'] = trx['tx_datetime'].dt.month\n",
    "trx['is_month_start'] = trx['tx_datetime'].dt.is_month_start.astype('int')\n",
    "trx['is_month_end'] = trx['tx_datetime'].dt.is_month_end.astype('int')\n",
    "trx['is_weekend'] = trx['day_of_week'].isin({5, 6}).astype('int')"
   ]
  },
  {
   "cell_type": "markdown",
   "id": "e6ad906d",
   "metadata": {},
   "source": [
    "## Save model"
   ]
  },
  {
   "cell_type": "code",
   "execution_count": 17,
   "id": "45fff62b",
   "metadata": {},
   "outputs": [],
   "source": [
    "trx.to_parquet(INTERIM_DATA / \"transactions.parquet.gzip\", compression='gzip')"
   ]
  }
 ],
 "metadata": {
  "kernelspec": {
   "display_name": "Qonto ML Tech Assignment",
   "language": "python",
   "name": "qonto-ml-tech-assignment"
  },
  "language_info": {
   "codemirror_mode": {
    "name": "ipython",
    "version": 3
   },
   "file_extension": ".py",
   "mimetype": "text/x-python",
   "name": "python",
   "nbconvert_exporter": "python",
   "pygments_lexer": "ipython3",
   "version": "3.12.6"
  }
 },
 "nbformat": 4,
 "nbformat_minor": 5
}
