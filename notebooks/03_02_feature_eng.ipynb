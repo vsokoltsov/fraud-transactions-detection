{
 "cells": [
  {
   "cell_type": "markdown",
   "id": "268e756b",
   "metadata": {},
   "source": [
    "# Feature Engineering"
   ]
  },
  {
   "cell_type": "code",
   "execution_count": 5,
   "id": "15ec9bbe",
   "metadata": {},
   "outputs": [],
   "source": [
    "import pandas as pd\n",
    "import numpy as np\n",
    "from pathlib import Path\n",
    "import os\n",
    "\n",
    "%matplotlib inline\n",
    "\n",
    "import matplotlib.pyplot as plt\n",
    "import seaborn as sns\n",
    "\n",
    "from sklearn.linear_model import LogisticRegression\n",
    "from sklearn.metrics import (\n",
    "    roc_auc_score,\n",
    "    precision_recall_curve,\n",
    "    average_precision_score,\n",
    "    confusion_matrix,\n",
    "    ConfusionMatrixDisplay\n",
    ")"
   ]
  },
  {
   "cell_type": "code",
   "execution_count": 6,
   "id": "cac074a5",
   "metadata": {},
   "outputs": [],
   "source": [
    "ROOT = Path(os.path.abspath('')).resolve().parents[0]\n",
    "DATA = ROOT / \"data\"\n",
    "INTERIM_DATA = DATA / \"interim\""
   ]
  },
  {
   "cell_type": "code",
   "execution_count": 9,
   "id": "779e164a",
   "metadata": {},
   "outputs": [],
   "source": [
    "X_train = pd.read_parquet(INTERIM_DATA / 'x_train_split.parquet.gzip')\n",
    "X_val = pd.read_parquet(INTERIM_DATA / 'x_val_split.parquet.gzip')\n",
    "X_test = pd.read_parquet(INTERIM_DATA / 'x_test_split.parquet.gzip')"
   ]
  },
  {
   "cell_type": "code",
   "execution_count": 10,
   "id": "c07c8dde",
   "metadata": {},
   "outputs": [],
   "source": [
    "AMOUNT_FEATURES = {\n",
    "    'tx_amount': set(),\n",
    "    'tx_amount_log': set()\n",
    "}\n",
    "WINDOWS = ['7d', '14d', '21d', '30d']\n",
    "SECTOR_FEATURES = set()\n",
    "CUSTOMER_FEATURES = set()\n",
    "DATE_FEATURES = set()\n",
    "ROLLING_FEATURES = set()\n",
    "RISK_FEATURES = set()\n",
    "TOP_PERCENTILE_FEATURES = []"
   ]
  },
  {
   "cell_type": "markdown",
   "id": "915ab0a7",
   "metadata": {},
   "source": [
    "## Common features"
   ]
  },
  {
   "cell_type": "markdown",
   "id": "60b96e64",
   "metadata": {},
   "source": [
    "### Date-related features"
   ]
  },
  {
   "cell_type": "code",
   "execution_count": 11,
   "id": "17be39ca",
   "metadata": {},
   "outputs": [
    {
     "data": {
      "text/plain": [
       "{'day_of_week',\n",
       " 'hour',\n",
       " 'is_month_end',\n",
       " 'is_month_start',\n",
       " 'is_weekend',\n",
       " 'month'}"
      ]
     },
     "execution_count": 11,
     "metadata": {},
     "output_type": "execute_result"
    }
   ],
   "source": [
    "DATE_FEATURES = DATE_FEATURES.union([\n",
    "    'day_of_week',\n",
    "    'hour',\n",
    "    'month',\n",
    "    'is_month_start',\n",
    "    'is_month_end',\n",
    "    'is_weekend'\n",
    "])\n",
    "DATE_FEATURES"
   ]
  },
  {
   "cell_type": "markdown",
   "id": "145d2d76",
   "metadata": {},
   "source": [
    "## Rolling features"
   ]
  },
  {
   "cell_type": "markdown",
   "id": "a5c83a19",
   "metadata": {},
   "source": [
    "### Difference in time between transactions"
   ]
  },
  {
   "cell_type": "code",
   "execution_count": 13,
   "id": "799c6549",
   "metadata": {},
   "outputs": [],
   "source": [
    "for df in X_train, X_val, X_test:\n",
    "    df['secs_since_prev_tx'] = (\n",
    "        df.groupby('customer_id')['tx_datetime']\n",
    "        .diff()\n",
    "        .dt.total_seconds()\n",
    "        .fillna(-1)\n",
    "    )\n",
    "SECTOR_FEATURES.add('secs_since_prev_tx')"
   ]
  },
  {
   "cell_type": "code",
   "execution_count": 14,
   "id": "7c2e3c40",
   "metadata": {},
   "outputs": [],
   "source": [
    "X_train = X_train.sort_values(['customer_id','tx_datetime']).reset_index(drop=True)\n",
    "X_val = X_val.sort_values(['customer_id','tx_datetime']).reset_index(drop=True)\n",
    "X_test = X_test.sort_values(['customer_id','tx_datetime']).reset_index(drop=True)"
   ]
  },
  {
   "cell_type": "markdown",
   "id": "e2cf137f",
   "metadata": {},
   "source": [
    "### Datetime intervals' aggregations for window\n",
    "\n",
    "For each client and interval window (`7d`, `14d`, `21d`, `30d`), calculate interval mean, standard deviation, zscore and burstiness of seconds since previous transaction:"
   ]
  },
  {
   "cell_type": "code",
   "execution_count": 15,
   "id": "6a71c16a",
   "metadata": {},
   "outputs": [
    {
     "name": "stderr",
     "output_type": "stream",
     "text": [
      "/var/folders/v0/8r5h4ym13fb_mzmqc1hfkt580000gn/T/ipykernel_99039/4136070001.py:8: FutureWarning: DataFrameGroupBy.apply operated on the grouping columns. This behavior is deprecated, and in a future version of pandas the grouping columns will be excluded from the operation. Either pass `include_groups=False` to exclude the groupings or explicitly select the grouping columns after groupby to silence this warning.\n",
      "  .apply(lambda d: d.set_index('tx_datetime')['secs_since_prev_tx'].shift()\n",
      "/var/folders/v0/8r5h4ym13fb_mzmqc1hfkt580000gn/T/ipykernel_99039/4136070001.py:14: FutureWarning: DataFrameGroupBy.apply operated on the grouping columns. This behavior is deprecated, and in a future version of pandas the grouping columns will be excluded from the operation. Either pass `include_groups=False` to exclude the groupings or explicitly select the grouping columns after groupby to silence this warning.\n",
      "  .apply(lambda d: d.set_index('tx_datetime')['secs_since_prev_tx']\n",
      "/var/folders/v0/8r5h4ym13fb_mzmqc1hfkt580000gn/T/ipykernel_99039/4136070001.py:8: FutureWarning: DataFrameGroupBy.apply operated on the grouping columns. This behavior is deprecated, and in a future version of pandas the grouping columns will be excluded from the operation. Either pass `include_groups=False` to exclude the groupings or explicitly select the grouping columns after groupby to silence this warning.\n",
      "  .apply(lambda d: d.set_index('tx_datetime')['secs_since_prev_tx'].shift()\n",
      "/var/folders/v0/8r5h4ym13fb_mzmqc1hfkt580000gn/T/ipykernel_99039/4136070001.py:14: FutureWarning: DataFrameGroupBy.apply operated on the grouping columns. This behavior is deprecated, and in a future version of pandas the grouping columns will be excluded from the operation. Either pass `include_groups=False` to exclude the groupings or explicitly select the grouping columns after groupby to silence this warning.\n",
      "  .apply(lambda d: d.set_index('tx_datetime')['secs_since_prev_tx']\n",
      "/var/folders/v0/8r5h4ym13fb_mzmqc1hfkt580000gn/T/ipykernel_99039/4136070001.py:8: FutureWarning: DataFrameGroupBy.apply operated on the grouping columns. This behavior is deprecated, and in a future version of pandas the grouping columns will be excluded from the operation. Either pass `include_groups=False` to exclude the groupings or explicitly select the grouping columns after groupby to silence this warning.\n",
      "  .apply(lambda d: d.set_index('tx_datetime')['secs_since_prev_tx'].shift()\n",
      "/var/folders/v0/8r5h4ym13fb_mzmqc1hfkt580000gn/T/ipykernel_99039/4136070001.py:14: FutureWarning: DataFrameGroupBy.apply operated on the grouping columns. This behavior is deprecated, and in a future version of pandas the grouping columns will be excluded from the operation. Either pass `include_groups=False` to exclude the groupings or explicitly select the grouping columns after groupby to silence this warning.\n",
      "  .apply(lambda d: d.set_index('tx_datetime')['secs_since_prev_tx']\n",
      "/var/folders/v0/8r5h4ym13fb_mzmqc1hfkt580000gn/T/ipykernel_99039/4136070001.py:8: FutureWarning: DataFrameGroupBy.apply operated on the grouping columns. This behavior is deprecated, and in a future version of pandas the grouping columns will be excluded from the operation. Either pass `include_groups=False` to exclude the groupings or explicitly select the grouping columns after groupby to silence this warning.\n",
      "  .apply(lambda d: d.set_index('tx_datetime')['secs_since_prev_tx'].shift()\n",
      "/var/folders/v0/8r5h4ym13fb_mzmqc1hfkt580000gn/T/ipykernel_99039/4136070001.py:14: FutureWarning: DataFrameGroupBy.apply operated on the grouping columns. This behavior is deprecated, and in a future version of pandas the grouping columns will be excluded from the operation. Either pass `include_groups=False` to exclude the groupings or explicitly select the grouping columns after groupby to silence this warning.\n",
      "  .apply(lambda d: d.set_index('tx_datetime')['secs_since_prev_tx']\n",
      "/var/folders/v0/8r5h4ym13fb_mzmqc1hfkt580000gn/T/ipykernel_99039/4136070001.py:8: FutureWarning: DataFrameGroupBy.apply operated on the grouping columns. This behavior is deprecated, and in a future version of pandas the grouping columns will be excluded from the operation. Either pass `include_groups=False` to exclude the groupings or explicitly select the grouping columns after groupby to silence this warning.\n",
      "  .apply(lambda d: d.set_index('tx_datetime')['secs_since_prev_tx'].shift()\n",
      "/var/folders/v0/8r5h4ym13fb_mzmqc1hfkt580000gn/T/ipykernel_99039/4136070001.py:14: FutureWarning: DataFrameGroupBy.apply operated on the grouping columns. This behavior is deprecated, and in a future version of pandas the grouping columns will be excluded from the operation. Either pass `include_groups=False` to exclude the groupings or explicitly select the grouping columns after groupby to silence this warning.\n",
      "  .apply(lambda d: d.set_index('tx_datetime')['secs_since_prev_tx']\n",
      "/var/folders/v0/8r5h4ym13fb_mzmqc1hfkt580000gn/T/ipykernel_99039/4136070001.py:8: FutureWarning: DataFrameGroupBy.apply operated on the grouping columns. This behavior is deprecated, and in a future version of pandas the grouping columns will be excluded from the operation. Either pass `include_groups=False` to exclude the groupings or explicitly select the grouping columns after groupby to silence this warning.\n",
      "  .apply(lambda d: d.set_index('tx_datetime')['secs_since_prev_tx'].shift()\n",
      "/var/folders/v0/8r5h4ym13fb_mzmqc1hfkt580000gn/T/ipykernel_99039/4136070001.py:14: FutureWarning: DataFrameGroupBy.apply operated on the grouping columns. This behavior is deprecated, and in a future version of pandas the grouping columns will be excluded from the operation. Either pass `include_groups=False` to exclude the groupings or explicitly select the grouping columns after groupby to silence this warning.\n",
      "  .apply(lambda d: d.set_index('tx_datetime')['secs_since_prev_tx']\n",
      "/var/folders/v0/8r5h4ym13fb_mzmqc1hfkt580000gn/T/ipykernel_99039/4136070001.py:8: FutureWarning: DataFrameGroupBy.apply operated on the grouping columns. This behavior is deprecated, and in a future version of pandas the grouping columns will be excluded from the operation. Either pass `include_groups=False` to exclude the groupings or explicitly select the grouping columns after groupby to silence this warning.\n",
      "  .apply(lambda d: d.set_index('tx_datetime')['secs_since_prev_tx'].shift()\n",
      "/var/folders/v0/8r5h4ym13fb_mzmqc1hfkt580000gn/T/ipykernel_99039/4136070001.py:14: FutureWarning: DataFrameGroupBy.apply operated on the grouping columns. This behavior is deprecated, and in a future version of pandas the grouping columns will be excluded from the operation. Either pass `include_groups=False` to exclude the groupings or explicitly select the grouping columns after groupby to silence this warning.\n",
      "  .apply(lambda d: d.set_index('tx_datetime')['secs_since_prev_tx']\n",
      "/var/folders/v0/8r5h4ym13fb_mzmqc1hfkt580000gn/T/ipykernel_99039/4136070001.py:8: FutureWarning: DataFrameGroupBy.apply operated on the grouping columns. This behavior is deprecated, and in a future version of pandas the grouping columns will be excluded from the operation. Either pass `include_groups=False` to exclude the groupings or explicitly select the grouping columns after groupby to silence this warning.\n",
      "  .apply(lambda d: d.set_index('tx_datetime')['secs_since_prev_tx'].shift()\n",
      "/var/folders/v0/8r5h4ym13fb_mzmqc1hfkt580000gn/T/ipykernel_99039/4136070001.py:14: FutureWarning: DataFrameGroupBy.apply operated on the grouping columns. This behavior is deprecated, and in a future version of pandas the grouping columns will be excluded from the operation. Either pass `include_groups=False` to exclude the groupings or explicitly select the grouping columns after groupby to silence this warning.\n",
      "  .apply(lambda d: d.set_index('tx_datetime')['secs_since_prev_tx']\n",
      "/var/folders/v0/8r5h4ym13fb_mzmqc1hfkt580000gn/T/ipykernel_99039/4136070001.py:8: FutureWarning: DataFrameGroupBy.apply operated on the grouping columns. This behavior is deprecated, and in a future version of pandas the grouping columns will be excluded from the operation. Either pass `include_groups=False` to exclude the groupings or explicitly select the grouping columns after groupby to silence this warning.\n",
      "  .apply(lambda d: d.set_index('tx_datetime')['secs_since_prev_tx'].shift()\n",
      "/var/folders/v0/8r5h4ym13fb_mzmqc1hfkt580000gn/T/ipykernel_99039/4136070001.py:14: FutureWarning: DataFrameGroupBy.apply operated on the grouping columns. This behavior is deprecated, and in a future version of pandas the grouping columns will be excluded from the operation. Either pass `include_groups=False` to exclude the groupings or explicitly select the grouping columns after groupby to silence this warning.\n",
      "  .apply(lambda d: d.set_index('tx_datetime')['secs_since_prev_tx']\n",
      "/var/folders/v0/8r5h4ym13fb_mzmqc1hfkt580000gn/T/ipykernel_99039/4136070001.py:8: FutureWarning: DataFrameGroupBy.apply operated on the grouping columns. This behavior is deprecated, and in a future version of pandas the grouping columns will be excluded from the operation. Either pass `include_groups=False` to exclude the groupings or explicitly select the grouping columns after groupby to silence this warning.\n",
      "  .apply(lambda d: d.set_index('tx_datetime')['secs_since_prev_tx'].shift()\n",
      "/var/folders/v0/8r5h4ym13fb_mzmqc1hfkt580000gn/T/ipykernel_99039/4136070001.py:14: FutureWarning: DataFrameGroupBy.apply operated on the grouping columns. This behavior is deprecated, and in a future version of pandas the grouping columns will be excluded from the operation. Either pass `include_groups=False` to exclude the groupings or explicitly select the grouping columns after groupby to silence this warning.\n",
      "  .apply(lambda d: d.set_index('tx_datetime')['secs_since_prev_tx']\n",
      "/var/folders/v0/8r5h4ym13fb_mzmqc1hfkt580000gn/T/ipykernel_99039/4136070001.py:8: FutureWarning: DataFrameGroupBy.apply operated on the grouping columns. This behavior is deprecated, and in a future version of pandas the grouping columns will be excluded from the operation. Either pass `include_groups=False` to exclude the groupings or explicitly select the grouping columns after groupby to silence this warning.\n",
      "  .apply(lambda d: d.set_index('tx_datetime')['secs_since_prev_tx'].shift()\n",
      "/var/folders/v0/8r5h4ym13fb_mzmqc1hfkt580000gn/T/ipykernel_99039/4136070001.py:14: FutureWarning: DataFrameGroupBy.apply operated on the grouping columns. This behavior is deprecated, and in a future version of pandas the grouping columns will be excluded from the operation. Either pass `include_groups=False` to exclude the groupings or explicitly select the grouping columns after groupby to silence this warning.\n",
      "  .apply(lambda d: d.set_index('tx_datetime')['secs_since_prev_tx']\n",
      "/var/folders/v0/8r5h4ym13fb_mzmqc1hfkt580000gn/T/ipykernel_99039/4136070001.py:8: FutureWarning: DataFrameGroupBy.apply operated on the grouping columns. This behavior is deprecated, and in a future version of pandas the grouping columns will be excluded from the operation. Either pass `include_groups=False` to exclude the groupings or explicitly select the grouping columns after groupby to silence this warning.\n",
      "  .apply(lambda d: d.set_index('tx_datetime')['secs_since_prev_tx'].shift()\n",
      "/var/folders/v0/8r5h4ym13fb_mzmqc1hfkt580000gn/T/ipykernel_99039/4136070001.py:14: FutureWarning: DataFrameGroupBy.apply operated on the grouping columns. This behavior is deprecated, and in a future version of pandas the grouping columns will be excluded from the operation. Either pass `include_groups=False` to exclude the groupings or explicitly select the grouping columns after groupby to silence this warning.\n",
      "  .apply(lambda d: d.set_index('tx_datetime')['secs_since_prev_tx']\n"
     ]
    }
   ],
   "source": [
    "eps = 1e-6\n",
    "for df in X_train, X_val, X_test:\n",
    "       for window in WINDOWS:\n",
    "              mean_col = f'interval_mean_{window}'\n",
    "              std_col  = f'interval_std_{window}'\n",
    "              mean_vals = (\n",
    "                     df.groupby('customer_id', group_keys=False)\n",
    "                            .apply(lambda d: d.set_index('tx_datetime')['secs_since_prev_tx'].shift()\n",
    "                                         .rolling(window).mean())\n",
    "              ).fillna(0).to_numpy()\n",
    "\n",
    "              std_vals = (\n",
    "                     df.groupby('customer_id', group_keys=False)\n",
    "                            .apply(lambda d: d.set_index('tx_datetime')['secs_since_prev_tx']\n",
    "                                          .shift()\n",
    "                                          .rolling(window).std())\n",
    "              ).fillna(0).to_numpy()\n",
    "\n",
    "              df[f'interval_mean_{window}'] = mean_vals\n",
    "              df[f'interval_std_{window}']  = std_vals\n",
    "              df[f'interval_zscore_{window}'] = (\n",
    "                     (df['secs_since_prev_tx'] - df[mean_col]) / (df[std_col] + eps)\n",
    "              )\n",
    "\n",
    "              df[f'interval_burstiness_{window}'] = (\n",
    "                     df[std_col] / (df[mean_col] + eps)\n",
    "              )\n",
    "              ROLLING_FEATURES = ROLLING_FEATURES.union([\n",
    "                     mean_col,\n",
    "                     std_col,\n",
    "                     f'interval_zscore_{window}',\n",
    "                     f'interval_burstiness_{window}'\n",
    "              ])"
   ]
  },
  {
   "cell_type": "code",
   "execution_count": 16,
   "id": "1ca207dd",
   "metadata": {},
   "outputs": [
    {
     "data": {
      "text/plain": [
       "{'interval_burstiness_14d',\n",
       " 'interval_burstiness_21d',\n",
       " 'interval_burstiness_30d',\n",
       " 'interval_burstiness_7d',\n",
       " 'interval_mean_14d',\n",
       " 'interval_mean_21d',\n",
       " 'interval_mean_30d',\n",
       " 'interval_mean_7d',\n",
       " 'interval_std_14d',\n",
       " 'interval_std_21d',\n",
       " 'interval_std_30d',\n",
       " 'interval_std_7d',\n",
       " 'interval_zscore_14d',\n",
       " 'interval_zscore_21d',\n",
       " 'interval_zscore_30d',\n",
       " 'interval_zscore_7d'}"
      ]
     },
     "execution_count": 16,
     "metadata": {},
     "output_type": "execute_result"
    }
   ],
   "source": [
    "ROLLING_FEATURES"
   ]
  },
  {
   "cell_type": "markdown",
   "id": "719991d9",
   "metadata": {},
   "source": [
    "### Number of transactions in window"
   ]
  },
  {
   "cell_type": "code",
   "execution_count": 17,
   "id": "eca6f04c",
   "metadata": {},
   "outputs": [
    {
     "name": "stderr",
     "output_type": "stream",
     "text": [
      "/var/folders/v0/8r5h4ym13fb_mzmqc1hfkt580000gn/T/ipykernel_99039/458307417.py:5: FutureWarning: DataFrameGroupBy.apply operated on the grouping columns. This behavior is deprecated, and in a future version of pandas the grouping columns will be excluded from the operation. Either pass `include_groups=False` to exclude the groupings or explicitly select the grouping columns after groupby to silence this warning.\n",
      "  .apply(lambda d: d.set_index('tx_datetime')['ones']\n",
      "/var/folders/v0/8r5h4ym13fb_mzmqc1hfkt580000gn/T/ipykernel_99039/458307417.py:5: FutureWarning: DataFrameGroupBy.apply operated on the grouping columns. This behavior is deprecated, and in a future version of pandas the grouping columns will be excluded from the operation. Either pass `include_groups=False` to exclude the groupings or explicitly select the grouping columns after groupby to silence this warning.\n",
      "  .apply(lambda d: d.set_index('tx_datetime')['ones']\n",
      "/var/folders/v0/8r5h4ym13fb_mzmqc1hfkt580000gn/T/ipykernel_99039/458307417.py:5: FutureWarning: DataFrameGroupBy.apply operated on the grouping columns. This behavior is deprecated, and in a future version of pandas the grouping columns will be excluded from the operation. Either pass `include_groups=False` to exclude the groupings or explicitly select the grouping columns after groupby to silence this warning.\n",
      "  .apply(lambda d: d.set_index('tx_datetime')['ones']\n",
      "/var/folders/v0/8r5h4ym13fb_mzmqc1hfkt580000gn/T/ipykernel_99039/458307417.py:5: FutureWarning: DataFrameGroupBy.apply operated on the grouping columns. This behavior is deprecated, and in a future version of pandas the grouping columns will be excluded from the operation. Either pass `include_groups=False` to exclude the groupings or explicitly select the grouping columns after groupby to silence this warning.\n",
      "  .apply(lambda d: d.set_index('tx_datetime')['ones']\n",
      "/var/folders/v0/8r5h4ym13fb_mzmqc1hfkt580000gn/T/ipykernel_99039/458307417.py:5: FutureWarning: DataFrameGroupBy.apply operated on the grouping columns. This behavior is deprecated, and in a future version of pandas the grouping columns will be excluded from the operation. Either pass `include_groups=False` to exclude the groupings or explicitly select the grouping columns after groupby to silence this warning.\n",
      "  .apply(lambda d: d.set_index('tx_datetime')['ones']\n",
      "/var/folders/v0/8r5h4ym13fb_mzmqc1hfkt580000gn/T/ipykernel_99039/458307417.py:5: FutureWarning: DataFrameGroupBy.apply operated on the grouping columns. This behavior is deprecated, and in a future version of pandas the grouping columns will be excluded from the operation. Either pass `include_groups=False` to exclude the groupings or explicitly select the grouping columns after groupby to silence this warning.\n",
      "  .apply(lambda d: d.set_index('tx_datetime')['ones']\n",
      "/var/folders/v0/8r5h4ym13fb_mzmqc1hfkt580000gn/T/ipykernel_99039/458307417.py:5: FutureWarning: DataFrameGroupBy.apply operated on the grouping columns. This behavior is deprecated, and in a future version of pandas the grouping columns will be excluded from the operation. Either pass `include_groups=False` to exclude the groupings or explicitly select the grouping columns after groupby to silence this warning.\n",
      "  .apply(lambda d: d.set_index('tx_datetime')['ones']\n",
      "/var/folders/v0/8r5h4ym13fb_mzmqc1hfkt580000gn/T/ipykernel_99039/458307417.py:5: FutureWarning: DataFrameGroupBy.apply operated on the grouping columns. This behavior is deprecated, and in a future version of pandas the grouping columns will be excluded from the operation. Either pass `include_groups=False` to exclude the groupings or explicitly select the grouping columns after groupby to silence this warning.\n",
      "  .apply(lambda d: d.set_index('tx_datetime')['ones']\n",
      "/var/folders/v0/8r5h4ym13fb_mzmqc1hfkt580000gn/T/ipykernel_99039/458307417.py:5: FutureWarning: DataFrameGroupBy.apply operated on the grouping columns. This behavior is deprecated, and in a future version of pandas the grouping columns will be excluded from the operation. Either pass `include_groups=False` to exclude the groupings or explicitly select the grouping columns after groupby to silence this warning.\n",
      "  .apply(lambda d: d.set_index('tx_datetime')['ones']\n",
      "/var/folders/v0/8r5h4ym13fb_mzmqc1hfkt580000gn/T/ipykernel_99039/458307417.py:5: FutureWarning: DataFrameGroupBy.apply operated on the grouping columns. This behavior is deprecated, and in a future version of pandas the grouping columns will be excluded from the operation. Either pass `include_groups=False` to exclude the groupings or explicitly select the grouping columns after groupby to silence this warning.\n",
      "  .apply(lambda d: d.set_index('tx_datetime')['ones']\n",
      "/var/folders/v0/8r5h4ym13fb_mzmqc1hfkt580000gn/T/ipykernel_99039/458307417.py:5: FutureWarning: DataFrameGroupBy.apply operated on the grouping columns. This behavior is deprecated, and in a future version of pandas the grouping columns will be excluded from the operation. Either pass `include_groups=False` to exclude the groupings or explicitly select the grouping columns after groupby to silence this warning.\n",
      "  .apply(lambda d: d.set_index('tx_datetime')['ones']\n",
      "/var/folders/v0/8r5h4ym13fb_mzmqc1hfkt580000gn/T/ipykernel_99039/458307417.py:5: FutureWarning: DataFrameGroupBy.apply operated on the grouping columns. This behavior is deprecated, and in a future version of pandas the grouping columns will be excluded from the operation. Either pass `include_groups=False` to exclude the groupings or explicitly select the grouping columns after groupby to silence this warning.\n",
      "  .apply(lambda d: d.set_index('tx_datetime')['ones']\n",
      "/var/folders/v0/8r5h4ym13fb_mzmqc1hfkt580000gn/T/ipykernel_99039/458307417.py:5: FutureWarning: DataFrameGroupBy.apply operated on the grouping columns. This behavior is deprecated, and in a future version of pandas the grouping columns will be excluded from the operation. Either pass `include_groups=False` to exclude the groupings or explicitly select the grouping columns after groupby to silence this warning.\n",
      "  .apply(lambda d: d.set_index('tx_datetime')['ones']\n",
      "/var/folders/v0/8r5h4ym13fb_mzmqc1hfkt580000gn/T/ipykernel_99039/458307417.py:5: FutureWarning: DataFrameGroupBy.apply operated on the grouping columns. This behavior is deprecated, and in a future version of pandas the grouping columns will be excluded from the operation. Either pass `include_groups=False` to exclude the groupings or explicitly select the grouping columns after groupby to silence this warning.\n",
      "  .apply(lambda d: d.set_index('tx_datetime')['ones']\n",
      "/var/folders/v0/8r5h4ym13fb_mzmqc1hfkt580000gn/T/ipykernel_99039/458307417.py:5: FutureWarning: DataFrameGroupBy.apply operated on the grouping columns. This behavior is deprecated, and in a future version of pandas the grouping columns will be excluded from the operation. Either pass `include_groups=False` to exclude the groupings or explicitly select the grouping columns after groupby to silence this warning.\n",
      "  .apply(lambda d: d.set_index('tx_datetime')['ones']\n",
      "/var/folders/v0/8r5h4ym13fb_mzmqc1hfkt580000gn/T/ipykernel_99039/458307417.py:5: FutureWarning: DataFrameGroupBy.apply operated on the grouping columns. This behavior is deprecated, and in a future version of pandas the grouping columns will be excluded from the operation. Either pass `include_groups=False` to exclude the groupings or explicitly select the grouping columns after groupby to silence this warning.\n",
      "  .apply(lambda d: d.set_index('tx_datetime')['ones']\n",
      "/var/folders/v0/8r5h4ym13fb_mzmqc1hfkt580000gn/T/ipykernel_99039/458307417.py:5: FutureWarning: DataFrameGroupBy.apply operated on the grouping columns. This behavior is deprecated, and in a future version of pandas the grouping columns will be excluded from the operation. Either pass `include_groups=False` to exclude the groupings or explicitly select the grouping columns after groupby to silence this warning.\n",
      "  .apply(lambda d: d.set_index('tx_datetime')['ones']\n",
      "/var/folders/v0/8r5h4ym13fb_mzmqc1hfkt580000gn/T/ipykernel_99039/458307417.py:5: FutureWarning: DataFrameGroupBy.apply operated on the grouping columns. This behavior is deprecated, and in a future version of pandas the grouping columns will be excluded from the operation. Either pass `include_groups=False` to exclude the groupings or explicitly select the grouping columns after groupby to silence this warning.\n",
      "  .apply(lambda d: d.set_index('tx_datetime')['ones']\n"
     ]
    }
   ],
   "source": [
    "for df in X_train, X_val, X_test:\n",
    "    for window in WINDOWS + ['1h', '1d']:\n",
    "        vals = (\n",
    "            df.groupby('customer_id', group_keys=False)\n",
    "              .apply(lambda d: d.set_index('tx_datetime')['ones']\n",
    "                                .shift() # Exclude current transaction\n",
    "                                .rolling(window)\n",
    "                                .count())\n",
    "        ).to_numpy()\n",
    "        df[f'tx_count_{window}'] = vals\n",
    "        ROLLING_FEATURES.add(f'tx_count_{window}')"
   ]
  },
  {
   "cell_type": "markdown",
   "id": "ef3599de",
   "metadata": {},
   "source": [
    "### Number of client's transactions in sector"
   ]
  },
  {
   "cell_type": "code",
   "execution_count": 18,
   "id": "99ab3159",
   "metadata": {},
   "outputs": [
    {
     "name": "stderr",
     "output_type": "stream",
     "text": [
      "/var/folders/v0/8r5h4ym13fb_mzmqc1hfkt580000gn/T/ipykernel_99039/847003903.py:5: FutureWarning: DataFrameGroupBy.apply operated on the grouping columns. This behavior is deprecated, and in a future version of pandas the grouping columns will be excluded from the operation. Either pass `include_groups=False` to exclude the groupings or explicitly select the grouping columns after groupby to silence this warning.\n",
      "  .apply(lambda d: d.set_index('tx_datetime')['tx_amount']\n",
      "/var/folders/v0/8r5h4ym13fb_mzmqc1hfkt580000gn/T/ipykernel_99039/847003903.py:5: FutureWarning: DataFrameGroupBy.apply operated on the grouping columns. This behavior is deprecated, and in a future version of pandas the grouping columns will be excluded from the operation. Either pass `include_groups=False` to exclude the groupings or explicitly select the grouping columns after groupby to silence this warning.\n",
      "  .apply(lambda d: d.set_index('tx_datetime')['tx_amount']\n",
      "/var/folders/v0/8r5h4ym13fb_mzmqc1hfkt580000gn/T/ipykernel_99039/847003903.py:5: FutureWarning: DataFrameGroupBy.apply operated on the grouping columns. This behavior is deprecated, and in a future version of pandas the grouping columns will be excluded from the operation. Either pass `include_groups=False` to exclude the groupings or explicitly select the grouping columns after groupby to silence this warning.\n",
      "  .apply(lambda d: d.set_index('tx_datetime')['tx_amount']\n",
      "/var/folders/v0/8r5h4ym13fb_mzmqc1hfkt580000gn/T/ipykernel_99039/847003903.py:5: FutureWarning: DataFrameGroupBy.apply operated on the grouping columns. This behavior is deprecated, and in a future version of pandas the grouping columns will be excluded from the operation. Either pass `include_groups=False` to exclude the groupings or explicitly select the grouping columns after groupby to silence this warning.\n",
      "  .apply(lambda d: d.set_index('tx_datetime')['tx_amount']\n",
      "/var/folders/v0/8r5h4ym13fb_mzmqc1hfkt580000gn/T/ipykernel_99039/847003903.py:5: FutureWarning: DataFrameGroupBy.apply operated on the grouping columns. This behavior is deprecated, and in a future version of pandas the grouping columns will be excluded from the operation. Either pass `include_groups=False` to exclude the groupings or explicitly select the grouping columns after groupby to silence this warning.\n",
      "  .apply(lambda d: d.set_index('tx_datetime')['tx_amount']\n",
      "/var/folders/v0/8r5h4ym13fb_mzmqc1hfkt580000gn/T/ipykernel_99039/847003903.py:5: FutureWarning: DataFrameGroupBy.apply operated on the grouping columns. This behavior is deprecated, and in a future version of pandas the grouping columns will be excluded from the operation. Either pass `include_groups=False` to exclude the groupings or explicitly select the grouping columns after groupby to silence this warning.\n",
      "  .apply(lambda d: d.set_index('tx_datetime')['tx_amount']\n",
      "/var/folders/v0/8r5h4ym13fb_mzmqc1hfkt580000gn/T/ipykernel_99039/847003903.py:5: FutureWarning: DataFrameGroupBy.apply operated on the grouping columns. This behavior is deprecated, and in a future version of pandas the grouping columns will be excluded from the operation. Either pass `include_groups=False` to exclude the groupings or explicitly select the grouping columns after groupby to silence this warning.\n",
      "  .apply(lambda d: d.set_index('tx_datetime')['tx_amount']\n",
      "/var/folders/v0/8r5h4ym13fb_mzmqc1hfkt580000gn/T/ipykernel_99039/847003903.py:5: FutureWarning: DataFrameGroupBy.apply operated on the grouping columns. This behavior is deprecated, and in a future version of pandas the grouping columns will be excluded from the operation. Either pass `include_groups=False` to exclude the groupings or explicitly select the grouping columns after groupby to silence this warning.\n",
      "  .apply(lambda d: d.set_index('tx_datetime')['tx_amount']\n",
      "/var/folders/v0/8r5h4ym13fb_mzmqc1hfkt580000gn/T/ipykernel_99039/847003903.py:5: FutureWarning: DataFrameGroupBy.apply operated on the grouping columns. This behavior is deprecated, and in a future version of pandas the grouping columns will be excluded from the operation. Either pass `include_groups=False` to exclude the groupings or explicitly select the grouping columns after groupby to silence this warning.\n",
      "  .apply(lambda d: d.set_index('tx_datetime')['tx_amount']\n",
      "/var/folders/v0/8r5h4ym13fb_mzmqc1hfkt580000gn/T/ipykernel_99039/847003903.py:5: FutureWarning: DataFrameGroupBy.apply operated on the grouping columns. This behavior is deprecated, and in a future version of pandas the grouping columns will be excluded from the operation. Either pass `include_groups=False` to exclude the groupings or explicitly select the grouping columns after groupby to silence this warning.\n",
      "  .apply(lambda d: d.set_index('tx_datetime')['tx_amount']\n",
      "/var/folders/v0/8r5h4ym13fb_mzmqc1hfkt580000gn/T/ipykernel_99039/847003903.py:5: FutureWarning: DataFrameGroupBy.apply operated on the grouping columns. This behavior is deprecated, and in a future version of pandas the grouping columns will be excluded from the operation. Either pass `include_groups=False` to exclude the groupings or explicitly select the grouping columns after groupby to silence this warning.\n",
      "  .apply(lambda d: d.set_index('tx_datetime')['tx_amount']\n",
      "/var/folders/v0/8r5h4ym13fb_mzmqc1hfkt580000gn/T/ipykernel_99039/847003903.py:5: FutureWarning: DataFrameGroupBy.apply operated on the grouping columns. This behavior is deprecated, and in a future version of pandas the grouping columns will be excluded from the operation. Either pass `include_groups=False` to exclude the groupings or explicitly select the grouping columns after groupby to silence this warning.\n",
      "  .apply(lambda d: d.set_index('tx_datetime')['tx_amount']\n",
      "/var/folders/v0/8r5h4ym13fb_mzmqc1hfkt580000gn/T/ipykernel_99039/847003903.py:5: FutureWarning: DataFrameGroupBy.apply operated on the grouping columns. This behavior is deprecated, and in a future version of pandas the grouping columns will be excluded from the operation. Either pass `include_groups=False` to exclude the groupings or explicitly select the grouping columns after groupby to silence this warning.\n",
      "  .apply(lambda d: d.set_index('tx_datetime')['tx_amount']\n",
      "/var/folders/v0/8r5h4ym13fb_mzmqc1hfkt580000gn/T/ipykernel_99039/847003903.py:5: FutureWarning: DataFrameGroupBy.apply operated on the grouping columns. This behavior is deprecated, and in a future version of pandas the grouping columns will be excluded from the operation. Either pass `include_groups=False` to exclude the groupings or explicitly select the grouping columns after groupby to silence this warning.\n",
      "  .apply(lambda d: d.set_index('tx_datetime')['tx_amount']\n",
      "/var/folders/v0/8r5h4ym13fb_mzmqc1hfkt580000gn/T/ipykernel_99039/847003903.py:5: FutureWarning: DataFrameGroupBy.apply operated on the grouping columns. This behavior is deprecated, and in a future version of pandas the grouping columns will be excluded from the operation. Either pass `include_groups=False` to exclude the groupings or explicitly select the grouping columns after groupby to silence this warning.\n",
      "  .apply(lambda d: d.set_index('tx_datetime')['tx_amount']\n",
      "/var/folders/v0/8r5h4ym13fb_mzmqc1hfkt580000gn/T/ipykernel_99039/847003903.py:5: FutureWarning: DataFrameGroupBy.apply operated on the grouping columns. This behavior is deprecated, and in a future version of pandas the grouping columns will be excluded from the operation. Either pass `include_groups=False` to exclude the groupings or explicitly select the grouping columns after groupby to silence this warning.\n",
      "  .apply(lambda d: d.set_index('tx_datetime')['tx_amount']\n",
      "/var/folders/v0/8r5h4ym13fb_mzmqc1hfkt580000gn/T/ipykernel_99039/847003903.py:5: FutureWarning: DataFrameGroupBy.apply operated on the grouping columns. This behavior is deprecated, and in a future version of pandas the grouping columns will be excluded from the operation. Either pass `include_groups=False` to exclude the groupings or explicitly select the grouping columns after groupby to silence this warning.\n",
      "  .apply(lambda d: d.set_index('tx_datetime')['tx_amount']\n",
      "/var/folders/v0/8r5h4ym13fb_mzmqc1hfkt580000gn/T/ipykernel_99039/847003903.py:5: FutureWarning: DataFrameGroupBy.apply operated on the grouping columns. This behavior is deprecated, and in a future version of pandas the grouping columns will be excluded from the operation. Either pass `include_groups=False` to exclude the groupings or explicitly select the grouping columns after groupby to silence this warning.\n",
      "  .apply(lambda d: d.set_index('tx_datetime')['tx_amount']\n"
     ]
    }
   ],
   "source": [
    "for df in X_train, X_val, X_test:\n",
    "    for window in WINDOWS + ['1h', '1d']:\n",
    "        vals = (\n",
    "            df.groupby(['customer_id','sector_id'])\n",
    "            .apply(lambda d: d.set_index('tx_datetime')['tx_amount']\n",
    "                                .shift()\n",
    "                                .rolling(window, closed='both')\n",
    "                                .count())\n",
    "        ).to_numpy()\n",
    "        df[f'tx_count_sector_{window}'] = vals\n",
    "        ROLLING_FEATURES.add(f'tx_count_sector_{window}')"
   ]
  },
  {
   "cell_type": "code",
   "execution_count": 19,
   "id": "8a2f7597",
   "metadata": {},
   "outputs": [
    {
     "data": {
      "text/plain": [
       "{'interval_burstiness_14d',\n",
       " 'interval_burstiness_21d',\n",
       " 'interval_burstiness_30d',\n",
       " 'interval_burstiness_7d',\n",
       " 'interval_mean_14d',\n",
       " 'interval_mean_21d',\n",
       " 'interval_mean_30d',\n",
       " 'interval_mean_7d',\n",
       " 'interval_std_14d',\n",
       " 'interval_std_21d',\n",
       " 'interval_std_30d',\n",
       " 'interval_std_7d',\n",
       " 'interval_zscore_14d',\n",
       " 'interval_zscore_21d',\n",
       " 'interval_zscore_30d',\n",
       " 'interval_zscore_7d',\n",
       " 'tx_count_14d',\n",
       " 'tx_count_1d',\n",
       " 'tx_count_1h',\n",
       " 'tx_count_21d',\n",
       " 'tx_count_30d',\n",
       " 'tx_count_7d',\n",
       " 'tx_count_sector_14d',\n",
       " 'tx_count_sector_1d',\n",
       " 'tx_count_sector_1h',\n",
       " 'tx_count_sector_21d',\n",
       " 'tx_count_sector_30d',\n",
       " 'tx_count_sector_7d'}"
      ]
     },
     "execution_count": 19,
     "metadata": {},
     "output_type": "execute_result"
    }
   ],
   "source": [
    "ROLLING_FEATURES"
   ]
  },
  {
   "cell_type": "markdown",
   "id": "77d1e0a2",
   "metadata": {},
   "source": [
    "### Transaction's amount relatively to history"
   ]
  },
  {
   "cell_type": "code",
   "execution_count": 20,
   "id": "228b408a",
   "metadata": {},
   "outputs": [
    {
     "name": "stderr",
     "output_type": "stream",
     "text": [
      "/var/folders/v0/8r5h4ym13fb_mzmqc1hfkt580000gn/T/ipykernel_99039/1465332709.py:15: FutureWarning: DataFrameGroupBy.apply operated on the grouping columns. This behavior is deprecated, and in a future version of pandas the grouping columns will be excluded from the operation. Either pass `include_groups=False` to exclude the groupings or explicitly select the grouping columns after groupby to silence this warning.\n",
      "  .apply(lambda d: d.set_index('tx_datetime')[amount_col]\n",
      "/var/folders/v0/8r5h4ym13fb_mzmqc1hfkt580000gn/T/ipykernel_99039/1465332709.py:21: FutureWarning: DataFrameGroupBy.apply operated on the grouping columns. This behavior is deprecated, and in a future version of pandas the grouping columns will be excluded from the operation. Either pass `include_groups=False` to exclude the groupings or explicitly select the grouping columns after groupby to silence this warning.\n",
      "  .apply(lambda d: d.set_index('tx_datetime')[amount_col]\n",
      "/var/folders/v0/8r5h4ym13fb_mzmqc1hfkt580000gn/T/ipykernel_99039/1465332709.py:27: FutureWarning: DataFrameGroupBy.apply operated on the grouping columns. This behavior is deprecated, and in a future version of pandas the grouping columns will be excluded from the operation. Either pass `include_groups=False` to exclude the groupings or explicitly select the grouping columns after groupby to silence this warning.\n",
      "  .apply(lambda d: d.set_index('tx_datetime')[amount_col]\n",
      "/var/folders/v0/8r5h4ym13fb_mzmqc1hfkt580000gn/T/ipykernel_99039/1465332709.py:15: FutureWarning: DataFrameGroupBy.apply operated on the grouping columns. This behavior is deprecated, and in a future version of pandas the grouping columns will be excluded from the operation. Either pass `include_groups=False` to exclude the groupings or explicitly select the grouping columns after groupby to silence this warning.\n",
      "  .apply(lambda d: d.set_index('tx_datetime')[amount_col]\n",
      "/var/folders/v0/8r5h4ym13fb_mzmqc1hfkt580000gn/T/ipykernel_99039/1465332709.py:21: FutureWarning: DataFrameGroupBy.apply operated on the grouping columns. This behavior is deprecated, and in a future version of pandas the grouping columns will be excluded from the operation. Either pass `include_groups=False` to exclude the groupings or explicitly select the grouping columns after groupby to silence this warning.\n",
      "  .apply(lambda d: d.set_index('tx_datetime')[amount_col]\n",
      "/var/folders/v0/8r5h4ym13fb_mzmqc1hfkt580000gn/T/ipykernel_99039/1465332709.py:27: FutureWarning: DataFrameGroupBy.apply operated on the grouping columns. This behavior is deprecated, and in a future version of pandas the grouping columns will be excluded from the operation. Either pass `include_groups=False` to exclude the groupings or explicitly select the grouping columns after groupby to silence this warning.\n",
      "  .apply(lambda d: d.set_index('tx_datetime')[amount_col]\n",
      "/var/folders/v0/8r5h4ym13fb_mzmqc1hfkt580000gn/T/ipykernel_99039/1465332709.py:15: FutureWarning: DataFrameGroupBy.apply operated on the grouping columns. This behavior is deprecated, and in a future version of pandas the grouping columns will be excluded from the operation. Either pass `include_groups=False` to exclude the groupings or explicitly select the grouping columns after groupby to silence this warning.\n",
      "  .apply(lambda d: d.set_index('tx_datetime')[amount_col]\n",
      "/var/folders/v0/8r5h4ym13fb_mzmqc1hfkt580000gn/T/ipykernel_99039/1465332709.py:21: FutureWarning: DataFrameGroupBy.apply operated on the grouping columns. This behavior is deprecated, and in a future version of pandas the grouping columns will be excluded from the operation. Either pass `include_groups=False` to exclude the groupings or explicitly select the grouping columns after groupby to silence this warning.\n",
      "  .apply(lambda d: d.set_index('tx_datetime')[amount_col]\n",
      "/var/folders/v0/8r5h4ym13fb_mzmqc1hfkt580000gn/T/ipykernel_99039/1465332709.py:27: FutureWarning: DataFrameGroupBy.apply operated on the grouping columns. This behavior is deprecated, and in a future version of pandas the grouping columns will be excluded from the operation. Either pass `include_groups=False` to exclude the groupings or explicitly select the grouping columns after groupby to silence this warning.\n",
      "  .apply(lambda d: d.set_index('tx_datetime')[amount_col]\n",
      "/var/folders/v0/8r5h4ym13fb_mzmqc1hfkt580000gn/T/ipykernel_99039/1465332709.py:15: FutureWarning: DataFrameGroupBy.apply operated on the grouping columns. This behavior is deprecated, and in a future version of pandas the grouping columns will be excluded from the operation. Either pass `include_groups=False` to exclude the groupings or explicitly select the grouping columns after groupby to silence this warning.\n",
      "  .apply(lambda d: d.set_index('tx_datetime')[amount_col]\n",
      "/var/folders/v0/8r5h4ym13fb_mzmqc1hfkt580000gn/T/ipykernel_99039/1465332709.py:21: FutureWarning: DataFrameGroupBy.apply operated on the grouping columns. This behavior is deprecated, and in a future version of pandas the grouping columns will be excluded from the operation. Either pass `include_groups=False` to exclude the groupings or explicitly select the grouping columns after groupby to silence this warning.\n",
      "  .apply(lambda d: d.set_index('tx_datetime')[amount_col]\n",
      "/var/folders/v0/8r5h4ym13fb_mzmqc1hfkt580000gn/T/ipykernel_99039/1465332709.py:27: FutureWarning: DataFrameGroupBy.apply operated on the grouping columns. This behavior is deprecated, and in a future version of pandas the grouping columns will be excluded from the operation. Either pass `include_groups=False` to exclude the groupings or explicitly select the grouping columns after groupby to silence this warning.\n",
      "  .apply(lambda d: d.set_index('tx_datetime')[amount_col]\n",
      "/var/folders/v0/8r5h4ym13fb_mzmqc1hfkt580000gn/T/ipykernel_99039/1465332709.py:15: FutureWarning: DataFrameGroupBy.apply operated on the grouping columns. This behavior is deprecated, and in a future version of pandas the grouping columns will be excluded from the operation. Either pass `include_groups=False` to exclude the groupings or explicitly select the grouping columns after groupby to silence this warning.\n",
      "  .apply(lambda d: d.set_index('tx_datetime')[amount_col]\n",
      "/var/folders/v0/8r5h4ym13fb_mzmqc1hfkt580000gn/T/ipykernel_99039/1465332709.py:21: FutureWarning: DataFrameGroupBy.apply operated on the grouping columns. This behavior is deprecated, and in a future version of pandas the grouping columns will be excluded from the operation. Either pass `include_groups=False` to exclude the groupings or explicitly select the grouping columns after groupby to silence this warning.\n",
      "  .apply(lambda d: d.set_index('tx_datetime')[amount_col]\n",
      "/var/folders/v0/8r5h4ym13fb_mzmqc1hfkt580000gn/T/ipykernel_99039/1465332709.py:27: FutureWarning: DataFrameGroupBy.apply operated on the grouping columns. This behavior is deprecated, and in a future version of pandas the grouping columns will be excluded from the operation. Either pass `include_groups=False` to exclude the groupings or explicitly select the grouping columns after groupby to silence this warning.\n",
      "  .apply(lambda d: d.set_index('tx_datetime')[amount_col]\n",
      "/var/folders/v0/8r5h4ym13fb_mzmqc1hfkt580000gn/T/ipykernel_99039/1465332709.py:15: FutureWarning: DataFrameGroupBy.apply operated on the grouping columns. This behavior is deprecated, and in a future version of pandas the grouping columns will be excluded from the operation. Either pass `include_groups=False` to exclude the groupings or explicitly select the grouping columns after groupby to silence this warning.\n",
      "  .apply(lambda d: d.set_index('tx_datetime')[amount_col]\n",
      "/var/folders/v0/8r5h4ym13fb_mzmqc1hfkt580000gn/T/ipykernel_99039/1465332709.py:21: FutureWarning: DataFrameGroupBy.apply operated on the grouping columns. This behavior is deprecated, and in a future version of pandas the grouping columns will be excluded from the operation. Either pass `include_groups=False` to exclude the groupings or explicitly select the grouping columns after groupby to silence this warning.\n",
      "  .apply(lambda d: d.set_index('tx_datetime')[amount_col]\n",
      "/var/folders/v0/8r5h4ym13fb_mzmqc1hfkt580000gn/T/ipykernel_99039/1465332709.py:27: FutureWarning: DataFrameGroupBy.apply operated on the grouping columns. This behavior is deprecated, and in a future version of pandas the grouping columns will be excluded from the operation. Either pass `include_groups=False` to exclude the groupings or explicitly select the grouping columns after groupby to silence this warning.\n",
      "  .apply(lambda d: d.set_index('tx_datetime')[amount_col]\n",
      "/var/folders/v0/8r5h4ym13fb_mzmqc1hfkt580000gn/T/ipykernel_99039/1465332709.py:15: FutureWarning: DataFrameGroupBy.apply operated on the grouping columns. This behavior is deprecated, and in a future version of pandas the grouping columns will be excluded from the operation. Either pass `include_groups=False` to exclude the groupings or explicitly select the grouping columns after groupby to silence this warning.\n",
      "  .apply(lambda d: d.set_index('tx_datetime')[amount_col]\n",
      "/var/folders/v0/8r5h4ym13fb_mzmqc1hfkt580000gn/T/ipykernel_99039/1465332709.py:21: FutureWarning: DataFrameGroupBy.apply operated on the grouping columns. This behavior is deprecated, and in a future version of pandas the grouping columns will be excluded from the operation. Either pass `include_groups=False` to exclude the groupings or explicitly select the grouping columns after groupby to silence this warning.\n",
      "  .apply(lambda d: d.set_index('tx_datetime')[amount_col]\n",
      "/var/folders/v0/8r5h4ym13fb_mzmqc1hfkt580000gn/T/ipykernel_99039/1465332709.py:27: FutureWarning: DataFrameGroupBy.apply operated on the grouping columns. This behavior is deprecated, and in a future version of pandas the grouping columns will be excluded from the operation. Either pass `include_groups=False` to exclude the groupings or explicitly select the grouping columns after groupby to silence this warning.\n",
      "  .apply(lambda d: d.set_index('tx_datetime')[amount_col]\n",
      "/var/folders/v0/8r5h4ym13fb_mzmqc1hfkt580000gn/T/ipykernel_99039/1465332709.py:15: FutureWarning: DataFrameGroupBy.apply operated on the grouping columns. This behavior is deprecated, and in a future version of pandas the grouping columns will be excluded from the operation. Either pass `include_groups=False` to exclude the groupings or explicitly select the grouping columns after groupby to silence this warning.\n",
      "  .apply(lambda d: d.set_index('tx_datetime')[amount_col]\n",
      "/var/folders/v0/8r5h4ym13fb_mzmqc1hfkt580000gn/T/ipykernel_99039/1465332709.py:21: FutureWarning: DataFrameGroupBy.apply operated on the grouping columns. This behavior is deprecated, and in a future version of pandas the grouping columns will be excluded from the operation. Either pass `include_groups=False` to exclude the groupings or explicitly select the grouping columns after groupby to silence this warning.\n",
      "  .apply(lambda d: d.set_index('tx_datetime')[amount_col]\n",
      "/var/folders/v0/8r5h4ym13fb_mzmqc1hfkt580000gn/T/ipykernel_99039/1465332709.py:27: FutureWarning: DataFrameGroupBy.apply operated on the grouping columns. This behavior is deprecated, and in a future version of pandas the grouping columns will be excluded from the operation. Either pass `include_groups=False` to exclude the groupings or explicitly select the grouping columns after groupby to silence this warning.\n",
      "  .apply(lambda d: d.set_index('tx_datetime')[amount_col]\n",
      "/var/folders/v0/8r5h4ym13fb_mzmqc1hfkt580000gn/T/ipykernel_99039/1465332709.py:15: FutureWarning: DataFrameGroupBy.apply operated on the grouping columns. This behavior is deprecated, and in a future version of pandas the grouping columns will be excluded from the operation. Either pass `include_groups=False` to exclude the groupings or explicitly select the grouping columns after groupby to silence this warning.\n",
      "  .apply(lambda d: d.set_index('tx_datetime')[amount_col]\n",
      "/var/folders/v0/8r5h4ym13fb_mzmqc1hfkt580000gn/T/ipykernel_99039/1465332709.py:21: FutureWarning: DataFrameGroupBy.apply operated on the grouping columns. This behavior is deprecated, and in a future version of pandas the grouping columns will be excluded from the operation. Either pass `include_groups=False` to exclude the groupings or explicitly select the grouping columns after groupby to silence this warning.\n",
      "  .apply(lambda d: d.set_index('tx_datetime')[amount_col]\n",
      "/var/folders/v0/8r5h4ym13fb_mzmqc1hfkt580000gn/T/ipykernel_99039/1465332709.py:27: FutureWarning: DataFrameGroupBy.apply operated on the grouping columns. This behavior is deprecated, and in a future version of pandas the grouping columns will be excluded from the operation. Either pass `include_groups=False` to exclude the groupings or explicitly select the grouping columns after groupby to silence this warning.\n",
      "  .apply(lambda d: d.set_index('tx_datetime')[amount_col]\n",
      "/var/folders/v0/8r5h4ym13fb_mzmqc1hfkt580000gn/T/ipykernel_99039/1465332709.py:15: FutureWarning: DataFrameGroupBy.apply operated on the grouping columns. This behavior is deprecated, and in a future version of pandas the grouping columns will be excluded from the operation. Either pass `include_groups=False` to exclude the groupings or explicitly select the grouping columns after groupby to silence this warning.\n",
      "  .apply(lambda d: d.set_index('tx_datetime')[amount_col]\n",
      "/var/folders/v0/8r5h4ym13fb_mzmqc1hfkt580000gn/T/ipykernel_99039/1465332709.py:21: FutureWarning: DataFrameGroupBy.apply operated on the grouping columns. This behavior is deprecated, and in a future version of pandas the grouping columns will be excluded from the operation. Either pass `include_groups=False` to exclude the groupings or explicitly select the grouping columns after groupby to silence this warning.\n",
      "  .apply(lambda d: d.set_index('tx_datetime')[amount_col]\n",
      "/var/folders/v0/8r5h4ym13fb_mzmqc1hfkt580000gn/T/ipykernel_99039/1465332709.py:27: FutureWarning: DataFrameGroupBy.apply operated on the grouping columns. This behavior is deprecated, and in a future version of pandas the grouping columns will be excluded from the operation. Either pass `include_groups=False` to exclude the groupings or explicitly select the grouping columns after groupby to silence this warning.\n",
      "  .apply(lambda d: d.set_index('tx_datetime')[amount_col]\n",
      "/var/folders/v0/8r5h4ym13fb_mzmqc1hfkt580000gn/T/ipykernel_99039/1465332709.py:15: FutureWarning: DataFrameGroupBy.apply operated on the grouping columns. This behavior is deprecated, and in a future version of pandas the grouping columns will be excluded from the operation. Either pass `include_groups=False` to exclude the groupings or explicitly select the grouping columns after groupby to silence this warning.\n",
      "  .apply(lambda d: d.set_index('tx_datetime')[amount_col]\n",
      "/var/folders/v0/8r5h4ym13fb_mzmqc1hfkt580000gn/T/ipykernel_99039/1465332709.py:21: FutureWarning: DataFrameGroupBy.apply operated on the grouping columns. This behavior is deprecated, and in a future version of pandas the grouping columns will be excluded from the operation. Either pass `include_groups=False` to exclude the groupings or explicitly select the grouping columns after groupby to silence this warning.\n",
      "  .apply(lambda d: d.set_index('tx_datetime')[amount_col]\n",
      "/var/folders/v0/8r5h4ym13fb_mzmqc1hfkt580000gn/T/ipykernel_99039/1465332709.py:27: FutureWarning: DataFrameGroupBy.apply operated on the grouping columns. This behavior is deprecated, and in a future version of pandas the grouping columns will be excluded from the operation. Either pass `include_groups=False` to exclude the groupings or explicitly select the grouping columns after groupby to silence this warning.\n",
      "  .apply(lambda d: d.set_index('tx_datetime')[amount_col]\n",
      "/var/folders/v0/8r5h4ym13fb_mzmqc1hfkt580000gn/T/ipykernel_99039/1465332709.py:15: FutureWarning: DataFrameGroupBy.apply operated on the grouping columns. This behavior is deprecated, and in a future version of pandas the grouping columns will be excluded from the operation. Either pass `include_groups=False` to exclude the groupings or explicitly select the grouping columns after groupby to silence this warning.\n",
      "  .apply(lambda d: d.set_index('tx_datetime')[amount_col]\n",
      "/var/folders/v0/8r5h4ym13fb_mzmqc1hfkt580000gn/T/ipykernel_99039/1465332709.py:21: FutureWarning: DataFrameGroupBy.apply operated on the grouping columns. This behavior is deprecated, and in a future version of pandas the grouping columns will be excluded from the operation. Either pass `include_groups=False` to exclude the groupings or explicitly select the grouping columns after groupby to silence this warning.\n",
      "  .apply(lambda d: d.set_index('tx_datetime')[amount_col]\n",
      "/var/folders/v0/8r5h4ym13fb_mzmqc1hfkt580000gn/T/ipykernel_99039/1465332709.py:27: FutureWarning: DataFrameGroupBy.apply operated on the grouping columns. This behavior is deprecated, and in a future version of pandas the grouping columns will be excluded from the operation. Either pass `include_groups=False` to exclude the groupings or explicitly select the grouping columns after groupby to silence this warning.\n",
      "  .apply(lambda d: d.set_index('tx_datetime')[amount_col]\n",
      "/var/folders/v0/8r5h4ym13fb_mzmqc1hfkt580000gn/T/ipykernel_99039/1465332709.py:15: FutureWarning: DataFrameGroupBy.apply operated on the grouping columns. This behavior is deprecated, and in a future version of pandas the grouping columns will be excluded from the operation. Either pass `include_groups=False` to exclude the groupings or explicitly select the grouping columns after groupby to silence this warning.\n",
      "  .apply(lambda d: d.set_index('tx_datetime')[amount_col]\n",
      "/var/folders/v0/8r5h4ym13fb_mzmqc1hfkt580000gn/T/ipykernel_99039/1465332709.py:21: FutureWarning: DataFrameGroupBy.apply operated on the grouping columns. This behavior is deprecated, and in a future version of pandas the grouping columns will be excluded from the operation. Either pass `include_groups=False` to exclude the groupings or explicitly select the grouping columns after groupby to silence this warning.\n",
      "  .apply(lambda d: d.set_index('tx_datetime')[amount_col]\n",
      "/var/folders/v0/8r5h4ym13fb_mzmqc1hfkt580000gn/T/ipykernel_99039/1465332709.py:27: FutureWarning: DataFrameGroupBy.apply operated on the grouping columns. This behavior is deprecated, and in a future version of pandas the grouping columns will be excluded from the operation. Either pass `include_groups=False` to exclude the groupings or explicitly select the grouping columns after groupby to silence this warning.\n",
      "  .apply(lambda d: d.set_index('tx_datetime')[amount_col]\n",
      "/var/folders/v0/8r5h4ym13fb_mzmqc1hfkt580000gn/T/ipykernel_99039/1465332709.py:15: FutureWarning: DataFrameGroupBy.apply operated on the grouping columns. This behavior is deprecated, and in a future version of pandas the grouping columns will be excluded from the operation. Either pass `include_groups=False` to exclude the groupings or explicitly select the grouping columns after groupby to silence this warning.\n",
      "  .apply(lambda d: d.set_index('tx_datetime')[amount_col]\n",
      "/var/folders/v0/8r5h4ym13fb_mzmqc1hfkt580000gn/T/ipykernel_99039/1465332709.py:21: FutureWarning: DataFrameGroupBy.apply operated on the grouping columns. This behavior is deprecated, and in a future version of pandas the grouping columns will be excluded from the operation. Either pass `include_groups=False` to exclude the groupings or explicitly select the grouping columns after groupby to silence this warning.\n",
      "  .apply(lambda d: d.set_index('tx_datetime')[amount_col]\n",
      "/var/folders/v0/8r5h4ym13fb_mzmqc1hfkt580000gn/T/ipykernel_99039/1465332709.py:27: FutureWarning: DataFrameGroupBy.apply operated on the grouping columns. This behavior is deprecated, and in a future version of pandas the grouping columns will be excluded from the operation. Either pass `include_groups=False` to exclude the groupings or explicitly select the grouping columns after groupby to silence this warning.\n",
      "  .apply(lambda d: d.set_index('tx_datetime')[amount_col]\n",
      "/var/folders/v0/8r5h4ym13fb_mzmqc1hfkt580000gn/T/ipykernel_99039/1465332709.py:15: FutureWarning: DataFrameGroupBy.apply operated on the grouping columns. This behavior is deprecated, and in a future version of pandas the grouping columns will be excluded from the operation. Either pass `include_groups=False` to exclude the groupings or explicitly select the grouping columns after groupby to silence this warning.\n",
      "  .apply(lambda d: d.set_index('tx_datetime')[amount_col]\n",
      "/var/folders/v0/8r5h4ym13fb_mzmqc1hfkt580000gn/T/ipykernel_99039/1465332709.py:21: FutureWarning: DataFrameGroupBy.apply operated on the grouping columns. This behavior is deprecated, and in a future version of pandas the grouping columns will be excluded from the operation. Either pass `include_groups=False` to exclude the groupings or explicitly select the grouping columns after groupby to silence this warning.\n",
      "  .apply(lambda d: d.set_index('tx_datetime')[amount_col]\n",
      "/var/folders/v0/8r5h4ym13fb_mzmqc1hfkt580000gn/T/ipykernel_99039/1465332709.py:27: FutureWarning: DataFrameGroupBy.apply operated on the grouping columns. This behavior is deprecated, and in a future version of pandas the grouping columns will be excluded from the operation. Either pass `include_groups=False` to exclude the groupings or explicitly select the grouping columns after groupby to silence this warning.\n",
      "  .apply(lambda d: d.set_index('tx_datetime')[amount_col]\n",
      "/var/folders/v0/8r5h4ym13fb_mzmqc1hfkt580000gn/T/ipykernel_99039/1465332709.py:15: FutureWarning: DataFrameGroupBy.apply operated on the grouping columns. This behavior is deprecated, and in a future version of pandas the grouping columns will be excluded from the operation. Either pass `include_groups=False` to exclude the groupings or explicitly select the grouping columns after groupby to silence this warning.\n",
      "  .apply(lambda d: d.set_index('tx_datetime')[amount_col]\n",
      "/var/folders/v0/8r5h4ym13fb_mzmqc1hfkt580000gn/T/ipykernel_99039/1465332709.py:21: FutureWarning: DataFrameGroupBy.apply operated on the grouping columns. This behavior is deprecated, and in a future version of pandas the grouping columns will be excluded from the operation. Either pass `include_groups=False` to exclude the groupings or explicitly select the grouping columns after groupby to silence this warning.\n",
      "  .apply(lambda d: d.set_index('tx_datetime')[amount_col]\n",
      "/var/folders/v0/8r5h4ym13fb_mzmqc1hfkt580000gn/T/ipykernel_99039/1465332709.py:27: FutureWarning: DataFrameGroupBy.apply operated on the grouping columns. This behavior is deprecated, and in a future version of pandas the grouping columns will be excluded from the operation. Either pass `include_groups=False` to exclude the groupings or explicitly select the grouping columns after groupby to silence this warning.\n",
      "  .apply(lambda d: d.set_index('tx_datetime')[amount_col]\n",
      "/var/folders/v0/8r5h4ym13fb_mzmqc1hfkt580000gn/T/ipykernel_99039/1465332709.py:15: FutureWarning: DataFrameGroupBy.apply operated on the grouping columns. This behavior is deprecated, and in a future version of pandas the grouping columns will be excluded from the operation. Either pass `include_groups=False` to exclude the groupings or explicitly select the grouping columns after groupby to silence this warning.\n",
      "  .apply(lambda d: d.set_index('tx_datetime')[amount_col]\n",
      "/var/folders/v0/8r5h4ym13fb_mzmqc1hfkt580000gn/T/ipykernel_99039/1465332709.py:21: FutureWarning: DataFrameGroupBy.apply operated on the grouping columns. This behavior is deprecated, and in a future version of pandas the grouping columns will be excluded from the operation. Either pass `include_groups=False` to exclude the groupings or explicitly select the grouping columns after groupby to silence this warning.\n",
      "  .apply(lambda d: d.set_index('tx_datetime')[amount_col]\n",
      "/var/folders/v0/8r5h4ym13fb_mzmqc1hfkt580000gn/T/ipykernel_99039/1465332709.py:27: FutureWarning: DataFrameGroupBy.apply operated on the grouping columns. This behavior is deprecated, and in a future version of pandas the grouping columns will be excluded from the operation. Either pass `include_groups=False` to exclude the groupings or explicitly select the grouping columns after groupby to silence this warning.\n",
      "  .apply(lambda d: d.set_index('tx_datetime')[amount_col]\n",
      "/var/folders/v0/8r5h4ym13fb_mzmqc1hfkt580000gn/T/ipykernel_99039/1465332709.py:15: FutureWarning: DataFrameGroupBy.apply operated on the grouping columns. This behavior is deprecated, and in a future version of pandas the grouping columns will be excluded from the operation. Either pass `include_groups=False` to exclude the groupings or explicitly select the grouping columns after groupby to silence this warning.\n",
      "  .apply(lambda d: d.set_index('tx_datetime')[amount_col]\n",
      "/var/folders/v0/8r5h4ym13fb_mzmqc1hfkt580000gn/T/ipykernel_99039/1465332709.py:21: FutureWarning: DataFrameGroupBy.apply operated on the grouping columns. This behavior is deprecated, and in a future version of pandas the grouping columns will be excluded from the operation. Either pass `include_groups=False` to exclude the groupings or explicitly select the grouping columns after groupby to silence this warning.\n",
      "  .apply(lambda d: d.set_index('tx_datetime')[amount_col]\n",
      "/var/folders/v0/8r5h4ym13fb_mzmqc1hfkt580000gn/T/ipykernel_99039/1465332709.py:27: FutureWarning: DataFrameGroupBy.apply operated on the grouping columns. This behavior is deprecated, and in a future version of pandas the grouping columns will be excluded from the operation. Either pass `include_groups=False` to exclude the groupings or explicitly select the grouping columns after groupby to silence this warning.\n",
      "  .apply(lambda d: d.set_index('tx_datetime')[amount_col]\n",
      "/var/folders/v0/8r5h4ym13fb_mzmqc1hfkt580000gn/T/ipykernel_99039/1465332709.py:15: FutureWarning: DataFrameGroupBy.apply operated on the grouping columns. This behavior is deprecated, and in a future version of pandas the grouping columns will be excluded from the operation. Either pass `include_groups=False` to exclude the groupings or explicitly select the grouping columns after groupby to silence this warning.\n",
      "  .apply(lambda d: d.set_index('tx_datetime')[amount_col]\n",
      "/var/folders/v0/8r5h4ym13fb_mzmqc1hfkt580000gn/T/ipykernel_99039/1465332709.py:21: FutureWarning: DataFrameGroupBy.apply operated on the grouping columns. This behavior is deprecated, and in a future version of pandas the grouping columns will be excluded from the operation. Either pass `include_groups=False` to exclude the groupings or explicitly select the grouping columns after groupby to silence this warning.\n",
      "  .apply(lambda d: d.set_index('tx_datetime')[amount_col]\n",
      "/var/folders/v0/8r5h4ym13fb_mzmqc1hfkt580000gn/T/ipykernel_99039/1465332709.py:27: FutureWarning: DataFrameGroupBy.apply operated on the grouping columns. This behavior is deprecated, and in a future version of pandas the grouping columns will be excluded from the operation. Either pass `include_groups=False` to exclude the groupings or explicitly select the grouping columns after groupby to silence this warning.\n",
      "  .apply(lambda d: d.set_index('tx_datetime')[amount_col]\n",
      "/var/folders/v0/8r5h4ym13fb_mzmqc1hfkt580000gn/T/ipykernel_99039/1465332709.py:15: FutureWarning: DataFrameGroupBy.apply operated on the grouping columns. This behavior is deprecated, and in a future version of pandas the grouping columns will be excluded from the operation. Either pass `include_groups=False` to exclude the groupings or explicitly select the grouping columns after groupby to silence this warning.\n",
      "  .apply(lambda d: d.set_index('tx_datetime')[amount_col]\n",
      "/var/folders/v0/8r5h4ym13fb_mzmqc1hfkt580000gn/T/ipykernel_99039/1465332709.py:21: FutureWarning: DataFrameGroupBy.apply operated on the grouping columns. This behavior is deprecated, and in a future version of pandas the grouping columns will be excluded from the operation. Either pass `include_groups=False` to exclude the groupings or explicitly select the grouping columns after groupby to silence this warning.\n",
      "  .apply(lambda d: d.set_index('tx_datetime')[amount_col]\n",
      "/var/folders/v0/8r5h4ym13fb_mzmqc1hfkt580000gn/T/ipykernel_99039/1465332709.py:27: FutureWarning: DataFrameGroupBy.apply operated on the grouping columns. This behavior is deprecated, and in a future version of pandas the grouping columns will be excluded from the operation. Either pass `include_groups=False` to exclude the groupings or explicitly select the grouping columns after groupby to silence this warning.\n",
      "  .apply(lambda d: d.set_index('tx_datetime')[amount_col]\n",
      "/var/folders/v0/8r5h4ym13fb_mzmqc1hfkt580000gn/T/ipykernel_99039/1465332709.py:15: FutureWarning: DataFrameGroupBy.apply operated on the grouping columns. This behavior is deprecated, and in a future version of pandas the grouping columns will be excluded from the operation. Either pass `include_groups=False` to exclude the groupings or explicitly select the grouping columns after groupby to silence this warning.\n",
      "  .apply(lambda d: d.set_index('tx_datetime')[amount_col]\n",
      "/var/folders/v0/8r5h4ym13fb_mzmqc1hfkt580000gn/T/ipykernel_99039/1465332709.py:21: FutureWarning: DataFrameGroupBy.apply operated on the grouping columns. This behavior is deprecated, and in a future version of pandas the grouping columns will be excluded from the operation. Either pass `include_groups=False` to exclude the groupings or explicitly select the grouping columns after groupby to silence this warning.\n",
      "  .apply(lambda d: d.set_index('tx_datetime')[amount_col]\n",
      "/var/folders/v0/8r5h4ym13fb_mzmqc1hfkt580000gn/T/ipykernel_99039/1465332709.py:27: FutureWarning: DataFrameGroupBy.apply operated on the grouping columns. This behavior is deprecated, and in a future version of pandas the grouping columns will be excluded from the operation. Either pass `include_groups=False` to exclude the groupings or explicitly select the grouping columns after groupby to silence this warning.\n",
      "  .apply(lambda d: d.set_index('tx_datetime')[amount_col]\n",
      "/var/folders/v0/8r5h4ym13fb_mzmqc1hfkt580000gn/T/ipykernel_99039/1465332709.py:15: FutureWarning: DataFrameGroupBy.apply operated on the grouping columns. This behavior is deprecated, and in a future version of pandas the grouping columns will be excluded from the operation. Either pass `include_groups=False` to exclude the groupings or explicitly select the grouping columns after groupby to silence this warning.\n",
      "  .apply(lambda d: d.set_index('tx_datetime')[amount_col]\n",
      "/var/folders/v0/8r5h4ym13fb_mzmqc1hfkt580000gn/T/ipykernel_99039/1465332709.py:21: FutureWarning: DataFrameGroupBy.apply operated on the grouping columns. This behavior is deprecated, and in a future version of pandas the grouping columns will be excluded from the operation. Either pass `include_groups=False` to exclude the groupings or explicitly select the grouping columns after groupby to silence this warning.\n",
      "  .apply(lambda d: d.set_index('tx_datetime')[amount_col]\n",
      "/var/folders/v0/8r5h4ym13fb_mzmqc1hfkt580000gn/T/ipykernel_99039/1465332709.py:27: FutureWarning: DataFrameGroupBy.apply operated on the grouping columns. This behavior is deprecated, and in a future version of pandas the grouping columns will be excluded from the operation. Either pass `include_groups=False` to exclude the groupings or explicitly select the grouping columns after groupby to silence this warning.\n",
      "  .apply(lambda d: d.set_index('tx_datetime')[amount_col]\n",
      "/var/folders/v0/8r5h4ym13fb_mzmqc1hfkt580000gn/T/ipykernel_99039/1465332709.py:15: FutureWarning: DataFrameGroupBy.apply operated on the grouping columns. This behavior is deprecated, and in a future version of pandas the grouping columns will be excluded from the operation. Either pass `include_groups=False` to exclude the groupings or explicitly select the grouping columns after groupby to silence this warning.\n",
      "  .apply(lambda d: d.set_index('tx_datetime')[amount_col]\n",
      "/var/folders/v0/8r5h4ym13fb_mzmqc1hfkt580000gn/T/ipykernel_99039/1465332709.py:21: FutureWarning: DataFrameGroupBy.apply operated on the grouping columns. This behavior is deprecated, and in a future version of pandas the grouping columns will be excluded from the operation. Either pass `include_groups=False` to exclude the groupings or explicitly select the grouping columns after groupby to silence this warning.\n",
      "  .apply(lambda d: d.set_index('tx_datetime')[amount_col]\n",
      "/var/folders/v0/8r5h4ym13fb_mzmqc1hfkt580000gn/T/ipykernel_99039/1465332709.py:27: FutureWarning: DataFrameGroupBy.apply operated on the grouping columns. This behavior is deprecated, and in a future version of pandas the grouping columns will be excluded from the operation. Either pass `include_groups=False` to exclude the groupings or explicitly select the grouping columns after groupby to silence this warning.\n",
      "  .apply(lambda d: d.set_index('tx_datetime')[amount_col]\n",
      "/var/folders/v0/8r5h4ym13fb_mzmqc1hfkt580000gn/T/ipykernel_99039/1465332709.py:15: FutureWarning: DataFrameGroupBy.apply operated on the grouping columns. This behavior is deprecated, and in a future version of pandas the grouping columns will be excluded from the operation. Either pass `include_groups=False` to exclude the groupings or explicitly select the grouping columns after groupby to silence this warning.\n",
      "  .apply(lambda d: d.set_index('tx_datetime')[amount_col]\n",
      "/var/folders/v0/8r5h4ym13fb_mzmqc1hfkt580000gn/T/ipykernel_99039/1465332709.py:21: FutureWarning: DataFrameGroupBy.apply operated on the grouping columns. This behavior is deprecated, and in a future version of pandas the grouping columns will be excluded from the operation. Either pass `include_groups=False` to exclude the groupings or explicitly select the grouping columns after groupby to silence this warning.\n",
      "  .apply(lambda d: d.set_index('tx_datetime')[amount_col]\n",
      "/var/folders/v0/8r5h4ym13fb_mzmqc1hfkt580000gn/T/ipykernel_99039/1465332709.py:27: FutureWarning: DataFrameGroupBy.apply operated on the grouping columns. This behavior is deprecated, and in a future version of pandas the grouping columns will be excluded from the operation. Either pass `include_groups=False` to exclude the groupings or explicitly select the grouping columns after groupby to silence this warning.\n",
      "  .apply(lambda d: d.set_index('tx_datetime')[amount_col]\n"
     ]
    }
   ],
   "source": [
    "for df in X_train, X_val, X_test:\n",
    "    for amount_col in AMOUNT_FEATURES.keys():\n",
    "        exp_mean = (df.groupby('customer_id', group_keys=False)[amount_col]\n",
    "                    .apply(lambda s: s.shift().expanding().mean()))\n",
    "        exp_std  = (df.groupby('customer_id', group_keys=False)[amount_col]\n",
    "                    .apply(lambda s: s.shift().expanding().std()))\n",
    "\n",
    "        df['customer_exp_mean'] = exp_mean.to_numpy()\n",
    "        df['customer_exp_std']  = exp_std.to_numpy()\n",
    "\n",
    "        df['ratio_to_customer_mean']  = df[amount_col] / (df['customer_exp_mean'] + eps)\n",
    "        df['zscore_amount_customer']  = (df[amount_col] - df['customer_exp_mean']) / (df['customer_exp_std'] + eps)\n",
    "        for window in WINDOWS:\n",
    "            mean_vals = (df.groupby('customer_id', group_keys=False)\n",
    "                       .apply(lambda d: d.set_index('tx_datetime')[amount_col]\n",
    "                                         .rolling(window, closed='left').mean())\n",
    "                    ).to_numpy()\n",
    "            df[f'{amount_col}_mean_{window.lower()}'] = mean_vals\n",
    "\n",
    "            median_vals = (df.groupby('customer_id', group_keys=False)\n",
    "                            .apply(lambda d: d.set_index('tx_datetime')[amount_col]\n",
    "                                            .rolling(window, closed='left').median())\n",
    "                        ).to_numpy()\n",
    "            df[f'{amount_col}_median_{window.lower()}'] = median_vals\n",
    "\n",
    "            std_vals = (df.groupby('customer_id', group_keys=False)\n",
    "                        .apply(lambda d: d.set_index('tx_datetime')[amount_col]\n",
    "                                            .rolling(window, closed='left').std())\n",
    "                    ).to_numpy()\n",
    "            df[f'{amount_col}_std_{window.lower()}'] = std_vals\n",
    "            AMOUNT_FEATURES[amount_col] = AMOUNT_FEATURES[amount_col].union([\n",
    "                f'{amount_col}_mean_{window.lower()}',\n",
    "                f'{amount_col}_median_{window.lower()}',\n",
    "                f'{amount_col}_std_{window.lower()}'\n",
    "            ])\n",
    "\n",
    "        fill_cols = ['customer_exp_mean','customer_exp_std','ratio_to_customer_mean','zscore_amount_customer']\n",
    "        df[fill_cols] = df[fill_cols].replace([np.inf, -np.inf], np.nan).fillna(0.0)\n",
    "        AMOUNT_FEATURES[amount_col] = AMOUNT_FEATURES[amount_col].union(fill_cols)\n",
    "\n"
   ]
  },
  {
   "cell_type": "markdown",
   "id": "ea6481b2",
   "metadata": {},
   "source": [
    "## Sector-related features"
   ]
  },
  {
   "cell_type": "code",
   "execution_count": 21,
   "id": "079ddaa6",
   "metadata": {},
   "outputs": [
    {
     "name": "stderr",
     "output_type": "stream",
     "text": [
      "/var/folders/v0/8r5h4ym13fb_mzmqc1hfkt580000gn/T/ipykernel_99039/2567663565.py:16: FutureWarning: DataFrameGroupBy.apply operated on the grouping columns. This behavior is deprecated, and in a future version of pandas the grouping columns will be excluded from the operation. Either pass `include_groups=False` to exclude the groupings or explicitly select the grouping columns after groupby to silence this warning.\n",
      "  .apply(lambda d: d.set_index('tx_datetime')['sector_id']\n",
      "/var/folders/v0/8r5h4ym13fb_mzmqc1hfkt580000gn/T/ipykernel_99039/2567663565.py:25: FutureWarning: DataFrameGroupBy.apply operated on the grouping columns. This behavior is deprecated, and in a future version of pandas the grouping columns will be excluded from the operation. Either pass `include_groups=False` to exclude the groupings or explicitly select the grouping columns after groupby to silence this warning.\n",
      "  .apply(lambda d: d.set_index('tx_datetime')['sector_switch_flag']\n",
      "/var/folders/v0/8r5h4ym13fb_mzmqc1hfkt580000gn/T/ipykernel_99039/2567663565.py:16: FutureWarning: DataFrameGroupBy.apply operated on the grouping columns. This behavior is deprecated, and in a future version of pandas the grouping columns will be excluded from the operation. Either pass `include_groups=False` to exclude the groupings or explicitly select the grouping columns after groupby to silence this warning.\n",
      "  .apply(lambda d: d.set_index('tx_datetime')['sector_id']\n",
      "/var/folders/v0/8r5h4ym13fb_mzmqc1hfkt580000gn/T/ipykernel_99039/2567663565.py:25: FutureWarning: DataFrameGroupBy.apply operated on the grouping columns. This behavior is deprecated, and in a future version of pandas the grouping columns will be excluded from the operation. Either pass `include_groups=False` to exclude the groupings or explicitly select the grouping columns after groupby to silence this warning.\n",
      "  .apply(lambda d: d.set_index('tx_datetime')['sector_switch_flag']\n",
      "/var/folders/v0/8r5h4ym13fb_mzmqc1hfkt580000gn/T/ipykernel_99039/2567663565.py:16: FutureWarning: DataFrameGroupBy.apply operated on the grouping columns. This behavior is deprecated, and in a future version of pandas the grouping columns will be excluded from the operation. Either pass `include_groups=False` to exclude the groupings or explicitly select the grouping columns after groupby to silence this warning.\n",
      "  .apply(lambda d: d.set_index('tx_datetime')['sector_id']\n",
      "/var/folders/v0/8r5h4ym13fb_mzmqc1hfkt580000gn/T/ipykernel_99039/2567663565.py:25: FutureWarning: DataFrameGroupBy.apply operated on the grouping columns. This behavior is deprecated, and in a future version of pandas the grouping columns will be excluded from the operation. Either pass `include_groups=False` to exclude the groupings or explicitly select the grouping columns after groupby to silence this warning.\n",
      "  .apply(lambda d: d.set_index('tx_datetime')['sector_switch_flag']\n",
      "/var/folders/v0/8r5h4ym13fb_mzmqc1hfkt580000gn/T/ipykernel_99039/2567663565.py:16: FutureWarning: DataFrameGroupBy.apply operated on the grouping columns. This behavior is deprecated, and in a future version of pandas the grouping columns will be excluded from the operation. Either pass `include_groups=False` to exclude the groupings or explicitly select the grouping columns after groupby to silence this warning.\n",
      "  .apply(lambda d: d.set_index('tx_datetime')['sector_id']\n",
      "/var/folders/v0/8r5h4ym13fb_mzmqc1hfkt580000gn/T/ipykernel_99039/2567663565.py:25: FutureWarning: DataFrameGroupBy.apply operated on the grouping columns. This behavior is deprecated, and in a future version of pandas the grouping columns will be excluded from the operation. Either pass `include_groups=False` to exclude the groupings or explicitly select the grouping columns after groupby to silence this warning.\n",
      "  .apply(lambda d: d.set_index('tx_datetime')['sector_switch_flag']\n",
      "/var/folders/v0/8r5h4ym13fb_mzmqc1hfkt580000gn/T/ipykernel_99039/2567663565.py:16: FutureWarning: DataFrameGroupBy.apply operated on the grouping columns. This behavior is deprecated, and in a future version of pandas the grouping columns will be excluded from the operation. Either pass `include_groups=False` to exclude the groupings or explicitly select the grouping columns after groupby to silence this warning.\n",
      "  .apply(lambda d: d.set_index('tx_datetime')['sector_id']\n",
      "/var/folders/v0/8r5h4ym13fb_mzmqc1hfkt580000gn/T/ipykernel_99039/2567663565.py:25: FutureWarning: DataFrameGroupBy.apply operated on the grouping columns. This behavior is deprecated, and in a future version of pandas the grouping columns will be excluded from the operation. Either pass `include_groups=False` to exclude the groupings or explicitly select the grouping columns after groupby to silence this warning.\n",
      "  .apply(lambda d: d.set_index('tx_datetime')['sector_switch_flag']\n",
      "/var/folders/v0/8r5h4ym13fb_mzmqc1hfkt580000gn/T/ipykernel_99039/2567663565.py:16: FutureWarning: DataFrameGroupBy.apply operated on the grouping columns. This behavior is deprecated, and in a future version of pandas the grouping columns will be excluded from the operation. Either pass `include_groups=False` to exclude the groupings or explicitly select the grouping columns after groupby to silence this warning.\n",
      "  .apply(lambda d: d.set_index('tx_datetime')['sector_id']\n",
      "/var/folders/v0/8r5h4ym13fb_mzmqc1hfkt580000gn/T/ipykernel_99039/2567663565.py:25: FutureWarning: DataFrameGroupBy.apply operated on the grouping columns. This behavior is deprecated, and in a future version of pandas the grouping columns will be excluded from the operation. Either pass `include_groups=False` to exclude the groupings or explicitly select the grouping columns after groupby to silence this warning.\n",
      "  .apply(lambda d: d.set_index('tx_datetime')['sector_switch_flag']\n",
      "/var/folders/v0/8r5h4ym13fb_mzmqc1hfkt580000gn/T/ipykernel_99039/2567663565.py:16: FutureWarning: DataFrameGroupBy.apply operated on the grouping columns. This behavior is deprecated, and in a future version of pandas the grouping columns will be excluded from the operation. Either pass `include_groups=False` to exclude the groupings or explicitly select the grouping columns after groupby to silence this warning.\n",
      "  .apply(lambda d: d.set_index('tx_datetime')['sector_id']\n",
      "/var/folders/v0/8r5h4ym13fb_mzmqc1hfkt580000gn/T/ipykernel_99039/2567663565.py:25: FutureWarning: DataFrameGroupBy.apply operated on the grouping columns. This behavior is deprecated, and in a future version of pandas the grouping columns will be excluded from the operation. Either pass `include_groups=False` to exclude the groupings or explicitly select the grouping columns after groupby to silence this warning.\n",
      "  .apply(lambda d: d.set_index('tx_datetime')['sector_switch_flag']\n",
      "/var/folders/v0/8r5h4ym13fb_mzmqc1hfkt580000gn/T/ipykernel_99039/2567663565.py:16: FutureWarning: DataFrameGroupBy.apply operated on the grouping columns. This behavior is deprecated, and in a future version of pandas the grouping columns will be excluded from the operation. Either pass `include_groups=False` to exclude the groupings or explicitly select the grouping columns after groupby to silence this warning.\n",
      "  .apply(lambda d: d.set_index('tx_datetime')['sector_id']\n",
      "/var/folders/v0/8r5h4ym13fb_mzmqc1hfkt580000gn/T/ipykernel_99039/2567663565.py:25: FutureWarning: DataFrameGroupBy.apply operated on the grouping columns. This behavior is deprecated, and in a future version of pandas the grouping columns will be excluded from the operation. Either pass `include_groups=False` to exclude the groupings or explicitly select the grouping columns after groupby to silence this warning.\n",
      "  .apply(lambda d: d.set_index('tx_datetime')['sector_switch_flag']\n",
      "/var/folders/v0/8r5h4ym13fb_mzmqc1hfkt580000gn/T/ipykernel_99039/2567663565.py:16: FutureWarning: DataFrameGroupBy.apply operated on the grouping columns. This behavior is deprecated, and in a future version of pandas the grouping columns will be excluded from the operation. Either pass `include_groups=False` to exclude the groupings or explicitly select the grouping columns after groupby to silence this warning.\n",
      "  .apply(lambda d: d.set_index('tx_datetime')['sector_id']\n",
      "/var/folders/v0/8r5h4ym13fb_mzmqc1hfkt580000gn/T/ipykernel_99039/2567663565.py:25: FutureWarning: DataFrameGroupBy.apply operated on the grouping columns. This behavior is deprecated, and in a future version of pandas the grouping columns will be excluded from the operation. Either pass `include_groups=False` to exclude the groupings or explicitly select the grouping columns after groupby to silence this warning.\n",
      "  .apply(lambda d: d.set_index('tx_datetime')['sector_switch_flag']\n",
      "/var/folders/v0/8r5h4ym13fb_mzmqc1hfkt580000gn/T/ipykernel_99039/2567663565.py:16: FutureWarning: DataFrameGroupBy.apply operated on the grouping columns. This behavior is deprecated, and in a future version of pandas the grouping columns will be excluded from the operation. Either pass `include_groups=False` to exclude the groupings or explicitly select the grouping columns after groupby to silence this warning.\n",
      "  .apply(lambda d: d.set_index('tx_datetime')['sector_id']\n",
      "/var/folders/v0/8r5h4ym13fb_mzmqc1hfkt580000gn/T/ipykernel_99039/2567663565.py:25: FutureWarning: DataFrameGroupBy.apply operated on the grouping columns. This behavior is deprecated, and in a future version of pandas the grouping columns will be excluded from the operation. Either pass `include_groups=False` to exclude the groupings or explicitly select the grouping columns after groupby to silence this warning.\n",
      "  .apply(lambda d: d.set_index('tx_datetime')['sector_switch_flag']\n",
      "/var/folders/v0/8r5h4ym13fb_mzmqc1hfkt580000gn/T/ipykernel_99039/2567663565.py:16: FutureWarning: DataFrameGroupBy.apply operated on the grouping columns. This behavior is deprecated, and in a future version of pandas the grouping columns will be excluded from the operation. Either pass `include_groups=False` to exclude the groupings or explicitly select the grouping columns after groupby to silence this warning.\n",
      "  .apply(lambda d: d.set_index('tx_datetime')['sector_id']\n",
      "/var/folders/v0/8r5h4ym13fb_mzmqc1hfkt580000gn/T/ipykernel_99039/2567663565.py:25: FutureWarning: DataFrameGroupBy.apply operated on the grouping columns. This behavior is deprecated, and in a future version of pandas the grouping columns will be excluded from the operation. Either pass `include_groups=False` to exclude the groupings or explicitly select the grouping columns after groupby to silence this warning.\n",
      "  .apply(lambda d: d.set_index('tx_datetime')['sector_switch_flag']\n",
      "/var/folders/v0/8r5h4ym13fb_mzmqc1hfkt580000gn/T/ipykernel_99039/2567663565.py:16: FutureWarning: DataFrameGroupBy.apply operated on the grouping columns. This behavior is deprecated, and in a future version of pandas the grouping columns will be excluded from the operation. Either pass `include_groups=False` to exclude the groupings or explicitly select the grouping columns after groupby to silence this warning.\n",
      "  .apply(lambda d: d.set_index('tx_datetime')['sector_id']\n",
      "/var/folders/v0/8r5h4ym13fb_mzmqc1hfkt580000gn/T/ipykernel_99039/2567663565.py:25: FutureWarning: DataFrameGroupBy.apply operated on the grouping columns. This behavior is deprecated, and in a future version of pandas the grouping columns will be excluded from the operation. Either pass `include_groups=False` to exclude the groupings or explicitly select the grouping columns after groupby to silence this warning.\n",
      "  .apply(lambda d: d.set_index('tx_datetime')['sector_switch_flag']\n"
     ]
    }
   ],
   "source": [
    "for df in X_train, X_val, X_test:\n",
    "    last_seen = (\n",
    "        df.groupby(['customer_id','sector_id'])['tx_datetime']\n",
    "          .shift()\n",
    "    )\n",
    "    df[f'is_new_sector_30d'] = (\n",
    "        (last_seen.isna()) | \n",
    "        ((df['tx_datetime'] - last_seen) > pd.Timedelta('30d'))\n",
    "    ).astype(int)\n",
    "    df['sector_switch_flag'] = (\n",
    "        df.groupby('customer_id')['sector_id'].diff().ne(0).astype(int)\n",
    "    )\n",
    "    for window in WINDOWS:\n",
    "        unique_sectors_vals = (\n",
    "            df.groupby('customer_id', group_keys=False)\n",
    "              .apply(lambda d: d.set_index('tx_datetime')['sector_id']\n",
    "                                .shift()                          # исключаем текущую транзакцию\n",
    "                                .rolling(window, closed='left')\n",
    "                                .apply(lambda x: x.nunique(), raw=False))\n",
    "        ).fillna(0).to_numpy()\n",
    "        df[f'unique_sectors_{window}'] = unique_sectors_vals\n",
    "\n",
    "        sectors_switches = (\n",
    "            df.groupby('customer_id', group_keys=False)\n",
    "              .apply(lambda d: d.set_index('tx_datetime')['sector_switch_flag']\n",
    "                                .shift()\n",
    "                                .rolling(window, closed='left').sum())\n",
    "        ).fillna(0).to_numpy()\n",
    "        df[f'sector_switches_{window}'] = sectors_switches\n",
    "        SECTOR_FEATURES = SECTOR_FEATURES.union([\n",
    "            f'unique_sectors_{window}',\n",
    "            f'sector_switches_{window}'\n",
    "        ])\n",
    "SECTOR_FEATURES = SECTOR_FEATURES.union(['sector_switch_flag', f'is_new_sector_30d'])"
   ]
  },
  {
   "cell_type": "markdown",
   "id": "5cc3cf09",
   "metadata": {},
   "source": [
    "## Risk-related features"
   ]
  },
  {
   "cell_type": "code",
   "execution_count": 22,
   "id": "acff5417",
   "metadata": {},
   "outputs": [],
   "source": [
    "def _delayed_risk_group(g: pd.DataFrame, time_col: str, target_col: str,\n",
    "                        w_days: int, delay_days: int) -> pd.Series:\n",
    "    g = g.sort_values(time_col)\n",
    "    s = g.set_index(time_col)[target_col].astype(int)\n",
    "  \n",
    "    wd_sum = s.rolling(f'{w_days + delay_days}D', closed='left').sum()\n",
    "    d_sum  = s.rolling(f'{delay_days}D',       closed='left').sum()\n",
    "    fraud_window = wd_sum - d_sum\n",
    "\n",
    "    wd_cnt = s.rolling(f'{w_days + delay_days}D', closed='left').count()\n",
    "    d_cnt  = s.rolling(f'{delay_days}D',       closed='left').count()\n",
    "    cnt_window = wd_cnt - d_cnt\n",
    "\n",
    "    risk = (fraud_window / cnt_window.replace(0, np.nan)).fillna(0.0)\n",
    "    return pd.Series(risk.values, index=g.index)\n",
    "\n",
    "def add_delayed_risk_features(df: pd.DataFrame,\n",
    "                              windows=(7, 30),\n",
    "                              delay_days=7,\n",
    "                              group_cols=('sector_id',),\n",
    "                              time_col='tx_datetime',\n",
    "                              target_col='tx_fraud',\n",
    "                              prefix='sector') -> tuple[pd.DataFrame, list[str]]:\n",
    "    feats = []\n",
    "\n",
    "    # порядок и типы\n",
    "    df = df.sort_values([*group_cols, time_col]).reset_index(drop=True)\n",
    "    df[time_col] = pd.to_datetime(df[time_col], errors='coerce')\n",
    "    df[target_col] = df[target_col].astype(int)\n",
    "\n",
    "    for w in windows:\n",
    "        col = f'{prefix}_risk_{w}d_delay{delay_days}d'\n",
    "        vals = (\n",
    "            df.groupby(list(group_cols), group_keys=False)\n",
    "              .apply(lambda g: _delayed_risk_group(g, time_col, target_col, w_days=w, delay_days=delay_days))\n",
    "        ).to_numpy()\n",
    "        df[col] = vals\n",
    "        feats.append(col)\n",
    "\n",
    "    return df, feats"
   ]
  },
  {
   "cell_type": "code",
   "execution_count": 23,
   "id": "8e18ee4d",
   "metadata": {},
   "outputs": [
    {
     "name": "stderr",
     "output_type": "stream",
     "text": [
      "/var/folders/v0/8r5h4ym13fb_mzmqc1hfkt580000gn/T/ipykernel_99039/533576946.py:35: FutureWarning: DataFrameGroupBy.apply operated on the grouping columns. This behavior is deprecated, and in a future version of pandas the grouping columns will be excluded from the operation. Either pass `include_groups=False` to exclude the groupings or explicitly select the grouping columns after groupby to silence this warning.\n",
      "  .apply(lambda g: _delayed_risk_group(g, time_col, target_col, w_days=w, delay_days=delay_days))\n",
      "/var/folders/v0/8r5h4ym13fb_mzmqc1hfkt580000gn/T/ipykernel_99039/533576946.py:35: FutureWarning: DataFrameGroupBy.apply operated on the grouping columns. This behavior is deprecated, and in a future version of pandas the grouping columns will be excluded from the operation. Either pass `include_groups=False` to exclude the groupings or explicitly select the grouping columns after groupby to silence this warning.\n",
      "  .apply(lambda g: _delayed_risk_group(g, time_col, target_col, w_days=w, delay_days=delay_days))\n",
      "/var/folders/v0/8r5h4ym13fb_mzmqc1hfkt580000gn/T/ipykernel_99039/533576946.py:35: FutureWarning: DataFrameGroupBy.apply operated on the grouping columns. This behavior is deprecated, and in a future version of pandas the grouping columns will be excluded from the operation. Either pass `include_groups=False` to exclude the groupings or explicitly select the grouping columns after groupby to silence this warning.\n",
      "  .apply(lambda g: _delayed_risk_group(g, time_col, target_col, w_days=w, delay_days=delay_days))\n",
      "/var/folders/v0/8r5h4ym13fb_mzmqc1hfkt580000gn/T/ipykernel_99039/533576946.py:35: FutureWarning: DataFrameGroupBy.apply operated on the grouping columns. This behavior is deprecated, and in a future version of pandas the grouping columns will be excluded from the operation. Either pass `include_groups=False` to exclude the groupings or explicitly select the grouping columns after groupby to silence this warning.\n",
      "  .apply(lambda g: _delayed_risk_group(g, time_col, target_col, w_days=w, delay_days=delay_days))\n",
      "/var/folders/v0/8r5h4ym13fb_mzmqc1hfkt580000gn/T/ipykernel_99039/533576946.py:35: FutureWarning: DataFrameGroupBy.apply operated on the grouping columns. This behavior is deprecated, and in a future version of pandas the grouping columns will be excluded from the operation. Either pass `include_groups=False` to exclude the groupings or explicitly select the grouping columns after groupby to silence this warning.\n",
      "  .apply(lambda g: _delayed_risk_group(g, time_col, target_col, w_days=w, delay_days=delay_days))\n",
      "/var/folders/v0/8r5h4ym13fb_mzmqc1hfkt580000gn/T/ipykernel_99039/533576946.py:35: FutureWarning: DataFrameGroupBy.apply operated on the grouping columns. This behavior is deprecated, and in a future version of pandas the grouping columns will be excluded from the operation. Either pass `include_groups=False` to exclude the groupings or explicitly select the grouping columns after groupby to silence this warning.\n",
      "  .apply(lambda g: _delayed_risk_group(g, time_col, target_col, w_days=w, delay_days=delay_days))\n",
      "/var/folders/v0/8r5h4ym13fb_mzmqc1hfkt580000gn/T/ipykernel_99039/533576946.py:35: FutureWarning: DataFrameGroupBy.apply operated on the grouping columns. This behavior is deprecated, and in a future version of pandas the grouping columns will be excluded from the operation. Either pass `include_groups=False` to exclude the groupings or explicitly select the grouping columns after groupby to silence this warning.\n",
      "  .apply(lambda g: _delayed_risk_group(g, time_col, target_col, w_days=w, delay_days=delay_days))\n",
      "/var/folders/v0/8r5h4ym13fb_mzmqc1hfkt580000gn/T/ipykernel_99039/533576946.py:35: FutureWarning: DataFrameGroupBy.apply operated on the grouping columns. This behavior is deprecated, and in a future version of pandas the grouping columns will be excluded from the operation. Either pass `include_groups=False` to exclude the groupings or explicitly select the grouping columns after groupby to silence this warning.\n",
      "  .apply(lambda g: _delayed_risk_group(g, time_col, target_col, w_days=w, delay_days=delay_days))\n",
      "/var/folders/v0/8r5h4ym13fb_mzmqc1hfkt580000gn/T/ipykernel_99039/533576946.py:35: FutureWarning: DataFrameGroupBy.apply operated on the grouping columns. This behavior is deprecated, and in a future version of pandas the grouping columns will be excluded from the operation. Either pass `include_groups=False` to exclude the groupings or explicitly select the grouping columns after groupby to silence this warning.\n",
      "  .apply(lambda g: _delayed_risk_group(g, time_col, target_col, w_days=w, delay_days=delay_days))\n",
      "/var/folders/v0/8r5h4ym13fb_mzmqc1hfkt580000gn/T/ipykernel_99039/533576946.py:35: FutureWarning: DataFrameGroupBy.apply operated on the grouping columns. This behavior is deprecated, and in a future version of pandas the grouping columns will be excluded from the operation. Either pass `include_groups=False` to exclude the groupings or explicitly select the grouping columns after groupby to silence this warning.\n",
      "  .apply(lambda g: _delayed_risk_group(g, time_col, target_col, w_days=w, delay_days=delay_days))\n",
      "/var/folders/v0/8r5h4ym13fb_mzmqc1hfkt580000gn/T/ipykernel_99039/533576946.py:35: FutureWarning: DataFrameGroupBy.apply operated on the grouping columns. This behavior is deprecated, and in a future version of pandas the grouping columns will be excluded from the operation. Either pass `include_groups=False` to exclude the groupings or explicitly select the grouping columns after groupby to silence this warning.\n",
      "  .apply(lambda g: _delayed_risk_group(g, time_col, target_col, w_days=w, delay_days=delay_days))\n",
      "/var/folders/v0/8r5h4ym13fb_mzmqc1hfkt580000gn/T/ipykernel_99039/533576946.py:35: FutureWarning: DataFrameGroupBy.apply operated on the grouping columns. This behavior is deprecated, and in a future version of pandas the grouping columns will be excluded from the operation. Either pass `include_groups=False` to exclude the groupings or explicitly select the grouping columns after groupby to silence this warning.\n",
      "  .apply(lambda g: _delayed_risk_group(g, time_col, target_col, w_days=w, delay_days=delay_days))\n"
     ]
    }
   ],
   "source": [
    "X_train, sector_feats_tr = add_delayed_risk_features(\n",
    "    X_train, windows=(7,30), delay_days=7,\n",
    "    group_cols=('sector_id',), prefix='sector'\n",
    ")\n",
    "X_val,   sector_feats_va = add_delayed_risk_features(\n",
    "    X_val,   windows=(7,30), delay_days=7,\n",
    "    group_cols=('sector_id',), prefix='sector'\n",
    ")\n",
    "X_test,  sector_feats_te = add_delayed_risk_features(\n",
    "    X_test,  windows=(7,30), delay_days=7,\n",
    "    group_cols=('sector_id',), prefix='sector'\n",
    ")\n",
    "\n",
    "X_train, custsec_feats_tr = add_delayed_risk_features(\n",
    "    X_train, windows=(7,30), delay_days=7,\n",
    "    group_cols=('customer_id','sector_id'), prefix='customer_sector'\n",
    ")\n",
    "X_val,   custsec_feats_va = add_delayed_risk_features(\n",
    "    X_val,   windows=(7,30), delay_days=7,\n",
    "    group_cols=('customer_id','sector_id'), prefix='customer_sector'\n",
    ")\n",
    "X_test,  custsec_feats_te = add_delayed_risk_features(\n",
    "    X_test,  windows=(7,30), delay_days=7,\n",
    "    group_cols=('customer_id','sector_id'), prefix='customer_sector'\n",
    ")\n",
    "\n",
    "RISK_FEATURES = RISK_FEATURES.union(sector_feats_tr + custsec_feats_tr)"
   ]
  },
  {
   "cell_type": "markdown",
   "id": "d78740e5",
   "metadata": {},
   "source": [
    "Define helper function for calculating rolling mean value by window"
   ]
  },
  {
   "cell_type": "code",
   "execution_count": 24,
   "id": "f9ea7a7d",
   "metadata": {},
   "outputs": [],
   "source": [
    "def rolling_mean_timebased(df, window, column_name, agg_name):\n",
    "    s = (df.set_index('tx_datetime')[column_name]\n",
    "           .rolling(window, closed='left')\n",
    "           .agg(agg_name))\n",
    "    return s.reset_index(drop=False).set_index(df.index).iloc[:, 1]"
   ]
  },
  {
   "cell_type": "markdown",
   "id": "5ec7545c",
   "metadata": {},
   "source": [
    "### Aggregations of transaction amount by given window"
   ]
  },
  {
   "cell_type": "code",
   "execution_count": 25,
   "id": "157e7eb2",
   "metadata": {},
   "outputs": [
    {
     "name": "stderr",
     "output_type": "stream",
     "text": [
      "/var/folders/v0/8r5h4ym13fb_mzmqc1hfkt580000gn/T/ipykernel_99039/3279698374.py:7: FutureWarning: DataFrameGroupBy.apply operated on the grouping columns. This behavior is deprecated, and in a future version of pandas the grouping columns will be excluded from the operation. Either pass `include_groups=False` to exclude the groupings or explicitly select the grouping columns after groupby to silence this warning.\n",
      "  .apply(lambda d: rolling_mean_timebased(d, window, col, 'mean')).fillna(0)\n",
      "/var/folders/v0/8r5h4ym13fb_mzmqc1hfkt580000gn/T/ipykernel_99039/3279698374.py:12: FutureWarning: DataFrameGroupBy.apply operated on the grouping columns. This behavior is deprecated, and in a future version of pandas the grouping columns will be excluded from the operation. Either pass `include_groups=False` to exclude the groupings or explicitly select the grouping columns after groupby to silence this warning.\n",
      "  .apply(lambda d: rolling_mean_timebased(d, window, col, 'std')).fillna(0)\n",
      "/var/folders/v0/8r5h4ym13fb_mzmqc1hfkt580000gn/T/ipykernel_99039/3279698374.py:17: FutureWarning: DataFrameGroupBy.apply operated on the grouping columns. This behavior is deprecated, and in a future version of pandas the grouping columns will be excluded from the operation. Either pass `include_groups=False` to exclude the groupings or explicitly select the grouping columns after groupby to silence this warning.\n",
      "  .apply(lambda d: rolling_mean_timebased(d, window, col, 'median')).fillna(0)\n",
      "/var/folders/v0/8r5h4ym13fb_mzmqc1hfkt580000gn/T/ipykernel_99039/3279698374.py:22: FutureWarning: DataFrameGroupBy.apply operated on the grouping columns. This behavior is deprecated, and in a future version of pandas the grouping columns will be excluded from the operation. Either pass `include_groups=False` to exclude the groupings or explicitly select the grouping columns after groupby to silence this warning.\n",
      "  .apply(lambda d: rolling_mean_timebased(d, window, col, 'sum')).fillna(0)\n",
      "/var/folders/v0/8r5h4ym13fb_mzmqc1hfkt580000gn/T/ipykernel_99039/3279698374.py:27: FutureWarning: DataFrameGroupBy.apply operated on the grouping columns. This behavior is deprecated, and in a future version of pandas the grouping columns will be excluded from the operation. Either pass `include_groups=False` to exclude the groupings or explicitly select the grouping columns after groupby to silence this warning.\n",
      "  .apply(lambda d: rolling_mean_timebased(d, window, col, 'count')).fillna(0)\n",
      "/var/folders/v0/8r5h4ym13fb_mzmqc1hfkt580000gn/T/ipykernel_99039/3279698374.py:7: FutureWarning: DataFrameGroupBy.apply operated on the grouping columns. This behavior is deprecated, and in a future version of pandas the grouping columns will be excluded from the operation. Either pass `include_groups=False` to exclude the groupings or explicitly select the grouping columns after groupby to silence this warning.\n",
      "  .apply(lambda d: rolling_mean_timebased(d, window, col, 'mean')).fillna(0)\n",
      "/var/folders/v0/8r5h4ym13fb_mzmqc1hfkt580000gn/T/ipykernel_99039/3279698374.py:12: FutureWarning: DataFrameGroupBy.apply operated on the grouping columns. This behavior is deprecated, and in a future version of pandas the grouping columns will be excluded from the operation. Either pass `include_groups=False` to exclude the groupings or explicitly select the grouping columns after groupby to silence this warning.\n",
      "  .apply(lambda d: rolling_mean_timebased(d, window, col, 'std')).fillna(0)\n",
      "/var/folders/v0/8r5h4ym13fb_mzmqc1hfkt580000gn/T/ipykernel_99039/3279698374.py:17: FutureWarning: DataFrameGroupBy.apply operated on the grouping columns. This behavior is deprecated, and in a future version of pandas the grouping columns will be excluded from the operation. Either pass `include_groups=False` to exclude the groupings or explicitly select the grouping columns after groupby to silence this warning.\n",
      "  .apply(lambda d: rolling_mean_timebased(d, window, col, 'median')).fillna(0)\n",
      "/var/folders/v0/8r5h4ym13fb_mzmqc1hfkt580000gn/T/ipykernel_99039/3279698374.py:22: FutureWarning: DataFrameGroupBy.apply operated on the grouping columns. This behavior is deprecated, and in a future version of pandas the grouping columns will be excluded from the operation. Either pass `include_groups=False` to exclude the groupings or explicitly select the grouping columns after groupby to silence this warning.\n",
      "  .apply(lambda d: rolling_mean_timebased(d, window, col, 'sum')).fillna(0)\n",
      "/var/folders/v0/8r5h4ym13fb_mzmqc1hfkt580000gn/T/ipykernel_99039/3279698374.py:27: FutureWarning: DataFrameGroupBy.apply operated on the grouping columns. This behavior is deprecated, and in a future version of pandas the grouping columns will be excluded from the operation. Either pass `include_groups=False` to exclude the groupings or explicitly select the grouping columns after groupby to silence this warning.\n",
      "  .apply(lambda d: rolling_mean_timebased(d, window, col, 'count')).fillna(0)\n",
      "/var/folders/v0/8r5h4ym13fb_mzmqc1hfkt580000gn/T/ipykernel_99039/3279698374.py:7: FutureWarning: DataFrameGroupBy.apply operated on the grouping columns. This behavior is deprecated, and in a future version of pandas the grouping columns will be excluded from the operation. Either pass `include_groups=False` to exclude the groupings or explicitly select the grouping columns after groupby to silence this warning.\n",
      "  .apply(lambda d: rolling_mean_timebased(d, window, col, 'mean')).fillna(0)\n",
      "/var/folders/v0/8r5h4ym13fb_mzmqc1hfkt580000gn/T/ipykernel_99039/3279698374.py:12: FutureWarning: DataFrameGroupBy.apply operated on the grouping columns. This behavior is deprecated, and in a future version of pandas the grouping columns will be excluded from the operation. Either pass `include_groups=False` to exclude the groupings or explicitly select the grouping columns after groupby to silence this warning.\n",
      "  .apply(lambda d: rolling_mean_timebased(d, window, col, 'std')).fillna(0)\n",
      "/var/folders/v0/8r5h4ym13fb_mzmqc1hfkt580000gn/T/ipykernel_99039/3279698374.py:17: FutureWarning: DataFrameGroupBy.apply operated on the grouping columns. This behavior is deprecated, and in a future version of pandas the grouping columns will be excluded from the operation. Either pass `include_groups=False` to exclude the groupings or explicitly select the grouping columns after groupby to silence this warning.\n",
      "  .apply(lambda d: rolling_mean_timebased(d, window, col, 'median')).fillna(0)\n",
      "/var/folders/v0/8r5h4ym13fb_mzmqc1hfkt580000gn/T/ipykernel_99039/3279698374.py:22: FutureWarning: DataFrameGroupBy.apply operated on the grouping columns. This behavior is deprecated, and in a future version of pandas the grouping columns will be excluded from the operation. Either pass `include_groups=False` to exclude the groupings or explicitly select the grouping columns after groupby to silence this warning.\n",
      "  .apply(lambda d: rolling_mean_timebased(d, window, col, 'sum')).fillna(0)\n",
      "/var/folders/v0/8r5h4ym13fb_mzmqc1hfkt580000gn/T/ipykernel_99039/3279698374.py:27: FutureWarning: DataFrameGroupBy.apply operated on the grouping columns. This behavior is deprecated, and in a future version of pandas the grouping columns will be excluded from the operation. Either pass `include_groups=False` to exclude the groupings or explicitly select the grouping columns after groupby to silence this warning.\n",
      "  .apply(lambda d: rolling_mean_timebased(d, window, col, 'count')).fillna(0)\n",
      "/var/folders/v0/8r5h4ym13fb_mzmqc1hfkt580000gn/T/ipykernel_99039/3279698374.py:7: FutureWarning: DataFrameGroupBy.apply operated on the grouping columns. This behavior is deprecated, and in a future version of pandas the grouping columns will be excluded from the operation. Either pass `include_groups=False` to exclude the groupings or explicitly select the grouping columns after groupby to silence this warning.\n",
      "  .apply(lambda d: rolling_mean_timebased(d, window, col, 'mean')).fillna(0)\n",
      "/var/folders/v0/8r5h4ym13fb_mzmqc1hfkt580000gn/T/ipykernel_99039/3279698374.py:12: FutureWarning: DataFrameGroupBy.apply operated on the grouping columns. This behavior is deprecated, and in a future version of pandas the grouping columns will be excluded from the operation. Either pass `include_groups=False` to exclude the groupings or explicitly select the grouping columns after groupby to silence this warning.\n",
      "  .apply(lambda d: rolling_mean_timebased(d, window, col, 'std')).fillna(0)\n",
      "/var/folders/v0/8r5h4ym13fb_mzmqc1hfkt580000gn/T/ipykernel_99039/3279698374.py:17: FutureWarning: DataFrameGroupBy.apply operated on the grouping columns. This behavior is deprecated, and in a future version of pandas the grouping columns will be excluded from the operation. Either pass `include_groups=False` to exclude the groupings or explicitly select the grouping columns after groupby to silence this warning.\n",
      "  .apply(lambda d: rolling_mean_timebased(d, window, col, 'median')).fillna(0)\n",
      "/var/folders/v0/8r5h4ym13fb_mzmqc1hfkt580000gn/T/ipykernel_99039/3279698374.py:22: FutureWarning: DataFrameGroupBy.apply operated on the grouping columns. This behavior is deprecated, and in a future version of pandas the grouping columns will be excluded from the operation. Either pass `include_groups=False` to exclude the groupings or explicitly select the grouping columns after groupby to silence this warning.\n",
      "  .apply(lambda d: rolling_mean_timebased(d, window, col, 'sum')).fillna(0)\n",
      "/var/folders/v0/8r5h4ym13fb_mzmqc1hfkt580000gn/T/ipykernel_99039/3279698374.py:27: FutureWarning: DataFrameGroupBy.apply operated on the grouping columns. This behavior is deprecated, and in a future version of pandas the grouping columns will be excluded from the operation. Either pass `include_groups=False` to exclude the groupings or explicitly select the grouping columns after groupby to silence this warning.\n",
      "  .apply(lambda d: rolling_mean_timebased(d, window, col, 'count')).fillna(0)\n",
      "/var/folders/v0/8r5h4ym13fb_mzmqc1hfkt580000gn/T/ipykernel_99039/3279698374.py:7: FutureWarning: DataFrameGroupBy.apply operated on the grouping columns. This behavior is deprecated, and in a future version of pandas the grouping columns will be excluded from the operation. Either pass `include_groups=False` to exclude the groupings or explicitly select the grouping columns after groupby to silence this warning.\n",
      "  .apply(lambda d: rolling_mean_timebased(d, window, col, 'mean')).fillna(0)\n",
      "/var/folders/v0/8r5h4ym13fb_mzmqc1hfkt580000gn/T/ipykernel_99039/3279698374.py:12: FutureWarning: DataFrameGroupBy.apply operated on the grouping columns. This behavior is deprecated, and in a future version of pandas the grouping columns will be excluded from the operation. Either pass `include_groups=False` to exclude the groupings or explicitly select the grouping columns after groupby to silence this warning.\n",
      "  .apply(lambda d: rolling_mean_timebased(d, window, col, 'std')).fillna(0)\n",
      "/var/folders/v0/8r5h4ym13fb_mzmqc1hfkt580000gn/T/ipykernel_99039/3279698374.py:17: FutureWarning: DataFrameGroupBy.apply operated on the grouping columns. This behavior is deprecated, and in a future version of pandas the grouping columns will be excluded from the operation. Either pass `include_groups=False` to exclude the groupings or explicitly select the grouping columns after groupby to silence this warning.\n",
      "  .apply(lambda d: rolling_mean_timebased(d, window, col, 'median')).fillna(0)\n",
      "/var/folders/v0/8r5h4ym13fb_mzmqc1hfkt580000gn/T/ipykernel_99039/3279698374.py:22: FutureWarning: DataFrameGroupBy.apply operated on the grouping columns. This behavior is deprecated, and in a future version of pandas the grouping columns will be excluded from the operation. Either pass `include_groups=False` to exclude the groupings or explicitly select the grouping columns after groupby to silence this warning.\n",
      "  .apply(lambda d: rolling_mean_timebased(d, window, col, 'sum')).fillna(0)\n",
      "/var/folders/v0/8r5h4ym13fb_mzmqc1hfkt580000gn/T/ipykernel_99039/3279698374.py:27: FutureWarning: DataFrameGroupBy.apply operated on the grouping columns. This behavior is deprecated, and in a future version of pandas the grouping columns will be excluded from the operation. Either pass `include_groups=False` to exclude the groupings or explicitly select the grouping columns after groupby to silence this warning.\n",
      "  .apply(lambda d: rolling_mean_timebased(d, window, col, 'count')).fillna(0)\n",
      "/var/folders/v0/8r5h4ym13fb_mzmqc1hfkt580000gn/T/ipykernel_99039/3279698374.py:7: FutureWarning: DataFrameGroupBy.apply operated on the grouping columns. This behavior is deprecated, and in a future version of pandas the grouping columns will be excluded from the operation. Either pass `include_groups=False` to exclude the groupings or explicitly select the grouping columns after groupby to silence this warning.\n",
      "  .apply(lambda d: rolling_mean_timebased(d, window, col, 'mean')).fillna(0)\n",
      "/var/folders/v0/8r5h4ym13fb_mzmqc1hfkt580000gn/T/ipykernel_99039/3279698374.py:12: FutureWarning: DataFrameGroupBy.apply operated on the grouping columns. This behavior is deprecated, and in a future version of pandas the grouping columns will be excluded from the operation. Either pass `include_groups=False` to exclude the groupings or explicitly select the grouping columns after groupby to silence this warning.\n",
      "  .apply(lambda d: rolling_mean_timebased(d, window, col, 'std')).fillna(0)\n",
      "/var/folders/v0/8r5h4ym13fb_mzmqc1hfkt580000gn/T/ipykernel_99039/3279698374.py:17: FutureWarning: DataFrameGroupBy.apply operated on the grouping columns. This behavior is deprecated, and in a future version of pandas the grouping columns will be excluded from the operation. Either pass `include_groups=False` to exclude the groupings or explicitly select the grouping columns after groupby to silence this warning.\n",
      "  .apply(lambda d: rolling_mean_timebased(d, window, col, 'median')).fillna(0)\n",
      "/var/folders/v0/8r5h4ym13fb_mzmqc1hfkt580000gn/T/ipykernel_99039/3279698374.py:22: FutureWarning: DataFrameGroupBy.apply operated on the grouping columns. This behavior is deprecated, and in a future version of pandas the grouping columns will be excluded from the operation. Either pass `include_groups=False` to exclude the groupings or explicitly select the grouping columns after groupby to silence this warning.\n",
      "  .apply(lambda d: rolling_mean_timebased(d, window, col, 'sum')).fillna(0)\n",
      "/var/folders/v0/8r5h4ym13fb_mzmqc1hfkt580000gn/T/ipykernel_99039/3279698374.py:27: FutureWarning: DataFrameGroupBy.apply operated on the grouping columns. This behavior is deprecated, and in a future version of pandas the grouping columns will be excluded from the operation. Either pass `include_groups=False` to exclude the groupings or explicitly select the grouping columns after groupby to silence this warning.\n",
      "  .apply(lambda d: rolling_mean_timebased(d, window, col, 'count')).fillna(0)\n",
      "/var/folders/v0/8r5h4ym13fb_mzmqc1hfkt580000gn/T/ipykernel_99039/3279698374.py:7: FutureWarning: DataFrameGroupBy.apply operated on the grouping columns. This behavior is deprecated, and in a future version of pandas the grouping columns will be excluded from the operation. Either pass `include_groups=False` to exclude the groupings or explicitly select the grouping columns after groupby to silence this warning.\n",
      "  .apply(lambda d: rolling_mean_timebased(d, window, col, 'mean')).fillna(0)\n",
      "/var/folders/v0/8r5h4ym13fb_mzmqc1hfkt580000gn/T/ipykernel_99039/3279698374.py:12: FutureWarning: DataFrameGroupBy.apply operated on the grouping columns. This behavior is deprecated, and in a future version of pandas the grouping columns will be excluded from the operation. Either pass `include_groups=False` to exclude the groupings or explicitly select the grouping columns after groupby to silence this warning.\n",
      "  .apply(lambda d: rolling_mean_timebased(d, window, col, 'std')).fillna(0)\n",
      "/var/folders/v0/8r5h4ym13fb_mzmqc1hfkt580000gn/T/ipykernel_99039/3279698374.py:17: FutureWarning: DataFrameGroupBy.apply operated on the grouping columns. This behavior is deprecated, and in a future version of pandas the grouping columns will be excluded from the operation. Either pass `include_groups=False` to exclude the groupings or explicitly select the grouping columns after groupby to silence this warning.\n",
      "  .apply(lambda d: rolling_mean_timebased(d, window, col, 'median')).fillna(0)\n",
      "/var/folders/v0/8r5h4ym13fb_mzmqc1hfkt580000gn/T/ipykernel_99039/3279698374.py:22: FutureWarning: DataFrameGroupBy.apply operated on the grouping columns. This behavior is deprecated, and in a future version of pandas the grouping columns will be excluded from the operation. Either pass `include_groups=False` to exclude the groupings or explicitly select the grouping columns after groupby to silence this warning.\n",
      "  .apply(lambda d: rolling_mean_timebased(d, window, col, 'sum')).fillna(0)\n",
      "/var/folders/v0/8r5h4ym13fb_mzmqc1hfkt580000gn/T/ipykernel_99039/3279698374.py:27: FutureWarning: DataFrameGroupBy.apply operated on the grouping columns. This behavior is deprecated, and in a future version of pandas the grouping columns will be excluded from the operation. Either pass `include_groups=False` to exclude the groupings or explicitly select the grouping columns after groupby to silence this warning.\n",
      "  .apply(lambda d: rolling_mean_timebased(d, window, col, 'count')).fillna(0)\n",
      "/var/folders/v0/8r5h4ym13fb_mzmqc1hfkt580000gn/T/ipykernel_99039/3279698374.py:7: FutureWarning: DataFrameGroupBy.apply operated on the grouping columns. This behavior is deprecated, and in a future version of pandas the grouping columns will be excluded from the operation. Either pass `include_groups=False` to exclude the groupings or explicitly select the grouping columns after groupby to silence this warning.\n",
      "  .apply(lambda d: rolling_mean_timebased(d, window, col, 'mean')).fillna(0)\n",
      "/var/folders/v0/8r5h4ym13fb_mzmqc1hfkt580000gn/T/ipykernel_99039/3279698374.py:12: FutureWarning: DataFrameGroupBy.apply operated on the grouping columns. This behavior is deprecated, and in a future version of pandas the grouping columns will be excluded from the operation. Either pass `include_groups=False` to exclude the groupings or explicitly select the grouping columns after groupby to silence this warning.\n",
      "  .apply(lambda d: rolling_mean_timebased(d, window, col, 'std')).fillna(0)\n",
      "/var/folders/v0/8r5h4ym13fb_mzmqc1hfkt580000gn/T/ipykernel_99039/3279698374.py:17: FutureWarning: DataFrameGroupBy.apply operated on the grouping columns. This behavior is deprecated, and in a future version of pandas the grouping columns will be excluded from the operation. Either pass `include_groups=False` to exclude the groupings or explicitly select the grouping columns after groupby to silence this warning.\n",
      "  .apply(lambda d: rolling_mean_timebased(d, window, col, 'median')).fillna(0)\n",
      "/var/folders/v0/8r5h4ym13fb_mzmqc1hfkt580000gn/T/ipykernel_99039/3279698374.py:22: FutureWarning: DataFrameGroupBy.apply operated on the grouping columns. This behavior is deprecated, and in a future version of pandas the grouping columns will be excluded from the operation. Either pass `include_groups=False` to exclude the groupings or explicitly select the grouping columns after groupby to silence this warning.\n",
      "  .apply(lambda d: rolling_mean_timebased(d, window, col, 'sum')).fillna(0)\n",
      "/var/folders/v0/8r5h4ym13fb_mzmqc1hfkt580000gn/T/ipykernel_99039/3279698374.py:27: FutureWarning: DataFrameGroupBy.apply operated on the grouping columns. This behavior is deprecated, and in a future version of pandas the grouping columns will be excluded from the operation. Either pass `include_groups=False` to exclude the groupings or explicitly select the grouping columns after groupby to silence this warning.\n",
      "  .apply(lambda d: rolling_mean_timebased(d, window, col, 'count')).fillna(0)\n",
      "/var/folders/v0/8r5h4ym13fb_mzmqc1hfkt580000gn/T/ipykernel_99039/3279698374.py:7: FutureWarning: DataFrameGroupBy.apply operated on the grouping columns. This behavior is deprecated, and in a future version of pandas the grouping columns will be excluded from the operation. Either pass `include_groups=False` to exclude the groupings or explicitly select the grouping columns after groupby to silence this warning.\n",
      "  .apply(lambda d: rolling_mean_timebased(d, window, col, 'mean')).fillna(0)\n",
      "/var/folders/v0/8r5h4ym13fb_mzmqc1hfkt580000gn/T/ipykernel_99039/3279698374.py:12: FutureWarning: DataFrameGroupBy.apply operated on the grouping columns. This behavior is deprecated, and in a future version of pandas the grouping columns will be excluded from the operation. Either pass `include_groups=False` to exclude the groupings or explicitly select the grouping columns after groupby to silence this warning.\n",
      "  .apply(lambda d: rolling_mean_timebased(d, window, col, 'std')).fillna(0)\n",
      "/var/folders/v0/8r5h4ym13fb_mzmqc1hfkt580000gn/T/ipykernel_99039/3279698374.py:17: FutureWarning: DataFrameGroupBy.apply operated on the grouping columns. This behavior is deprecated, and in a future version of pandas the grouping columns will be excluded from the operation. Either pass `include_groups=False` to exclude the groupings or explicitly select the grouping columns after groupby to silence this warning.\n",
      "  .apply(lambda d: rolling_mean_timebased(d, window, col, 'median')).fillna(0)\n",
      "/var/folders/v0/8r5h4ym13fb_mzmqc1hfkt580000gn/T/ipykernel_99039/3279698374.py:22: FutureWarning: DataFrameGroupBy.apply operated on the grouping columns. This behavior is deprecated, and in a future version of pandas the grouping columns will be excluded from the operation. Either pass `include_groups=False` to exclude the groupings or explicitly select the grouping columns after groupby to silence this warning.\n",
      "  .apply(lambda d: rolling_mean_timebased(d, window, col, 'sum')).fillna(0)\n",
      "/var/folders/v0/8r5h4ym13fb_mzmqc1hfkt580000gn/T/ipykernel_99039/3279698374.py:27: FutureWarning: DataFrameGroupBy.apply operated on the grouping columns. This behavior is deprecated, and in a future version of pandas the grouping columns will be excluded from the operation. Either pass `include_groups=False` to exclude the groupings or explicitly select the grouping columns after groupby to silence this warning.\n",
      "  .apply(lambda d: rolling_mean_timebased(d, window, col, 'count')).fillna(0)\n",
      "/var/folders/v0/8r5h4ym13fb_mzmqc1hfkt580000gn/T/ipykernel_99039/3279698374.py:7: FutureWarning: DataFrameGroupBy.apply operated on the grouping columns. This behavior is deprecated, and in a future version of pandas the grouping columns will be excluded from the operation. Either pass `include_groups=False` to exclude the groupings or explicitly select the grouping columns after groupby to silence this warning.\n",
      "  .apply(lambda d: rolling_mean_timebased(d, window, col, 'mean')).fillna(0)\n",
      "/var/folders/v0/8r5h4ym13fb_mzmqc1hfkt580000gn/T/ipykernel_99039/3279698374.py:12: FutureWarning: DataFrameGroupBy.apply operated on the grouping columns. This behavior is deprecated, and in a future version of pandas the grouping columns will be excluded from the operation. Either pass `include_groups=False` to exclude the groupings or explicitly select the grouping columns after groupby to silence this warning.\n",
      "  .apply(lambda d: rolling_mean_timebased(d, window, col, 'std')).fillna(0)\n",
      "/var/folders/v0/8r5h4ym13fb_mzmqc1hfkt580000gn/T/ipykernel_99039/3279698374.py:17: FutureWarning: DataFrameGroupBy.apply operated on the grouping columns. This behavior is deprecated, and in a future version of pandas the grouping columns will be excluded from the operation. Either pass `include_groups=False` to exclude the groupings or explicitly select the grouping columns after groupby to silence this warning.\n",
      "  .apply(lambda d: rolling_mean_timebased(d, window, col, 'median')).fillna(0)\n",
      "/var/folders/v0/8r5h4ym13fb_mzmqc1hfkt580000gn/T/ipykernel_99039/3279698374.py:22: FutureWarning: DataFrameGroupBy.apply operated on the grouping columns. This behavior is deprecated, and in a future version of pandas the grouping columns will be excluded from the operation. Either pass `include_groups=False` to exclude the groupings or explicitly select the grouping columns after groupby to silence this warning.\n",
      "  .apply(lambda d: rolling_mean_timebased(d, window, col, 'sum')).fillna(0)\n",
      "/var/folders/v0/8r5h4ym13fb_mzmqc1hfkt580000gn/T/ipykernel_99039/3279698374.py:27: FutureWarning: DataFrameGroupBy.apply operated on the grouping columns. This behavior is deprecated, and in a future version of pandas the grouping columns will be excluded from the operation. Either pass `include_groups=False` to exclude the groupings or explicitly select the grouping columns after groupby to silence this warning.\n",
      "  .apply(lambda d: rolling_mean_timebased(d, window, col, 'count')).fillna(0)\n",
      "/var/folders/v0/8r5h4ym13fb_mzmqc1hfkt580000gn/T/ipykernel_99039/3279698374.py:7: FutureWarning: DataFrameGroupBy.apply operated on the grouping columns. This behavior is deprecated, and in a future version of pandas the grouping columns will be excluded from the operation. Either pass `include_groups=False` to exclude the groupings or explicitly select the grouping columns after groupby to silence this warning.\n",
      "  .apply(lambda d: rolling_mean_timebased(d, window, col, 'mean')).fillna(0)\n",
      "/var/folders/v0/8r5h4ym13fb_mzmqc1hfkt580000gn/T/ipykernel_99039/3279698374.py:12: FutureWarning: DataFrameGroupBy.apply operated on the grouping columns. This behavior is deprecated, and in a future version of pandas the grouping columns will be excluded from the operation. Either pass `include_groups=False` to exclude the groupings or explicitly select the grouping columns after groupby to silence this warning.\n",
      "  .apply(lambda d: rolling_mean_timebased(d, window, col, 'std')).fillna(0)\n",
      "/var/folders/v0/8r5h4ym13fb_mzmqc1hfkt580000gn/T/ipykernel_99039/3279698374.py:17: FutureWarning: DataFrameGroupBy.apply operated on the grouping columns. This behavior is deprecated, and in a future version of pandas the grouping columns will be excluded from the operation. Either pass `include_groups=False` to exclude the groupings or explicitly select the grouping columns after groupby to silence this warning.\n",
      "  .apply(lambda d: rolling_mean_timebased(d, window, col, 'median')).fillna(0)\n",
      "/var/folders/v0/8r5h4ym13fb_mzmqc1hfkt580000gn/T/ipykernel_99039/3279698374.py:22: FutureWarning: DataFrameGroupBy.apply operated on the grouping columns. This behavior is deprecated, and in a future version of pandas the grouping columns will be excluded from the operation. Either pass `include_groups=False` to exclude the groupings or explicitly select the grouping columns after groupby to silence this warning.\n",
      "  .apply(lambda d: rolling_mean_timebased(d, window, col, 'sum')).fillna(0)\n",
      "/var/folders/v0/8r5h4ym13fb_mzmqc1hfkt580000gn/T/ipykernel_99039/3279698374.py:27: FutureWarning: DataFrameGroupBy.apply operated on the grouping columns. This behavior is deprecated, and in a future version of pandas the grouping columns will be excluded from the operation. Either pass `include_groups=False` to exclude the groupings or explicitly select the grouping columns after groupby to silence this warning.\n",
      "  .apply(lambda d: rolling_mean_timebased(d, window, col, 'count')).fillna(0)\n",
      "/var/folders/v0/8r5h4ym13fb_mzmqc1hfkt580000gn/T/ipykernel_99039/3279698374.py:7: FutureWarning: DataFrameGroupBy.apply operated on the grouping columns. This behavior is deprecated, and in a future version of pandas the grouping columns will be excluded from the operation. Either pass `include_groups=False` to exclude the groupings or explicitly select the grouping columns after groupby to silence this warning.\n",
      "  .apply(lambda d: rolling_mean_timebased(d, window, col, 'mean')).fillna(0)\n",
      "/var/folders/v0/8r5h4ym13fb_mzmqc1hfkt580000gn/T/ipykernel_99039/3279698374.py:12: FutureWarning: DataFrameGroupBy.apply operated on the grouping columns. This behavior is deprecated, and in a future version of pandas the grouping columns will be excluded from the operation. Either pass `include_groups=False` to exclude the groupings or explicitly select the grouping columns after groupby to silence this warning.\n",
      "  .apply(lambda d: rolling_mean_timebased(d, window, col, 'std')).fillna(0)\n",
      "/var/folders/v0/8r5h4ym13fb_mzmqc1hfkt580000gn/T/ipykernel_99039/3279698374.py:17: FutureWarning: DataFrameGroupBy.apply operated on the grouping columns. This behavior is deprecated, and in a future version of pandas the grouping columns will be excluded from the operation. Either pass `include_groups=False` to exclude the groupings or explicitly select the grouping columns after groupby to silence this warning.\n",
      "  .apply(lambda d: rolling_mean_timebased(d, window, col, 'median')).fillna(0)\n",
      "/var/folders/v0/8r5h4ym13fb_mzmqc1hfkt580000gn/T/ipykernel_99039/3279698374.py:22: FutureWarning: DataFrameGroupBy.apply operated on the grouping columns. This behavior is deprecated, and in a future version of pandas the grouping columns will be excluded from the operation. Either pass `include_groups=False` to exclude the groupings or explicitly select the grouping columns after groupby to silence this warning.\n",
      "  .apply(lambda d: rolling_mean_timebased(d, window, col, 'sum')).fillna(0)\n",
      "/var/folders/v0/8r5h4ym13fb_mzmqc1hfkt580000gn/T/ipykernel_99039/3279698374.py:27: FutureWarning: DataFrameGroupBy.apply operated on the grouping columns. This behavior is deprecated, and in a future version of pandas the grouping columns will be excluded from the operation. Either pass `include_groups=False` to exclude the groupings or explicitly select the grouping columns after groupby to silence this warning.\n",
      "  .apply(lambda d: rolling_mean_timebased(d, window, col, 'count')).fillna(0)\n",
      "/var/folders/v0/8r5h4ym13fb_mzmqc1hfkt580000gn/T/ipykernel_99039/3279698374.py:7: FutureWarning: DataFrameGroupBy.apply operated on the grouping columns. This behavior is deprecated, and in a future version of pandas the grouping columns will be excluded from the operation. Either pass `include_groups=False` to exclude the groupings or explicitly select the grouping columns after groupby to silence this warning.\n",
      "  .apply(lambda d: rolling_mean_timebased(d, window, col, 'mean')).fillna(0)\n",
      "/var/folders/v0/8r5h4ym13fb_mzmqc1hfkt580000gn/T/ipykernel_99039/3279698374.py:12: FutureWarning: DataFrameGroupBy.apply operated on the grouping columns. This behavior is deprecated, and in a future version of pandas the grouping columns will be excluded from the operation. Either pass `include_groups=False` to exclude the groupings or explicitly select the grouping columns after groupby to silence this warning.\n",
      "  .apply(lambda d: rolling_mean_timebased(d, window, col, 'std')).fillna(0)\n",
      "/var/folders/v0/8r5h4ym13fb_mzmqc1hfkt580000gn/T/ipykernel_99039/3279698374.py:17: FutureWarning: DataFrameGroupBy.apply operated on the grouping columns. This behavior is deprecated, and in a future version of pandas the grouping columns will be excluded from the operation. Either pass `include_groups=False` to exclude the groupings or explicitly select the grouping columns after groupby to silence this warning.\n",
      "  .apply(lambda d: rolling_mean_timebased(d, window, col, 'median')).fillna(0)\n",
      "/var/folders/v0/8r5h4ym13fb_mzmqc1hfkt580000gn/T/ipykernel_99039/3279698374.py:22: FutureWarning: DataFrameGroupBy.apply operated on the grouping columns. This behavior is deprecated, and in a future version of pandas the grouping columns will be excluded from the operation. Either pass `include_groups=False` to exclude the groupings or explicitly select the grouping columns after groupby to silence this warning.\n",
      "  .apply(lambda d: rolling_mean_timebased(d, window, col, 'sum')).fillna(0)\n",
      "/var/folders/v0/8r5h4ym13fb_mzmqc1hfkt580000gn/T/ipykernel_99039/3279698374.py:27: FutureWarning: DataFrameGroupBy.apply operated on the grouping columns. This behavior is deprecated, and in a future version of pandas the grouping columns will be excluded from the operation. Either pass `include_groups=False` to exclude the groupings or explicitly select the grouping columns after groupby to silence this warning.\n",
      "  .apply(lambda d: rolling_mean_timebased(d, window, col, 'count')).fillna(0)\n",
      "/var/folders/v0/8r5h4ym13fb_mzmqc1hfkt580000gn/T/ipykernel_99039/3279698374.py:7: FutureWarning: DataFrameGroupBy.apply operated on the grouping columns. This behavior is deprecated, and in a future version of pandas the grouping columns will be excluded from the operation. Either pass `include_groups=False` to exclude the groupings or explicitly select the grouping columns after groupby to silence this warning.\n",
      "  .apply(lambda d: rolling_mean_timebased(d, window, col, 'mean')).fillna(0)\n",
      "/var/folders/v0/8r5h4ym13fb_mzmqc1hfkt580000gn/T/ipykernel_99039/3279698374.py:12: FutureWarning: DataFrameGroupBy.apply operated on the grouping columns. This behavior is deprecated, and in a future version of pandas the grouping columns will be excluded from the operation. Either pass `include_groups=False` to exclude the groupings or explicitly select the grouping columns after groupby to silence this warning.\n",
      "  .apply(lambda d: rolling_mean_timebased(d, window, col, 'std')).fillna(0)\n",
      "/var/folders/v0/8r5h4ym13fb_mzmqc1hfkt580000gn/T/ipykernel_99039/3279698374.py:17: FutureWarning: DataFrameGroupBy.apply operated on the grouping columns. This behavior is deprecated, and in a future version of pandas the grouping columns will be excluded from the operation. Either pass `include_groups=False` to exclude the groupings or explicitly select the grouping columns after groupby to silence this warning.\n",
      "  .apply(lambda d: rolling_mean_timebased(d, window, col, 'median')).fillna(0)\n",
      "/var/folders/v0/8r5h4ym13fb_mzmqc1hfkt580000gn/T/ipykernel_99039/3279698374.py:22: FutureWarning: DataFrameGroupBy.apply operated on the grouping columns. This behavior is deprecated, and in a future version of pandas the grouping columns will be excluded from the operation. Either pass `include_groups=False` to exclude the groupings or explicitly select the grouping columns after groupby to silence this warning.\n",
      "  .apply(lambda d: rolling_mean_timebased(d, window, col, 'sum')).fillna(0)\n",
      "/var/folders/v0/8r5h4ym13fb_mzmqc1hfkt580000gn/T/ipykernel_99039/3279698374.py:27: FutureWarning: DataFrameGroupBy.apply operated on the grouping columns. This behavior is deprecated, and in a future version of pandas the grouping columns will be excluded from the operation. Either pass `include_groups=False` to exclude the groupings or explicitly select the grouping columns after groupby to silence this warning.\n",
      "  .apply(lambda d: rolling_mean_timebased(d, window, col, 'count')).fillna(0)\n",
      "/var/folders/v0/8r5h4ym13fb_mzmqc1hfkt580000gn/T/ipykernel_99039/3279698374.py:7: FutureWarning: DataFrameGroupBy.apply operated on the grouping columns. This behavior is deprecated, and in a future version of pandas the grouping columns will be excluded from the operation. Either pass `include_groups=False` to exclude the groupings or explicitly select the grouping columns after groupby to silence this warning.\n",
      "  .apply(lambda d: rolling_mean_timebased(d, window, col, 'mean')).fillna(0)\n",
      "/var/folders/v0/8r5h4ym13fb_mzmqc1hfkt580000gn/T/ipykernel_99039/3279698374.py:12: FutureWarning: DataFrameGroupBy.apply operated on the grouping columns. This behavior is deprecated, and in a future version of pandas the grouping columns will be excluded from the operation. Either pass `include_groups=False` to exclude the groupings or explicitly select the grouping columns after groupby to silence this warning.\n",
      "  .apply(lambda d: rolling_mean_timebased(d, window, col, 'std')).fillna(0)\n",
      "/var/folders/v0/8r5h4ym13fb_mzmqc1hfkt580000gn/T/ipykernel_99039/3279698374.py:17: FutureWarning: DataFrameGroupBy.apply operated on the grouping columns. This behavior is deprecated, and in a future version of pandas the grouping columns will be excluded from the operation. Either pass `include_groups=False` to exclude the groupings or explicitly select the grouping columns after groupby to silence this warning.\n",
      "  .apply(lambda d: rolling_mean_timebased(d, window, col, 'median')).fillna(0)\n",
      "/var/folders/v0/8r5h4ym13fb_mzmqc1hfkt580000gn/T/ipykernel_99039/3279698374.py:22: FutureWarning: DataFrameGroupBy.apply operated on the grouping columns. This behavior is deprecated, and in a future version of pandas the grouping columns will be excluded from the operation. Either pass `include_groups=False` to exclude the groupings or explicitly select the grouping columns after groupby to silence this warning.\n",
      "  .apply(lambda d: rolling_mean_timebased(d, window, col, 'sum')).fillna(0)\n",
      "/var/folders/v0/8r5h4ym13fb_mzmqc1hfkt580000gn/T/ipykernel_99039/3279698374.py:27: FutureWarning: DataFrameGroupBy.apply operated on the grouping columns. This behavior is deprecated, and in a future version of pandas the grouping columns will be excluded from the operation. Either pass `include_groups=False` to exclude the groupings or explicitly select the grouping columns after groupby to silence this warning.\n",
      "  .apply(lambda d: rolling_mean_timebased(d, window, col, 'count')).fillna(0)\n",
      "/var/folders/v0/8r5h4ym13fb_mzmqc1hfkt580000gn/T/ipykernel_99039/3279698374.py:7: FutureWarning: DataFrameGroupBy.apply operated on the grouping columns. This behavior is deprecated, and in a future version of pandas the grouping columns will be excluded from the operation. Either pass `include_groups=False` to exclude the groupings or explicitly select the grouping columns after groupby to silence this warning.\n",
      "  .apply(lambda d: rolling_mean_timebased(d, window, col, 'mean')).fillna(0)\n",
      "/var/folders/v0/8r5h4ym13fb_mzmqc1hfkt580000gn/T/ipykernel_99039/3279698374.py:12: FutureWarning: DataFrameGroupBy.apply operated on the grouping columns. This behavior is deprecated, and in a future version of pandas the grouping columns will be excluded from the operation. Either pass `include_groups=False` to exclude the groupings or explicitly select the grouping columns after groupby to silence this warning.\n",
      "  .apply(lambda d: rolling_mean_timebased(d, window, col, 'std')).fillna(0)\n",
      "/var/folders/v0/8r5h4ym13fb_mzmqc1hfkt580000gn/T/ipykernel_99039/3279698374.py:17: FutureWarning: DataFrameGroupBy.apply operated on the grouping columns. This behavior is deprecated, and in a future version of pandas the grouping columns will be excluded from the operation. Either pass `include_groups=False` to exclude the groupings or explicitly select the grouping columns after groupby to silence this warning.\n",
      "  .apply(lambda d: rolling_mean_timebased(d, window, col, 'median')).fillna(0)\n",
      "/var/folders/v0/8r5h4ym13fb_mzmqc1hfkt580000gn/T/ipykernel_99039/3279698374.py:22: FutureWarning: DataFrameGroupBy.apply operated on the grouping columns. This behavior is deprecated, and in a future version of pandas the grouping columns will be excluded from the operation. Either pass `include_groups=False` to exclude the groupings or explicitly select the grouping columns after groupby to silence this warning.\n",
      "  .apply(lambda d: rolling_mean_timebased(d, window, col, 'sum')).fillna(0)\n",
      "/var/folders/v0/8r5h4ym13fb_mzmqc1hfkt580000gn/T/ipykernel_99039/3279698374.py:27: FutureWarning: DataFrameGroupBy.apply operated on the grouping columns. This behavior is deprecated, and in a future version of pandas the grouping columns will be excluded from the operation. Either pass `include_groups=False` to exclude the groupings or explicitly select the grouping columns after groupby to silence this warning.\n",
      "  .apply(lambda d: rolling_mean_timebased(d, window, col, 'count')).fillna(0)\n",
      "/var/folders/v0/8r5h4ym13fb_mzmqc1hfkt580000gn/T/ipykernel_99039/3279698374.py:7: FutureWarning: DataFrameGroupBy.apply operated on the grouping columns. This behavior is deprecated, and in a future version of pandas the grouping columns will be excluded from the operation. Either pass `include_groups=False` to exclude the groupings or explicitly select the grouping columns after groupby to silence this warning.\n",
      "  .apply(lambda d: rolling_mean_timebased(d, window, col, 'mean')).fillna(0)\n",
      "/var/folders/v0/8r5h4ym13fb_mzmqc1hfkt580000gn/T/ipykernel_99039/3279698374.py:12: FutureWarning: DataFrameGroupBy.apply operated on the grouping columns. This behavior is deprecated, and in a future version of pandas the grouping columns will be excluded from the operation. Either pass `include_groups=False` to exclude the groupings or explicitly select the grouping columns after groupby to silence this warning.\n",
      "  .apply(lambda d: rolling_mean_timebased(d, window, col, 'std')).fillna(0)\n",
      "/var/folders/v0/8r5h4ym13fb_mzmqc1hfkt580000gn/T/ipykernel_99039/3279698374.py:17: FutureWarning: DataFrameGroupBy.apply operated on the grouping columns. This behavior is deprecated, and in a future version of pandas the grouping columns will be excluded from the operation. Either pass `include_groups=False` to exclude the groupings or explicitly select the grouping columns after groupby to silence this warning.\n",
      "  .apply(lambda d: rolling_mean_timebased(d, window, col, 'median')).fillna(0)\n",
      "/var/folders/v0/8r5h4ym13fb_mzmqc1hfkt580000gn/T/ipykernel_99039/3279698374.py:22: FutureWarning: DataFrameGroupBy.apply operated on the grouping columns. This behavior is deprecated, and in a future version of pandas the grouping columns will be excluded from the operation. Either pass `include_groups=False` to exclude the groupings or explicitly select the grouping columns after groupby to silence this warning.\n",
      "  .apply(lambda d: rolling_mean_timebased(d, window, col, 'sum')).fillna(0)\n",
      "/var/folders/v0/8r5h4ym13fb_mzmqc1hfkt580000gn/T/ipykernel_99039/3279698374.py:27: FutureWarning: DataFrameGroupBy.apply operated on the grouping columns. This behavior is deprecated, and in a future version of pandas the grouping columns will be excluded from the operation. Either pass `include_groups=False` to exclude the groupings or explicitly select the grouping columns after groupby to silence this warning.\n",
      "  .apply(lambda d: rolling_mean_timebased(d, window, col, 'count')).fillna(0)\n",
      "/var/folders/v0/8r5h4ym13fb_mzmqc1hfkt580000gn/T/ipykernel_99039/3279698374.py:7: FutureWarning: DataFrameGroupBy.apply operated on the grouping columns. This behavior is deprecated, and in a future version of pandas the grouping columns will be excluded from the operation. Either pass `include_groups=False` to exclude the groupings or explicitly select the grouping columns after groupby to silence this warning.\n",
      "  .apply(lambda d: rolling_mean_timebased(d, window, col, 'mean')).fillna(0)\n",
      "/var/folders/v0/8r5h4ym13fb_mzmqc1hfkt580000gn/T/ipykernel_99039/3279698374.py:12: FutureWarning: DataFrameGroupBy.apply operated on the grouping columns. This behavior is deprecated, and in a future version of pandas the grouping columns will be excluded from the operation. Either pass `include_groups=False` to exclude the groupings or explicitly select the grouping columns after groupby to silence this warning.\n",
      "  .apply(lambda d: rolling_mean_timebased(d, window, col, 'std')).fillna(0)\n",
      "/var/folders/v0/8r5h4ym13fb_mzmqc1hfkt580000gn/T/ipykernel_99039/3279698374.py:17: FutureWarning: DataFrameGroupBy.apply operated on the grouping columns. This behavior is deprecated, and in a future version of pandas the grouping columns will be excluded from the operation. Either pass `include_groups=False` to exclude the groupings or explicitly select the grouping columns after groupby to silence this warning.\n",
      "  .apply(lambda d: rolling_mean_timebased(d, window, col, 'median')).fillna(0)\n",
      "/var/folders/v0/8r5h4ym13fb_mzmqc1hfkt580000gn/T/ipykernel_99039/3279698374.py:22: FutureWarning: DataFrameGroupBy.apply operated on the grouping columns. This behavior is deprecated, and in a future version of pandas the grouping columns will be excluded from the operation. Either pass `include_groups=False` to exclude the groupings or explicitly select the grouping columns after groupby to silence this warning.\n",
      "  .apply(lambda d: rolling_mean_timebased(d, window, col, 'sum')).fillna(0)\n",
      "/var/folders/v0/8r5h4ym13fb_mzmqc1hfkt580000gn/T/ipykernel_99039/3279698374.py:27: FutureWarning: DataFrameGroupBy.apply operated on the grouping columns. This behavior is deprecated, and in a future version of pandas the grouping columns will be excluded from the operation. Either pass `include_groups=False` to exclude the groupings or explicitly select the grouping columns after groupby to silence this warning.\n",
      "  .apply(lambda d: rolling_mean_timebased(d, window, col, 'count')).fillna(0)\n",
      "/var/folders/v0/8r5h4ym13fb_mzmqc1hfkt580000gn/T/ipykernel_99039/3279698374.py:7: FutureWarning: DataFrameGroupBy.apply operated on the grouping columns. This behavior is deprecated, and in a future version of pandas the grouping columns will be excluded from the operation. Either pass `include_groups=False` to exclude the groupings or explicitly select the grouping columns after groupby to silence this warning.\n",
      "  .apply(lambda d: rolling_mean_timebased(d, window, col, 'mean')).fillna(0)\n",
      "/var/folders/v0/8r5h4ym13fb_mzmqc1hfkt580000gn/T/ipykernel_99039/3279698374.py:12: FutureWarning: DataFrameGroupBy.apply operated on the grouping columns. This behavior is deprecated, and in a future version of pandas the grouping columns will be excluded from the operation. Either pass `include_groups=False` to exclude the groupings or explicitly select the grouping columns after groupby to silence this warning.\n",
      "  .apply(lambda d: rolling_mean_timebased(d, window, col, 'std')).fillna(0)\n",
      "/var/folders/v0/8r5h4ym13fb_mzmqc1hfkt580000gn/T/ipykernel_99039/3279698374.py:17: FutureWarning: DataFrameGroupBy.apply operated on the grouping columns. This behavior is deprecated, and in a future version of pandas the grouping columns will be excluded from the operation. Either pass `include_groups=False` to exclude the groupings or explicitly select the grouping columns after groupby to silence this warning.\n",
      "  .apply(lambda d: rolling_mean_timebased(d, window, col, 'median')).fillna(0)\n",
      "/var/folders/v0/8r5h4ym13fb_mzmqc1hfkt580000gn/T/ipykernel_99039/3279698374.py:22: FutureWarning: DataFrameGroupBy.apply operated on the grouping columns. This behavior is deprecated, and in a future version of pandas the grouping columns will be excluded from the operation. Either pass `include_groups=False` to exclude the groupings or explicitly select the grouping columns after groupby to silence this warning.\n",
      "  .apply(lambda d: rolling_mean_timebased(d, window, col, 'sum')).fillna(0)\n",
      "/var/folders/v0/8r5h4ym13fb_mzmqc1hfkt580000gn/T/ipykernel_99039/3279698374.py:27: FutureWarning: DataFrameGroupBy.apply operated on the grouping columns. This behavior is deprecated, and in a future version of pandas the grouping columns will be excluded from the operation. Either pass `include_groups=False` to exclude the groupings or explicitly select the grouping columns after groupby to silence this warning.\n",
      "  .apply(lambda d: rolling_mean_timebased(d, window, col, 'count')).fillna(0)\n",
      "/var/folders/v0/8r5h4ym13fb_mzmqc1hfkt580000gn/T/ipykernel_99039/3279698374.py:7: FutureWarning: DataFrameGroupBy.apply operated on the grouping columns. This behavior is deprecated, and in a future version of pandas the grouping columns will be excluded from the operation. Either pass `include_groups=False` to exclude the groupings or explicitly select the grouping columns after groupby to silence this warning.\n",
      "  .apply(lambda d: rolling_mean_timebased(d, window, col, 'mean')).fillna(0)\n",
      "/var/folders/v0/8r5h4ym13fb_mzmqc1hfkt580000gn/T/ipykernel_99039/3279698374.py:12: FutureWarning: DataFrameGroupBy.apply operated on the grouping columns. This behavior is deprecated, and in a future version of pandas the grouping columns will be excluded from the operation. Either pass `include_groups=False` to exclude the groupings or explicitly select the grouping columns after groupby to silence this warning.\n",
      "  .apply(lambda d: rolling_mean_timebased(d, window, col, 'std')).fillna(0)\n",
      "/var/folders/v0/8r5h4ym13fb_mzmqc1hfkt580000gn/T/ipykernel_99039/3279698374.py:17: FutureWarning: DataFrameGroupBy.apply operated on the grouping columns. This behavior is deprecated, and in a future version of pandas the grouping columns will be excluded from the operation. Either pass `include_groups=False` to exclude the groupings or explicitly select the grouping columns after groupby to silence this warning.\n",
      "  .apply(lambda d: rolling_mean_timebased(d, window, col, 'median')).fillna(0)\n",
      "/var/folders/v0/8r5h4ym13fb_mzmqc1hfkt580000gn/T/ipykernel_99039/3279698374.py:22: FutureWarning: DataFrameGroupBy.apply operated on the grouping columns. This behavior is deprecated, and in a future version of pandas the grouping columns will be excluded from the operation. Either pass `include_groups=False` to exclude the groupings or explicitly select the grouping columns after groupby to silence this warning.\n",
      "  .apply(lambda d: rolling_mean_timebased(d, window, col, 'sum')).fillna(0)\n",
      "/var/folders/v0/8r5h4ym13fb_mzmqc1hfkt580000gn/T/ipykernel_99039/3279698374.py:27: FutureWarning: DataFrameGroupBy.apply operated on the grouping columns. This behavior is deprecated, and in a future version of pandas the grouping columns will be excluded from the operation. Either pass `include_groups=False` to exclude the groupings or explicitly select the grouping columns after groupby to silence this warning.\n",
      "  .apply(lambda d: rolling_mean_timebased(d, window, col, 'count')).fillna(0)\n",
      "/var/folders/v0/8r5h4ym13fb_mzmqc1hfkt580000gn/T/ipykernel_99039/3279698374.py:7: FutureWarning: DataFrameGroupBy.apply operated on the grouping columns. This behavior is deprecated, and in a future version of pandas the grouping columns will be excluded from the operation. Either pass `include_groups=False` to exclude the groupings or explicitly select the grouping columns after groupby to silence this warning.\n",
      "  .apply(lambda d: rolling_mean_timebased(d, window, col, 'mean')).fillna(0)\n",
      "/var/folders/v0/8r5h4ym13fb_mzmqc1hfkt580000gn/T/ipykernel_99039/3279698374.py:12: FutureWarning: DataFrameGroupBy.apply operated on the grouping columns. This behavior is deprecated, and in a future version of pandas the grouping columns will be excluded from the operation. Either pass `include_groups=False` to exclude the groupings or explicitly select the grouping columns after groupby to silence this warning.\n",
      "  .apply(lambda d: rolling_mean_timebased(d, window, col, 'std')).fillna(0)\n",
      "/var/folders/v0/8r5h4ym13fb_mzmqc1hfkt580000gn/T/ipykernel_99039/3279698374.py:17: FutureWarning: DataFrameGroupBy.apply operated on the grouping columns. This behavior is deprecated, and in a future version of pandas the grouping columns will be excluded from the operation. Either pass `include_groups=False` to exclude the groupings or explicitly select the grouping columns after groupby to silence this warning.\n",
      "  .apply(lambda d: rolling_mean_timebased(d, window, col, 'median')).fillna(0)\n",
      "/var/folders/v0/8r5h4ym13fb_mzmqc1hfkt580000gn/T/ipykernel_99039/3279698374.py:22: FutureWarning: DataFrameGroupBy.apply operated on the grouping columns. This behavior is deprecated, and in a future version of pandas the grouping columns will be excluded from the operation. Either pass `include_groups=False` to exclude the groupings or explicitly select the grouping columns after groupby to silence this warning.\n",
      "  .apply(lambda d: rolling_mean_timebased(d, window, col, 'sum')).fillna(0)\n",
      "/var/folders/v0/8r5h4ym13fb_mzmqc1hfkt580000gn/T/ipykernel_99039/3279698374.py:27: FutureWarning: DataFrameGroupBy.apply operated on the grouping columns. This behavior is deprecated, and in a future version of pandas the grouping columns will be excluded from the operation. Either pass `include_groups=False` to exclude the groupings or explicitly select the grouping columns after groupby to silence this warning.\n",
      "  .apply(lambda d: rolling_mean_timebased(d, window, col, 'count')).fillna(0)\n",
      "/var/folders/v0/8r5h4ym13fb_mzmqc1hfkt580000gn/T/ipykernel_99039/3279698374.py:7: FutureWarning: DataFrameGroupBy.apply operated on the grouping columns. This behavior is deprecated, and in a future version of pandas the grouping columns will be excluded from the operation. Either pass `include_groups=False` to exclude the groupings or explicitly select the grouping columns after groupby to silence this warning.\n",
      "  .apply(lambda d: rolling_mean_timebased(d, window, col, 'mean')).fillna(0)\n",
      "/var/folders/v0/8r5h4ym13fb_mzmqc1hfkt580000gn/T/ipykernel_99039/3279698374.py:12: FutureWarning: DataFrameGroupBy.apply operated on the grouping columns. This behavior is deprecated, and in a future version of pandas the grouping columns will be excluded from the operation. Either pass `include_groups=False` to exclude the groupings or explicitly select the grouping columns after groupby to silence this warning.\n",
      "  .apply(lambda d: rolling_mean_timebased(d, window, col, 'std')).fillna(0)\n",
      "/var/folders/v0/8r5h4ym13fb_mzmqc1hfkt580000gn/T/ipykernel_99039/3279698374.py:17: FutureWarning: DataFrameGroupBy.apply operated on the grouping columns. This behavior is deprecated, and in a future version of pandas the grouping columns will be excluded from the operation. Either pass `include_groups=False` to exclude the groupings or explicitly select the grouping columns after groupby to silence this warning.\n",
      "  .apply(lambda d: rolling_mean_timebased(d, window, col, 'median')).fillna(0)\n",
      "/var/folders/v0/8r5h4ym13fb_mzmqc1hfkt580000gn/T/ipykernel_99039/3279698374.py:22: FutureWarning: DataFrameGroupBy.apply operated on the grouping columns. This behavior is deprecated, and in a future version of pandas the grouping columns will be excluded from the operation. Either pass `include_groups=False` to exclude the groupings or explicitly select the grouping columns after groupby to silence this warning.\n",
      "  .apply(lambda d: rolling_mean_timebased(d, window, col, 'sum')).fillna(0)\n",
      "/var/folders/v0/8r5h4ym13fb_mzmqc1hfkt580000gn/T/ipykernel_99039/3279698374.py:27: FutureWarning: DataFrameGroupBy.apply operated on the grouping columns. This behavior is deprecated, and in a future version of pandas the grouping columns will be excluded from the operation. Either pass `include_groups=False` to exclude the groupings or explicitly select the grouping columns after groupby to silence this warning.\n",
      "  .apply(lambda d: rolling_mean_timebased(d, window, col, 'count')).fillna(0)\n",
      "/var/folders/v0/8r5h4ym13fb_mzmqc1hfkt580000gn/T/ipykernel_99039/3279698374.py:7: FutureWarning: DataFrameGroupBy.apply operated on the grouping columns. This behavior is deprecated, and in a future version of pandas the grouping columns will be excluded from the operation. Either pass `include_groups=False` to exclude the groupings or explicitly select the grouping columns after groupby to silence this warning.\n",
      "  .apply(lambda d: rolling_mean_timebased(d, window, col, 'mean')).fillna(0)\n",
      "/var/folders/v0/8r5h4ym13fb_mzmqc1hfkt580000gn/T/ipykernel_99039/3279698374.py:12: FutureWarning: DataFrameGroupBy.apply operated on the grouping columns. This behavior is deprecated, and in a future version of pandas the grouping columns will be excluded from the operation. Either pass `include_groups=False` to exclude the groupings or explicitly select the grouping columns after groupby to silence this warning.\n",
      "  .apply(lambda d: rolling_mean_timebased(d, window, col, 'std')).fillna(0)\n",
      "/var/folders/v0/8r5h4ym13fb_mzmqc1hfkt580000gn/T/ipykernel_99039/3279698374.py:17: FutureWarning: DataFrameGroupBy.apply operated on the grouping columns. This behavior is deprecated, and in a future version of pandas the grouping columns will be excluded from the operation. Either pass `include_groups=False` to exclude the groupings or explicitly select the grouping columns after groupby to silence this warning.\n",
      "  .apply(lambda d: rolling_mean_timebased(d, window, col, 'median')).fillna(0)\n",
      "/var/folders/v0/8r5h4ym13fb_mzmqc1hfkt580000gn/T/ipykernel_99039/3279698374.py:22: FutureWarning: DataFrameGroupBy.apply operated on the grouping columns. This behavior is deprecated, and in a future version of pandas the grouping columns will be excluded from the operation. Either pass `include_groups=False` to exclude the groupings or explicitly select the grouping columns after groupby to silence this warning.\n",
      "  .apply(lambda d: rolling_mean_timebased(d, window, col, 'sum')).fillna(0)\n",
      "/var/folders/v0/8r5h4ym13fb_mzmqc1hfkt580000gn/T/ipykernel_99039/3279698374.py:27: FutureWarning: DataFrameGroupBy.apply operated on the grouping columns. This behavior is deprecated, and in a future version of pandas the grouping columns will be excluded from the operation. Either pass `include_groups=False` to exclude the groupings or explicitly select the grouping columns after groupby to silence this warning.\n",
      "  .apply(lambda d: rolling_mean_timebased(d, window, col, 'count')).fillna(0)\n",
      "/var/folders/v0/8r5h4ym13fb_mzmqc1hfkt580000gn/T/ipykernel_99039/3279698374.py:7: FutureWarning: DataFrameGroupBy.apply operated on the grouping columns. This behavior is deprecated, and in a future version of pandas the grouping columns will be excluded from the operation. Either pass `include_groups=False` to exclude the groupings or explicitly select the grouping columns after groupby to silence this warning.\n",
      "  .apply(lambda d: rolling_mean_timebased(d, window, col, 'mean')).fillna(0)\n",
      "/var/folders/v0/8r5h4ym13fb_mzmqc1hfkt580000gn/T/ipykernel_99039/3279698374.py:12: FutureWarning: DataFrameGroupBy.apply operated on the grouping columns. This behavior is deprecated, and in a future version of pandas the grouping columns will be excluded from the operation. Either pass `include_groups=False` to exclude the groupings or explicitly select the grouping columns after groupby to silence this warning.\n",
      "  .apply(lambda d: rolling_mean_timebased(d, window, col, 'std')).fillna(0)\n",
      "/var/folders/v0/8r5h4ym13fb_mzmqc1hfkt580000gn/T/ipykernel_99039/3279698374.py:17: FutureWarning: DataFrameGroupBy.apply operated on the grouping columns. This behavior is deprecated, and in a future version of pandas the grouping columns will be excluded from the operation. Either pass `include_groups=False` to exclude the groupings or explicitly select the grouping columns after groupby to silence this warning.\n",
      "  .apply(lambda d: rolling_mean_timebased(d, window, col, 'median')).fillna(0)\n",
      "/var/folders/v0/8r5h4ym13fb_mzmqc1hfkt580000gn/T/ipykernel_99039/3279698374.py:22: FutureWarning: DataFrameGroupBy.apply operated on the grouping columns. This behavior is deprecated, and in a future version of pandas the grouping columns will be excluded from the operation. Either pass `include_groups=False` to exclude the groupings or explicitly select the grouping columns after groupby to silence this warning.\n",
      "  .apply(lambda d: rolling_mean_timebased(d, window, col, 'sum')).fillna(0)\n",
      "/var/folders/v0/8r5h4ym13fb_mzmqc1hfkt580000gn/T/ipykernel_99039/3279698374.py:27: FutureWarning: DataFrameGroupBy.apply operated on the grouping columns. This behavior is deprecated, and in a future version of pandas the grouping columns will be excluded from the operation. Either pass `include_groups=False` to exclude the groupings or explicitly select the grouping columns after groupby to silence this warning.\n",
      "  .apply(lambda d: rolling_mean_timebased(d, window, col, 'count')).fillna(0)\n"
     ]
    }
   ],
   "source": [
    "\n",
    "eps = 1e-6\n",
    "for df in [X_train, X_val, X_test]:\n",
    "    for window in WINDOWS:\n",
    "        for col in AMOUNT_FEATURES.keys():\n",
    "            mean_ = (\n",
    "                df.groupby('customer_id')\n",
    "                    .apply(lambda d: rolling_mean_timebased(d, window, col, 'mean')).fillna(0)\n",
    "                    .to_numpy()\n",
    "            )\n",
    "            std_ = (\n",
    "                df.groupby('customer_id')\n",
    "                    .apply(lambda d: rolling_mean_timebased(d, window, col, 'std')).fillna(0)\n",
    "                    .to_numpy()\n",
    "            )\n",
    "            median_ = (\n",
    "                df.groupby('customer_id')\n",
    "                    .apply(lambda d: rolling_mean_timebased(d, window, col, 'median')).fillna(0)\n",
    "                    .to_numpy()\n",
    "            )\n",
    "            sum_ = (\n",
    "                df.groupby('customer_id')\n",
    "                    .apply(lambda d: rolling_mean_timebased(d, window, col, 'sum')).fillna(0)\n",
    "                    .to_numpy()\n",
    "            )\n",
    "            count_ = (\n",
    "                df.groupby('customer_id')\n",
    "                    .apply(lambda d: rolling_mean_timebased(d, window, col, 'count')).fillna(0)\n",
    "                    .to_numpy()\n",
    "            )\n",
    "            df[f'{col}_mean_{window}'] = mean_\n",
    "            df[f'{col}_std_{window}'] = std_\n",
    "            df[f'{col}_median_{window}'] = median_\n",
    "            df[f'{col}_sum_{window}'] = sum_\n",
    "            df[f'{col}_count_{window}'] = count_\n",
    "\n",
    "            df[f'{col}_zscore_{window}'] = (df[col] - mean_) / (std_ + eps)\n",
    "            df[f'{col}_ration_to_mean_{window}'] = df[col] / (mean_ + eps)\n",
    "\n",
    "            AMOUNT_FEATURES[col] = AMOUNT_FEATURES[col].union([\n",
    "                f'{col}_mean_{window}',\n",
    "                f'{col}_std_{window}',\n",
    "                f'{col}_median_{window}',\n",
    "                f'{col}_sum_{window}',\n",
    "                f'{col}_count_{window}',\n",
    "                f'{col}_zscore_{window}',\n",
    "                f'{col}_ration_to_mean_{window}'\n",
    "            ])"
   ]
  },
  {
   "cell_type": "markdown",
   "id": "f5a3c73a",
   "metadata": {},
   "source": [
    "### Delay of fraud transaction for sector"
   ]
  },
  {
   "cell_type": "code",
   "execution_count": 26,
   "id": "b5fd2d60",
   "metadata": {},
   "outputs": [],
   "source": [
    "def delayed_sector_stats_group(g: pd.DataFrame, time_col: str, target_col: str,\n",
    "                               delay_days: int, w_days: int) -> pd.DataFrame:\n",
    "    g = g.sort_values(time_col)\n",
    "    y = g[target_col].astype(int)\n",
    "    s = pd.Series(y.values, index=pd.to_datetime(g[time_col].values))\n",
    "\n",
    "    wd = s.rolling(f'{w_days + delay_days}D', closed='left')\n",
    "    d  = s.rolling(f'{delay_days}D',          closed='left')\n",
    "\n",
    "    fraud_window = wd.sum() - d.sum()\n",
    "    cnt_window   = wd.count() - d.count()\n",
    "\n",
    "    risk = (fraud_window / cnt_window.replace(0, np.nan)).fillna(0.0)\n",
    "    count = cnt_window.fillna(0.0)\n",
    "\n",
    "    return pd.DataFrame({\n",
    "        f'risk_{w_days}d_delay{delay_days}d': risk.to_numpy(),\n",
    "        f'tx_{w_days}d_delay{delay_days}d': count.to_numpy()\n",
    "    }, index=g.index)"
   ]
  },
  {
   "cell_type": "code",
   "execution_count": 27,
   "id": "dd12cdbc",
   "metadata": {},
   "outputs": [
    {
     "name": "stderr",
     "output_type": "stream",
     "text": [
      "/var/folders/v0/8r5h4ym13fb_mzmqc1hfkt580000gn/T/ipykernel_99039/3142848317.py:5: FutureWarning: DataFrameGroupBy.apply operated on the grouping columns. This behavior is deprecated, and in a future version of pandas the grouping columns will be excluded from the operation. Either pass `include_groups=False` to exclude the groupings or explicitly select the grouping columns after groupby to silence this warning.\n",
      "  .apply(lambda g: delayed_sector_stats_group(\n",
      "/var/folders/v0/8r5h4ym13fb_mzmqc1hfkt580000gn/T/ipykernel_99039/3142848317.py:5: FutureWarning: DataFrameGroupBy.apply operated on the grouping columns. This behavior is deprecated, and in a future version of pandas the grouping columns will be excluded from the operation. Either pass `include_groups=False` to exclude the groupings or explicitly select the grouping columns after groupby to silence this warning.\n",
      "  .apply(lambda g: delayed_sector_stats_group(\n",
      "/var/folders/v0/8r5h4ym13fb_mzmqc1hfkt580000gn/T/ipykernel_99039/3142848317.py:5: FutureWarning: DataFrameGroupBy.apply operated on the grouping columns. This behavior is deprecated, and in a future version of pandas the grouping columns will be excluded from the operation. Either pass `include_groups=False` to exclude the groupings or explicitly select the grouping columns after groupby to silence this warning.\n",
      "  .apply(lambda g: delayed_sector_stats_group(\n",
      "/var/folders/v0/8r5h4ym13fb_mzmqc1hfkt580000gn/T/ipykernel_99039/3142848317.py:5: FutureWarning: DataFrameGroupBy.apply operated on the grouping columns. This behavior is deprecated, and in a future version of pandas the grouping columns will be excluded from the operation. Either pass `include_groups=False` to exclude the groupings or explicitly select the grouping columns after groupby to silence this warning.\n",
      "  .apply(lambda g: delayed_sector_stats_group(\n",
      "/var/folders/v0/8r5h4ym13fb_mzmqc1hfkt580000gn/T/ipykernel_99039/3142848317.py:5: FutureWarning: DataFrameGroupBy.apply operated on the grouping columns. This behavior is deprecated, and in a future version of pandas the grouping columns will be excluded from the operation. Either pass `include_groups=False` to exclude the groupings or explicitly select the grouping columns after groupby to silence this warning.\n",
      "  .apply(lambda g: delayed_sector_stats_group(\n",
      "/var/folders/v0/8r5h4ym13fb_mzmqc1hfkt580000gn/T/ipykernel_99039/3142848317.py:5: FutureWarning: DataFrameGroupBy.apply operated on the grouping columns. This behavior is deprecated, and in a future version of pandas the grouping columns will be excluded from the operation. Either pass `include_groups=False` to exclude the groupings or explicitly select the grouping columns after groupby to silence this warning.\n",
      "  .apply(lambda g: delayed_sector_stats_group(\n",
      "/var/folders/v0/8r5h4ym13fb_mzmqc1hfkt580000gn/T/ipykernel_99039/3142848317.py:5: FutureWarning: DataFrameGroupBy.apply operated on the grouping columns. This behavior is deprecated, and in a future version of pandas the grouping columns will be excluded from the operation. Either pass `include_groups=False` to exclude the groupings or explicitly select the grouping columns after groupby to silence this warning.\n",
      "  .apply(lambda g: delayed_sector_stats_group(\n",
      "/var/folders/v0/8r5h4ym13fb_mzmqc1hfkt580000gn/T/ipykernel_99039/3142848317.py:5: FutureWarning: DataFrameGroupBy.apply operated on the grouping columns. This behavior is deprecated, and in a future version of pandas the grouping columns will be excluded from the operation. Either pass `include_groups=False` to exclude the groupings or explicitly select the grouping columns after groupby to silence this warning.\n",
      "  .apply(lambda g: delayed_sector_stats_group(\n",
      "/var/folders/v0/8r5h4ym13fb_mzmqc1hfkt580000gn/T/ipykernel_99039/3142848317.py:5: FutureWarning: DataFrameGroupBy.apply operated on the grouping columns. This behavior is deprecated, and in a future version of pandas the grouping columns will be excluded from the operation. Either pass `include_groups=False` to exclude the groupings or explicitly select the grouping columns after groupby to silence this warning.\n",
      "  .apply(lambda g: delayed_sector_stats_group(\n",
      "/var/folders/v0/8r5h4ym13fb_mzmqc1hfkt580000gn/T/ipykernel_99039/3142848317.py:5: FutureWarning: DataFrameGroupBy.apply operated on the grouping columns. This behavior is deprecated, and in a future version of pandas the grouping columns will be excluded from the operation. Either pass `include_groups=False` to exclude the groupings or explicitly select the grouping columns after groupby to silence this warning.\n",
      "  .apply(lambda g: delayed_sector_stats_group(\n",
      "/var/folders/v0/8r5h4ym13fb_mzmqc1hfkt580000gn/T/ipykernel_99039/3142848317.py:5: FutureWarning: DataFrameGroupBy.apply operated on the grouping columns. This behavior is deprecated, and in a future version of pandas the grouping columns will be excluded from the operation. Either pass `include_groups=False` to exclude the groupings or explicitly select the grouping columns after groupby to silence this warning.\n",
      "  .apply(lambda g: delayed_sector_stats_group(\n",
      "/var/folders/v0/8r5h4ym13fb_mzmqc1hfkt580000gn/T/ipykernel_99039/3142848317.py:5: FutureWarning: DataFrameGroupBy.apply operated on the grouping columns. This behavior is deprecated, and in a future version of pandas the grouping columns will be excluded from the operation. Either pass `include_groups=False` to exclude the groupings or explicitly select the grouping columns after groupby to silence this warning.\n",
      "  .apply(lambda g: delayed_sector_stats_group(\n"
     ]
    }
   ],
   "source": [
    "delay_period = 7\n",
    "for df in [X_train, X_val, X_test]:\n",
    "    for w in [7, 14, 21, 30]:\n",
    "        df_stats = (df.groupby('sector_id', group_keys=False)\n",
    "                    .apply(lambda g: delayed_sector_stats_group(\n",
    "                        g, time_col='tx_datetime', target_col='tx_fraud',\n",
    "                        delay_days=delay_period, w_days=w)))\n",
    "        for col in df_stats.columns:\n",
    "            df[f'sector_{col}'] = df_stats[col].to_numpy()\n",
    "            SECTOR_FEATURES.add(f'sector_{col}')"
   ]
  },
  {
   "cell_type": "markdown",
   "id": "e982ff4b",
   "metadata": {},
   "source": [
    "### Average and std transaction amount for customer within window"
   ]
  },
  {
   "cell_type": "code",
   "execution_count": 28,
   "id": "a4e586fb",
   "metadata": {},
   "outputs": [],
   "source": [
    "for df in [X_train, X_val, X_test]:\n",
    "    for col in  AMOUNT_FEATURES.keys():\n",
    "        for window in WINDOWS:\n",
    "                tx_window_col = f'customer_id_{col}_mean_{window}_window'\n",
    "                tx_avg_amount_col = f'customer_id_{col}_std_{window}_window'\n",
    "\n",
    "                mean_ = df.set_index('tx_datetime').groupby('customer_id')[col].apply(lambda s: s.shift().rolling(window).mean())\n",
    "                std_ = df.set_index('tx_datetime').groupby('customer_id')[col].apply(lambda s: s.shift().rolling(window).std())\n",
    "                df[tx_window_col] = mean_.to_numpy()\n",
    "                df[tx_avg_amount_col] = std_.to_numpy()\n",
    "                df[tx_window_col] = df[tx_window_col].fillna(0)\n",
    "                df[tx_avg_amount_col] = df[tx_avg_amount_col].fillna(0)\n",
    "                AMOUNT_FEATURES[col] = AMOUNT_FEATURES[col].union([\n",
    "                    tx_window_col,\n",
    "                    tx_avg_amount_col\n",
    "                ])"
   ]
  },
  {
   "cell_type": "markdown",
   "id": "60c72d70",
   "metadata": {},
   "source": [
    "### Top percentile of transaction for customer"
   ]
  },
  {
   "cell_type": "code",
   "execution_count": 29,
   "id": "5055c5a9",
   "metadata": {},
   "outputs": [],
   "source": [
    "def add_customer_top_percentile_flags(\n",
    "    df: pd.DataFrame,\n",
    "    amount_col: str = \"tx_amount_log\",\n",
    "    percentiles = (95, 99),\n",
    "    windows = (None, \"30D\", \"7D\")\n",
    ") -> pd.DataFrame:\n",
    "    df = df.sort_values(['customer_id','tx_datetime']).reset_index(drop=True)\n",
    "    df['tx_datetime'] = pd.to_datetime(df['tx_datetime'], errors='coerce')\n",
    "\n",
    "    if None in windows:\n",
    "        for p in percentiles:\n",
    "            thr = (df.groupby('customer_id', group_keys=False)[amount_col]\n",
    "                     .apply(lambda s: s.shift().expanding().quantile(p/100.0)))\n",
    "            col_thr = f'{amount_col}_thr_hist_p{p}'\n",
    "            df[col_thr] = thr.fillna(0).to_numpy()\n",
    "            df[f'top_p_hist_{p}'] = (df[amount_col] >= df[col_thr]).astype('int8')\n",
    "\n",
    "    for w in windows:\n",
    "        if w is None:\n",
    "            continue\n",
    "        for p in percentiles:\n",
    "            thr = (df.groupby('customer_id', group_keys=False)\n",
    "                     .apply(lambda g: g.set_index('tx_datetime')[amount_col]\n",
    "                                        .rolling(w, closed='left')\n",
    "                                        .quantile(p/100.0))\n",
    "                  ).fillna(0).to_numpy()\n",
    "            col_thr = f'{amount_col}_thr_{w}_p{p}'\n",
    "            df[col_thr] = thr\n",
    "            df[f'top_p_{w}_p{p}'] = (df[amount_col] >= df[col_thr]).astype('int8')\n",
    "\n",
    "    flag_cols = [c for c in df.columns if c.startswith('top_p_')]\n",
    "    df[flag_cols] = df[flag_cols].fillna(0)\n",
    "\n",
    "    return df"
   ]
  },
  {
   "cell_type": "code",
   "execution_count": 30,
   "id": "4d0252d6",
   "metadata": {},
   "outputs": [
    {
     "name": "stderr",
     "output_type": "stream",
     "text": [
      "/var/folders/v0/8r5h4ym13fb_mzmqc1hfkt580000gn/T/ipykernel_99039/2892768174.py:23: FutureWarning: DataFrameGroupBy.apply operated on the grouping columns. This behavior is deprecated, and in a future version of pandas the grouping columns will be excluded from the operation. Either pass `include_groups=False` to exclude the groupings or explicitly select the grouping columns after groupby to silence this warning.\n",
      "  .apply(lambda g: g.set_index('tx_datetime')[amount_col]\n",
      "/var/folders/v0/8r5h4ym13fb_mzmqc1hfkt580000gn/T/ipykernel_99039/2892768174.py:23: FutureWarning: DataFrameGroupBy.apply operated on the grouping columns. This behavior is deprecated, and in a future version of pandas the grouping columns will be excluded from the operation. Either pass `include_groups=False` to exclude the groupings or explicitly select the grouping columns after groupby to silence this warning.\n",
      "  .apply(lambda g: g.set_index('tx_datetime')[amount_col]\n",
      "/var/folders/v0/8r5h4ym13fb_mzmqc1hfkt580000gn/T/ipykernel_99039/2892768174.py:23: FutureWarning: DataFrameGroupBy.apply operated on the grouping columns. This behavior is deprecated, and in a future version of pandas the grouping columns will be excluded from the operation. Either pass `include_groups=False` to exclude the groupings or explicitly select the grouping columns after groupby to silence this warning.\n",
      "  .apply(lambda g: g.set_index('tx_datetime')[amount_col]\n",
      "/var/folders/v0/8r5h4ym13fb_mzmqc1hfkt580000gn/T/ipykernel_99039/2892768174.py:23: FutureWarning: DataFrameGroupBy.apply operated on the grouping columns. This behavior is deprecated, and in a future version of pandas the grouping columns will be excluded from the operation. Either pass `include_groups=False` to exclude the groupings or explicitly select the grouping columns after groupby to silence this warning.\n",
      "  .apply(lambda g: g.set_index('tx_datetime')[amount_col]\n",
      "/var/folders/v0/8r5h4ym13fb_mzmqc1hfkt580000gn/T/ipykernel_99039/2892768174.py:23: FutureWarning: DataFrameGroupBy.apply operated on the grouping columns. This behavior is deprecated, and in a future version of pandas the grouping columns will be excluded from the operation. Either pass `include_groups=False` to exclude the groupings or explicitly select the grouping columns after groupby to silence this warning.\n",
      "  .apply(lambda g: g.set_index('tx_datetime')[amount_col]\n",
      "/var/folders/v0/8r5h4ym13fb_mzmqc1hfkt580000gn/T/ipykernel_99039/2892768174.py:23: FutureWarning: DataFrameGroupBy.apply operated on the grouping columns. This behavior is deprecated, and in a future version of pandas the grouping columns will be excluded from the operation. Either pass `include_groups=False` to exclude the groupings or explicitly select the grouping columns after groupby to silence this warning.\n",
      "  .apply(lambda g: g.set_index('tx_datetime')[amount_col]\n",
      "/var/folders/v0/8r5h4ym13fb_mzmqc1hfkt580000gn/T/ipykernel_99039/2892768174.py:23: FutureWarning: DataFrameGroupBy.apply operated on the grouping columns. This behavior is deprecated, and in a future version of pandas the grouping columns will be excluded from the operation. Either pass `include_groups=False` to exclude the groupings or explicitly select the grouping columns after groupby to silence this warning.\n",
      "  .apply(lambda g: g.set_index('tx_datetime')[amount_col]\n",
      "/var/folders/v0/8r5h4ym13fb_mzmqc1hfkt580000gn/T/ipykernel_99039/2892768174.py:23: FutureWarning: DataFrameGroupBy.apply operated on the grouping columns. This behavior is deprecated, and in a future version of pandas the grouping columns will be excluded from the operation. Either pass `include_groups=False` to exclude the groupings or explicitly select the grouping columns after groupby to silence this warning.\n",
      "  .apply(lambda g: g.set_index('tx_datetime')[amount_col]\n",
      "/var/folders/v0/8r5h4ym13fb_mzmqc1hfkt580000gn/T/ipykernel_99039/2892768174.py:23: FutureWarning: DataFrameGroupBy.apply operated on the grouping columns. This behavior is deprecated, and in a future version of pandas the grouping columns will be excluded from the operation. Either pass `include_groups=False` to exclude the groupings or explicitly select the grouping columns after groupby to silence this warning.\n",
      "  .apply(lambda g: g.set_index('tx_datetime')[amount_col]\n",
      "/var/folders/v0/8r5h4ym13fb_mzmqc1hfkt580000gn/T/ipykernel_99039/2892768174.py:23: FutureWarning: DataFrameGroupBy.apply operated on the grouping columns. This behavior is deprecated, and in a future version of pandas the grouping columns will be excluded from the operation. Either pass `include_groups=False` to exclude the groupings or explicitly select the grouping columns after groupby to silence this warning.\n",
      "  .apply(lambda g: g.set_index('tx_datetime')[amount_col]\n",
      "/var/folders/v0/8r5h4ym13fb_mzmqc1hfkt580000gn/T/ipykernel_99039/2892768174.py:23: FutureWarning: DataFrameGroupBy.apply operated on the grouping columns. This behavior is deprecated, and in a future version of pandas the grouping columns will be excluded from the operation. Either pass `include_groups=False` to exclude the groupings or explicitly select the grouping columns after groupby to silence this warning.\n",
      "  .apply(lambda g: g.set_index('tx_datetime')[amount_col]\n",
      "/var/folders/v0/8r5h4ym13fb_mzmqc1hfkt580000gn/T/ipykernel_99039/2892768174.py:23: FutureWarning: DataFrameGroupBy.apply operated on the grouping columns. This behavior is deprecated, and in a future version of pandas the grouping columns will be excluded from the operation. Either pass `include_groups=False` to exclude the groupings or explicitly select the grouping columns after groupby to silence this warning.\n",
      "  .apply(lambda g: g.set_index('tx_datetime')[amount_col]\n",
      "/var/folders/v0/8r5h4ym13fb_mzmqc1hfkt580000gn/T/ipykernel_99039/2892768174.py:23: FutureWarning: DataFrameGroupBy.apply operated on the grouping columns. This behavior is deprecated, and in a future version of pandas the grouping columns will be excluded from the operation. Either pass `include_groups=False` to exclude the groupings or explicitly select the grouping columns after groupby to silence this warning.\n",
      "  .apply(lambda g: g.set_index('tx_datetime')[amount_col]\n",
      "/var/folders/v0/8r5h4ym13fb_mzmqc1hfkt580000gn/T/ipykernel_99039/2892768174.py:23: FutureWarning: DataFrameGroupBy.apply operated on the grouping columns. This behavior is deprecated, and in a future version of pandas the grouping columns will be excluded from the operation. Either pass `include_groups=False` to exclude the groupings or explicitly select the grouping columns after groupby to silence this warning.\n",
      "  .apply(lambda g: g.set_index('tx_datetime')[amount_col]\n",
      "/var/folders/v0/8r5h4ym13fb_mzmqc1hfkt580000gn/T/ipykernel_99039/2892768174.py:23: FutureWarning: DataFrameGroupBy.apply operated on the grouping columns. This behavior is deprecated, and in a future version of pandas the grouping columns will be excluded from the operation. Either pass `include_groups=False` to exclude the groupings or explicitly select the grouping columns after groupby to silence this warning.\n",
      "  .apply(lambda g: g.set_index('tx_datetime')[amount_col]\n",
      "/var/folders/v0/8r5h4ym13fb_mzmqc1hfkt580000gn/T/ipykernel_99039/2892768174.py:23: FutureWarning: DataFrameGroupBy.apply operated on the grouping columns. This behavior is deprecated, and in a future version of pandas the grouping columns will be excluded from the operation. Either pass `include_groups=False` to exclude the groupings or explicitly select the grouping columns after groupby to silence this warning.\n",
      "  .apply(lambda g: g.set_index('tx_datetime')[amount_col]\n",
      "/var/folders/v0/8r5h4ym13fb_mzmqc1hfkt580000gn/T/ipykernel_99039/2892768174.py:23: FutureWarning: DataFrameGroupBy.apply operated on the grouping columns. This behavior is deprecated, and in a future version of pandas the grouping columns will be excluded from the operation. Either pass `include_groups=False` to exclude the groupings or explicitly select the grouping columns after groupby to silence this warning.\n",
      "  .apply(lambda g: g.set_index('tx_datetime')[amount_col]\n",
      "/var/folders/v0/8r5h4ym13fb_mzmqc1hfkt580000gn/T/ipykernel_99039/2892768174.py:23: FutureWarning: DataFrameGroupBy.apply operated on the grouping columns. This behavior is deprecated, and in a future version of pandas the grouping columns will be excluded from the operation. Either pass `include_groups=False` to exclude the groupings or explicitly select the grouping columns after groupby to silence this warning.\n",
      "  .apply(lambda g: g.set_index('tx_datetime')[amount_col]\n",
      "/var/folders/v0/8r5h4ym13fb_mzmqc1hfkt580000gn/T/ipykernel_99039/2892768174.py:23: FutureWarning: DataFrameGroupBy.apply operated on the grouping columns. This behavior is deprecated, and in a future version of pandas the grouping columns will be excluded from the operation. Either pass `include_groups=False` to exclude the groupings or explicitly select the grouping columns after groupby to silence this warning.\n",
      "  .apply(lambda g: g.set_index('tx_datetime')[amount_col]\n",
      "/var/folders/v0/8r5h4ym13fb_mzmqc1hfkt580000gn/T/ipykernel_99039/2892768174.py:23: FutureWarning: DataFrameGroupBy.apply operated on the grouping columns. This behavior is deprecated, and in a future version of pandas the grouping columns will be excluded from the operation. Either pass `include_groups=False` to exclude the groupings or explicitly select the grouping columns after groupby to silence this warning.\n",
      "  .apply(lambda g: g.set_index('tx_datetime')[amount_col]\n",
      "/var/folders/v0/8r5h4ym13fb_mzmqc1hfkt580000gn/T/ipykernel_99039/2892768174.py:23: FutureWarning: DataFrameGroupBy.apply operated on the grouping columns. This behavior is deprecated, and in a future version of pandas the grouping columns will be excluded from the operation. Either pass `include_groups=False` to exclude the groupings or explicitly select the grouping columns after groupby to silence this warning.\n",
      "  .apply(lambda g: g.set_index('tx_datetime')[amount_col]\n",
      "/var/folders/v0/8r5h4ym13fb_mzmqc1hfkt580000gn/T/ipykernel_99039/2892768174.py:23: FutureWarning: DataFrameGroupBy.apply operated on the grouping columns. This behavior is deprecated, and in a future version of pandas the grouping columns will be excluded from the operation. Either pass `include_groups=False` to exclude the groupings or explicitly select the grouping columns after groupby to silence this warning.\n",
      "  .apply(lambda g: g.set_index('tx_datetime')[amount_col]\n",
      "/var/folders/v0/8r5h4ym13fb_mzmqc1hfkt580000gn/T/ipykernel_99039/2892768174.py:23: FutureWarning: DataFrameGroupBy.apply operated on the grouping columns. This behavior is deprecated, and in a future version of pandas the grouping columns will be excluded from the operation. Either pass `include_groups=False` to exclude the groupings or explicitly select the grouping columns after groupby to silence this warning.\n",
      "  .apply(lambda g: g.set_index('tx_datetime')[amount_col]\n",
      "/var/folders/v0/8r5h4ym13fb_mzmqc1hfkt580000gn/T/ipykernel_99039/2892768174.py:23: FutureWarning: DataFrameGroupBy.apply operated on the grouping columns. This behavior is deprecated, and in a future version of pandas the grouping columns will be excluded from the operation. Either pass `include_groups=False` to exclude the groupings or explicitly select the grouping columns after groupby to silence this warning.\n",
      "  .apply(lambda g: g.set_index('tx_datetime')[amount_col]\n"
     ]
    }
   ],
   "source": [
    "X_train = add_customer_top_percentile_flags(X_train, amount_col='tx_amount_log', percentiles=(95,99), windows=WINDOWS + [None])\n",
    "X_val   = add_customer_top_percentile_flags(X_val,   amount_col='tx_amount_log', percentiles=(95,99), windows=WINDOWS + [None])\n",
    "X_test  = add_customer_top_percentile_flags(X_test,  amount_col='tx_amount_log', percentiles=(95,99), windows=WINDOWS + [None])\n",
    "\n",
    "TOP_PERCENTILE_FEATURES += [c for c in X_train.columns if c.startswith('top_p_')]"
   ]
  },
  {
   "cell_type": "markdown",
   "id": "75c53b16",
   "metadata": {},
   "source": [
    "### Calculate `tx_amount` features for customer and globally"
   ]
  },
  {
   "cell_type": "code",
   "execution_count": 31,
   "id": "b52fbc39",
   "metadata": {},
   "outputs": [],
   "source": [
    "for df in [X_train, X_val, X_test]:\n",
    "    for col in AMOUNT_FEATURES.keys():\n",
    "        df[f'{col}_mean_customer'] = df.groupby('customer_id')[col].transform('mean').fillna(0)\n",
    "        df[f'{col}_std_customer'] = df.groupby('customer_id')[col].transform('std').fillna(0)\n",
    "        df[f'{col}_median_customer'] = df.groupby('customer_id')[col].transform('median').fillna(0)\n",
    "\n",
    "        df[f'{col}_zscore_customer'] = (df[col] - df[f'{col}_mean_customer']) / (df[f'{col}_std_customer'] + eps)\n",
    "        df[f'{col}_ration_to_mean_customer'] = df[col] / (df[f'{col}_mean_customer'] + eps)\n",
    "\n",
    "        df[f'{col}_mean_global'] = df[col].mean()\n",
    "        df[f'{col}_std_global'] = df[col].std()\n",
    "        df[f'{col}_median_global'] = df[col].median()\n",
    "\n",
    "        df[f'{col}_zscore_global'] = (df[col] - df[f'{col}_mean_global']) / (df[f'{col}_std_global'] + eps)\n",
    "        df[f'{col}_ration_to_mean_global'] = df[col] / (df[f'{col}_mean_global'] + eps)\n",
    "\n",
    "        AMOUNT_FEATURES[col] = AMOUNT_FEATURES[col].union([\n",
    "            f'{col}_mean_customer',\n",
    "            f'{col}_std_customer',\n",
    "            f'{col}_median_customer',\n",
    "            f'{col}_zscore_customer',\n",
    "            f'{col}_ration_to_mean_customer',\n",
    "            f'{col}_mean_global',\n",
    "            f'{col}_std_global',\n",
    "            f'{col}_median_global',\n",
    "            f'{col}_zscore_global',\n",
    "            f'{col}_ration_to_mean_global'\n",
    "        ])"
   ]
  },
  {
   "cell_type": "markdown",
   "id": "f0be4fe1",
   "metadata": {},
   "source": [
    "#### Datetime difference-based features"
   ]
  },
  {
   "cell_type": "code",
   "execution_count": 32,
   "id": "dafbfe4a",
   "metadata": {},
   "outputs": [],
   "source": [
    "for df in [X_train, X_val, X_test]:\n",
    "    df['tx_datetime_diff_customer'] = df.groupby('customer_id')['tx_datetime'].diff().dt.total_seconds()\n",
    "    df['tx_datetime_diff_customer'] = df['tx_datetime_diff_customer'].fillna(0)\n",
    "    df['tx_datetime_diff_mean_customer'] = df.groupby('customer_id')['tx_datetime_diff_customer'].transform('mean')\n",
    "    df['tx_datetime_diff_mean_customer'] = df['tx_datetime_diff_mean_customer'].fillna(0)\n",
    "    df['tx_datetime_diff_median_customer'] = df.groupby('customer_id')['tx_datetime_diff_customer'].transform('median')\n",
    "    df['tx_datetime_diff_median_customer'] = df['tx_datetime_diff_median_customer'].fillna(0)\n",
    "    df['tx_datetime_diff_std_customer'] = df.groupby('customer_id')['tx_datetime_diff_customer'].transform('std')\n",
    "    df['tx_datetime_diff_std_customer'] = df['tx_datetime_diff_std_customer'].fillna(0)\n",
    "\n",
    "    df['tx_datetime_diff_global'] = df['tx_datetime'].diff().dt.total_seconds()\n",
    "    df['tx_datetime_diff_global'] = df['tx_datetime_diff_global'].fillna(0)\n",
    "    df['tx_datetime_diff_mean_global'] = df['tx_datetime_diff_global'].mean()\n",
    "    df['tx_datetime_diff_mean_global'] = df['tx_datetime_diff_mean_global'].fillna(0)\n",
    "    df['tx_datetime_diff_median_global'] = df['tx_datetime_diff_global'].median()\n",
    "    df['tx_datetime_diff_median_global'] = df['tx_datetime_diff_median_global'].fillna(0)\n",
    "    df['tx_datetime_diff_std_global'] = df['tx_datetime_diff_global'].std()\n",
    "    df['tx_datetime_diff_std_global'] = df['tx_datetime_diff_std_global'].fillna(0)\n",
    "\n",
    "DATE_FEATURES = DATE_FEATURES.union([\n",
    "    'tx_datetime_diff_customer',\n",
    "    'tx_datetime_diff_mean_customer',\n",
    "    'tx_datetime_diff_median_customer',\n",
    "    'tx_datetime_diff_std_customer',\n",
    "    'tx_datetime_diff_global',\n",
    "    'tx_datetime_diff_mean_global',\n",
    "    'tx_datetime_diff_median_global',\n",
    "    'tx_datetime_diff_std_global'\n",
    "])"
   ]
  },
  {
   "cell_type": "markdown",
   "id": "c04acfd7",
   "metadata": {},
   "source": [
    "## Final features list"
   ]
  },
  {
   "cell_type": "markdown",
   "id": "c2a899bf",
   "metadata": {},
   "source": [
    "Prepare final features list and dataframes for model training"
   ]
  },
  {
   "cell_type": "code",
   "execution_count": 33,
   "id": "4e985b35",
   "metadata": {},
   "outputs": [
    {
     "data": {
      "text/plain": [
       "{'customer_exp_mean',\n",
       " 'customer_exp_std',\n",
       " 'customer_id_tx_amount_log_mean_14d_window',\n",
       " 'customer_id_tx_amount_log_mean_21d_window',\n",
       " 'customer_id_tx_amount_log_mean_30d_window',\n",
       " 'customer_id_tx_amount_log_mean_7d_window',\n",
       " 'customer_id_tx_amount_log_std_14d_window',\n",
       " 'customer_id_tx_amount_log_std_21d_window',\n",
       " 'customer_id_tx_amount_log_std_30d_window',\n",
       " 'customer_id_tx_amount_log_std_7d_window',\n",
       " 'ratio_to_customer_mean',\n",
       " 'tx_amount_log_count_14d',\n",
       " 'tx_amount_log_count_21d',\n",
       " 'tx_amount_log_count_30d',\n",
       " 'tx_amount_log_count_7d',\n",
       " 'tx_amount_log_mean_14d',\n",
       " 'tx_amount_log_mean_21d',\n",
       " 'tx_amount_log_mean_30d',\n",
       " 'tx_amount_log_mean_7d',\n",
       " 'tx_amount_log_mean_customer',\n",
       " 'tx_amount_log_mean_global',\n",
       " 'tx_amount_log_median_14d',\n",
       " 'tx_amount_log_median_21d',\n",
       " 'tx_amount_log_median_30d',\n",
       " 'tx_amount_log_median_7d',\n",
       " 'tx_amount_log_median_customer',\n",
       " 'tx_amount_log_median_global',\n",
       " 'tx_amount_log_ration_to_mean_14d',\n",
       " 'tx_amount_log_ration_to_mean_21d',\n",
       " 'tx_amount_log_ration_to_mean_30d',\n",
       " 'tx_amount_log_ration_to_mean_7d',\n",
       " 'tx_amount_log_ration_to_mean_customer',\n",
       " 'tx_amount_log_ration_to_mean_global',\n",
       " 'tx_amount_log_std_14d',\n",
       " 'tx_amount_log_std_21d',\n",
       " 'tx_amount_log_std_30d',\n",
       " 'tx_amount_log_std_7d',\n",
       " 'tx_amount_log_std_customer',\n",
       " 'tx_amount_log_std_global',\n",
       " 'tx_amount_log_sum_14d',\n",
       " 'tx_amount_log_sum_21d',\n",
       " 'tx_amount_log_sum_30d',\n",
       " 'tx_amount_log_sum_7d',\n",
       " 'tx_amount_log_zscore_14d',\n",
       " 'tx_amount_log_zscore_21d',\n",
       " 'tx_amount_log_zscore_30d',\n",
       " 'tx_amount_log_zscore_7d',\n",
       " 'tx_amount_log_zscore_customer',\n",
       " 'tx_amount_log_zscore_global',\n",
       " 'zscore_amount_customer'}"
      ]
     },
     "execution_count": 33,
     "metadata": {},
     "output_type": "execute_result"
    }
   ],
   "source": [
    "AMOUNT_FEATURES['tx_amount_log']"
   ]
  },
  {
   "cell_type": "code",
   "execution_count": 34,
   "id": "bfe1ea97",
   "metadata": {},
   "outputs": [
    {
     "data": {
      "text/plain": [
       "{'is_new_sector_30d',\n",
       " 'secs_since_prev_tx',\n",
       " 'sector_risk_14d_delay7d',\n",
       " 'sector_risk_21d_delay7d',\n",
       " 'sector_risk_30d_delay7d',\n",
       " 'sector_risk_7d_delay7d',\n",
       " 'sector_switch_flag',\n",
       " 'sector_switches_14d',\n",
       " 'sector_switches_21d',\n",
       " 'sector_switches_30d',\n",
       " 'sector_switches_7d',\n",
       " 'sector_tx_14d_delay7d',\n",
       " 'sector_tx_21d_delay7d',\n",
       " 'sector_tx_30d_delay7d',\n",
       " 'sector_tx_7d_delay7d',\n",
       " 'unique_sectors_14d',\n",
       " 'unique_sectors_21d',\n",
       " 'unique_sectors_30d',\n",
       " 'unique_sectors_7d'}"
      ]
     },
     "execution_count": 34,
     "metadata": {},
     "output_type": "execute_result"
    }
   ],
   "source": [
    "SECTOR_FEATURES"
   ]
  },
  {
   "cell_type": "code",
   "execution_count": 35,
   "id": "9303c797",
   "metadata": {},
   "outputs": [
    {
     "data": {
      "text/plain": [
       "{'day_of_week',\n",
       " 'hour',\n",
       " 'is_month_end',\n",
       " 'is_month_start',\n",
       " 'is_weekend',\n",
       " 'month',\n",
       " 'tx_datetime_diff_customer',\n",
       " 'tx_datetime_diff_global',\n",
       " 'tx_datetime_diff_mean_customer',\n",
       " 'tx_datetime_diff_mean_global',\n",
       " 'tx_datetime_diff_median_customer',\n",
       " 'tx_datetime_diff_median_global',\n",
       " 'tx_datetime_diff_std_customer',\n",
       " 'tx_datetime_diff_std_global'}"
      ]
     },
     "execution_count": 35,
     "metadata": {},
     "output_type": "execute_result"
    }
   ],
   "source": [
    "DATE_FEATURES"
   ]
  },
  {
   "cell_type": "code",
   "execution_count": 36,
   "id": "47340864",
   "metadata": {},
   "outputs": [
    {
     "data": {
      "text/plain": [
       "{'customer_sector_risk_30d_delay7d',\n",
       " 'customer_sector_risk_7d_delay7d',\n",
       " 'sector_risk_30d_delay7d',\n",
       " 'sector_risk_7d_delay7d'}"
      ]
     },
     "execution_count": 36,
     "metadata": {},
     "output_type": "execute_result"
    }
   ],
   "source": [
    "RISK_FEATURES"
   ]
  },
  {
   "cell_type": "code",
   "execution_count": 37,
   "id": "7fb1acae",
   "metadata": {},
   "outputs": [
    {
     "data": {
      "text/plain": [
       "{'interval_burstiness_14d',\n",
       " 'interval_burstiness_21d',\n",
       " 'interval_burstiness_30d',\n",
       " 'interval_burstiness_7d',\n",
       " 'interval_mean_14d',\n",
       " 'interval_mean_21d',\n",
       " 'interval_mean_30d',\n",
       " 'interval_mean_7d',\n",
       " 'interval_std_14d',\n",
       " 'interval_std_21d',\n",
       " 'interval_std_30d',\n",
       " 'interval_std_7d',\n",
       " 'interval_zscore_14d',\n",
       " 'interval_zscore_21d',\n",
       " 'interval_zscore_30d',\n",
       " 'interval_zscore_7d',\n",
       " 'tx_count_14d',\n",
       " 'tx_count_1d',\n",
       " 'tx_count_1h',\n",
       " 'tx_count_21d',\n",
       " 'tx_count_30d',\n",
       " 'tx_count_7d',\n",
       " 'tx_count_sector_14d',\n",
       " 'tx_count_sector_1d',\n",
       " 'tx_count_sector_1h',\n",
       " 'tx_count_sector_21d',\n",
       " 'tx_count_sector_30d',\n",
       " 'tx_count_sector_7d'}"
      ]
     },
     "execution_count": 37,
     "metadata": {},
     "output_type": "execute_result"
    }
   ],
   "source": [
    "ROLLING_FEATURES"
   ]
  },
  {
   "cell_type": "code",
   "execution_count": 38,
   "id": "35930eeb",
   "metadata": {},
   "outputs": [
    {
     "data": {
      "text/plain": [
       "['top_p_hist_95',\n",
       " 'top_p_hist_99',\n",
       " 'top_p_7d_p95',\n",
       " 'top_p_7d_p99',\n",
       " 'top_p_14d_p95',\n",
       " 'top_p_14d_p99',\n",
       " 'top_p_21d_p95',\n",
       " 'top_p_21d_p99',\n",
       " 'top_p_30d_p95',\n",
       " 'top_p_30d_p99']"
      ]
     },
     "execution_count": 38,
     "metadata": {},
     "output_type": "execute_result"
    }
   ],
   "source": [
    "TOP_PERCENTILE_FEATURES"
   ]
  },
  {
   "cell_type": "code",
   "execution_count": 39,
   "id": "04b7d27f",
   "metadata": {},
   "outputs": [
    {
     "data": {
      "text/plain": [
       "['tx_amount_log_zscore_30d',\n",
       " 'tx_amount_log_ration_to_mean_7d',\n",
       " 'top_p_hist_99',\n",
       " 'tx_amount_log_mean_global',\n",
       " 'tx_count_sector_1d',\n",
       " 'tx_amount_log_zscore_21d',\n",
       " 'tx_amount_log_sum_7d',\n",
       " 'tx_amount_log_ration_to_mean_21d',\n",
       " 'tx_count_30d',\n",
       " 'tx_amount_log_sum_21d',\n",
       " 'is_month_end',\n",
       " 'top_p_21d_p99',\n",
       " 'tx_amount_log_count_21d',\n",
       " 'sector_tx_21d_delay7d',\n",
       " 'tx_count_sector_7d',\n",
       " 'tx_count_14d',\n",
       " 'day_of_week',\n",
       " 'tx_amount_log_mean_14d',\n",
       " 'tx_count_1h',\n",
       " 'unique_sectors_21d',\n",
       " 'tx_amount_log_std_customer',\n",
       " 'tx_amount_log_sum_30d',\n",
       " 'ratio_to_customer_mean',\n",
       " 'customer_id_tx_amount_log_mean_30d_window',\n",
       " 'tx_amount_log_ration_to_mean_customer',\n",
       " 'tx_datetime_diff_mean_customer',\n",
       " 'tx_datetime_diff_std_global',\n",
       " 'interval_zscore_21d',\n",
       " 'top_p_7d_p95',\n",
       " 'tx_amount_log_count_7d',\n",
       " 'tx_amount_log_median_30d',\n",
       " 'unique_sectors_14d',\n",
       " 'interval_mean_30d',\n",
       " 'top_p_7d_p99',\n",
       " 'tx_datetime_diff_std_customer',\n",
       " 'sector_switches_30d',\n",
       " 'top_p_14d_p99',\n",
       " 'tx_amount_log_ration_to_mean_global',\n",
       " 'interval_mean_7d',\n",
       " 'tx_datetime_diff_median_global',\n",
       " 'customer_id_tx_amount_log_mean_7d_window',\n",
       " 'tx_amount_log_zscore_14d',\n",
       " 'tx_amount_log_sum_14d',\n",
       " 'tx_amount_log_zscore_customer',\n",
       " 'tx_amount_log_std_global',\n",
       " 'is_weekend',\n",
       " 'interval_std_21d',\n",
       " 'tx_amount_log_median_7d',\n",
       " 'month',\n",
       " 'customer_id_tx_amount_log_mean_14d_window',\n",
       " 'is_new_sector_30d',\n",
       " 'sector_tx_14d_delay7d',\n",
       " 'sector_risk_21d_delay7d',\n",
       " 'tx_amount_log_zscore_7d',\n",
       " 'tx_amount_log_median_14d',\n",
       " 'sector_risk_30d_delay7d',\n",
       " 'tx_amount_log_mean_30d',\n",
       " 'tx_amount_log_std_21d',\n",
       " 'tx_datetime_diff_median_customer',\n",
       " 'sector_tx_30d_delay7d',\n",
       " 'top_p_30d_p95',\n",
       " 'customer_id_tx_amount_log_std_30d_window',\n",
       " 'tx_amount_log_mean_21d',\n",
       " 'customer_id_tx_amount_log_mean_21d_window',\n",
       " 'tx_count_1d',\n",
       " 'sector_switch_flag',\n",
       " 'interval_burstiness_30d',\n",
       " 'sector_switches_7d',\n",
       " 'tx_amount_log_zscore_global',\n",
       " 'sector_risk_14d_delay7d',\n",
       " 'unique_sectors_30d',\n",
       " 'customer_sector_risk_7d_delay7d',\n",
       " 'customer_exp_mean',\n",
       " 'tx_amount_log_count_14d',\n",
       " 'secs_since_prev_tx',\n",
       " 'sector_tx_7d_delay7d',\n",
       " 'customer_id_tx_amount_log_std_14d_window',\n",
       " 'interval_zscore_30d',\n",
       " 'tx_amount_log_count_30d',\n",
       " 'interval_std_14d',\n",
       " 'tx_amount_log_ration_to_mean_14d',\n",
       " 'tx_amount_log_mean_customer',\n",
       " 'tx_amount_log_std_14d',\n",
       " 'tx_amount_log_median_global',\n",
       " 'sector_risk_7d_delay7d',\n",
       " 'tx_amount_log_mean_7d',\n",
       " 'interval_std_7d',\n",
       " 'top_p_21d_p95',\n",
       " 'interval_std_30d',\n",
       " 'tx_datetime_diff_mean_global',\n",
       " 'tx_amount_log_ration_to_mean_30d',\n",
       " 'interval_mean_21d',\n",
       " 'interval_mean_14d',\n",
       " 'tx_amount_log_std_30d',\n",
       " 'tx_count_sector_1h',\n",
       " 'interval_zscore_14d',\n",
       " 'customer_sector_risk_30d_delay7d',\n",
       " 'tx_count_sector_14d',\n",
       " 'tx_datetime_diff_global',\n",
       " 'interval_burstiness_14d',\n",
       " 'interval_zscore_7d',\n",
       " 'customer_id_tx_amount_log_std_7d_window',\n",
       " 'unique_sectors_7d',\n",
       " 'interval_burstiness_7d',\n",
       " 'customer_id_tx_amount_log_std_21d_window',\n",
       " 'tx_count_sector_21d',\n",
       " 'tx_count_7d',\n",
       " 'tx_datetime_diff_customer',\n",
       " 'tx_count_sector_30d',\n",
       " 'top_p_30d_p99',\n",
       " 'tx_count_21d',\n",
       " 'customer_exp_std',\n",
       " 'interval_burstiness_21d',\n",
       " 'top_p_14d_p95',\n",
       " 'tx_amount_log_median_customer',\n",
       " 'tx_amount_log_std_7d',\n",
       " 'sector_switches_14d',\n",
       " 'tx_amount_log_median_21d',\n",
       " 'top_p_hist_95',\n",
       " 'zscore_amount_customer',\n",
       " 'hour',\n",
       " 'is_month_start',\n",
       " 'sector_switches_21d']"
      ]
     },
     "execution_count": 39,
     "metadata": {},
     "output_type": "execute_result"
    }
   ],
   "source": [
    "FEATURES = list(\n",
    "    AMOUNT_FEATURES['tx_amount_log'] | \n",
    "    SECTOR_FEATURES | \n",
    "    DATE_FEATURES | \n",
    "    RISK_FEATURES | \n",
    "    ROLLING_FEATURES | \n",
    "    set(TOP_PERCENTILE_FEATURES)\n",
    ")\n",
    "FEATURES"
   ]
  },
  {
   "cell_type": "markdown",
   "id": "cc8bce0c",
   "metadata": {},
   "source": [
    "Check if there is no `NaN` values in columns"
   ]
  },
  {
   "cell_type": "code",
   "execution_count": 40,
   "id": "7b659996",
   "metadata": {},
   "outputs": [
    {
     "data": {
      "text/plain": [
       "[]"
      ]
     },
     "execution_count": 40,
     "metadata": {},
     "output_type": "execute_result"
    }
   ],
   "source": [
    "null_columns = X_train.columns[X_train.isna().any()].to_list()\n",
    "null_columns"
   ]
  },
  {
   "cell_type": "code",
   "execution_count": 41,
   "id": "fae0e2e6",
   "metadata": {},
   "outputs": [
    {
     "data": {
      "text/plain": [
       "True"
      ]
     },
     "execution_count": 41,
     "metadata": {},
     "output_type": "execute_result"
    }
   ],
   "source": [
    "len(X_val[FEATURES].columns) == len(X_train[FEATURES].columns) == len(X_test[FEATURES].columns)"
   ]
  },
  {
   "cell_type": "markdown",
   "id": "5cfec2ea",
   "metadata": {},
   "source": [
    "## Correlations"
   ]
  },
  {
   "cell_type": "markdown",
   "id": "5697f02a",
   "metadata": {},
   "source": [
    "Since number of create features is pretty huge, let us find out, what of them have high correlation"
   ]
  },
  {
   "cell_type": "code",
   "execution_count": 47,
   "id": "5eee1668",
   "metadata": {},
   "outputs": [],
   "source": [
    "corr = X_train[FEATURES].corr(method='pearson')"
   ]
  },
  {
   "cell_type": "code",
   "execution_count": null,
   "id": "95390ec1",
   "metadata": {},
   "outputs": [],
   "source": [
    "corr_abs = corr.abs()\n",
    "high_corr = corr_abs.unstack().sort_values(ascending=False)\n",
    "high_corr = high_corr[(high_corr < 1) & (high_corr > 0.97)]"
   ]
  },
  {
   "cell_type": "code",
   "execution_count": 58,
   "id": "d931396b",
   "metadata": {},
   "outputs": [
    {
     "data": {
      "text/plain": [
       "interval_zscore_21d                  interval_zscore_30d                    1.000000\n",
       "interval_zscore_30d                  interval_zscore_21d                    1.000000\n",
       "tx_amount_log_ration_to_mean_global  tx_amount_log_zscore_global            1.000000\n",
       "tx_amount_log_zscore_global          tx_amount_log_ration_to_mean_global    1.000000\n",
       "tx_amount_log_zscore_21d             tx_amount_log_zscore_30d               1.000000\n",
       "                                                                              ...   \n",
       "interval_zscore_14d                  interval_zscore_21d                    0.974495\n",
       "sector_tx_14d_delay7d                sector_tx_21d_delay7d                  0.974152\n",
       "sector_tx_21d_delay7d                sector_tx_14d_delay7d                  0.974152\n",
       "                                     sector_tx_30d_delay7d                  0.973696\n",
       "sector_tx_30d_delay7d                sector_tx_21d_delay7d                  0.973696\n",
       "Length: 288, dtype: float64"
      ]
     },
     "execution_count": 58,
     "metadata": {},
     "output_type": "execute_result"
    }
   ],
   "source": [
    "high_corr"
   ]
  },
  {
   "cell_type": "code",
   "execution_count": 98,
   "id": "7fd736ae",
   "metadata": {},
   "outputs": [
    {
     "name": "stdout",
     "output_type": "stream",
     "text": [
      "Found 17 correlated groups\n"
     ]
    }
   ],
   "source": [
    "import networkx as nx\n",
    "\n",
    "pairs = [tuple(sorted(k)) for k in high_corr.keys()]\n",
    "G = nx.Graph()\n",
    "G.add_edges_from(pairs)\n",
    "\n",
    "groups = list(nx.connected_components(G))\n",
    "print(f\"Found {len(groups)} correlated groups\")"
   ]
  },
  {
   "cell_type": "code",
   "execution_count": null,
   "id": "6fde5321",
   "metadata": {},
   "outputs": [
    {
     "data": {
      "text/plain": [
       "['interval_zscore_21d',\n",
       " 'interval_zscore_30d',\n",
       " 'tx_amount_log_median_customer',\n",
       " 'tx_amount_log_ration_to_mean_global',\n",
       " 'tx_amount_log_zscore_global',\n",
       " 'sector_switch_flag',\n",
       " 'tx_amount_log_ration_to_mean_14d',\n",
       " 'tx_amount_log_ration_to_mean_21d',\n",
       " 'tx_amount_log_ration_to_mean_30d',\n",
       " 'tx_amount_log_zscore_14d',\n",
       " 'tx_amount_log_zscore_21d',\n",
       " 'tx_amount_log_zscore_30d',\n",
       " 'tx_datetime_diff_global',\n",
       " 'tx_datetime_diff_customer',\n",
       " 'tx_count_30d',\n",
       " 'tx_count_sector_30d',\n",
       " 'tx_count_21d',\n",
       " 'tx_count_sector_21d',\n",
       " 'tx_count_14d',\n",
       " 'tx_count_sector_14d',\n",
       " 'tx_count_7d',\n",
       " 'tx_count_sector_7d',\n",
       " 'tx_count_sector_1d',\n",
       " 'customer_id_tx_amount_log_mean_14d_window',\n",
       " 'customer_id_tx_amount_log_mean_21d_window',\n",
       " 'customer_id_tx_amount_log_mean_30d_window',\n",
       " 'customer_id_tx_amount_log_mean_7d_window',\n",
       " 'tx_amount_log_mean_14d',\n",
       " 'tx_amount_log_mean_21d',\n",
       " 'tx_amount_log_mean_30d',\n",
       " 'tx_amount_log_mean_7d',\n",
       " 'tx_amount_log_median_14d',\n",
       " 'tx_amount_log_median_21d',\n",
       " 'tx_amount_log_median_30d',\n",
       " 'tx_amount_log_median_7d',\n",
       " 'unique_sectors_21d',\n",
       " 'unique_sectors_30d',\n",
       " 'tx_count_sector_1h',\n",
       " 'tx_amount_log_zscore_7d',\n",
       " 'tx_amount_log_std_30d',\n",
       " 'tx_amount_log_std_21d',\n",
       " 'tx_amount_log_std_14d',\n",
       " 'sector_tx_21d_delay7d',\n",
       " 'sector_tx_30d_delay7d']"
      ]
     },
     "execution_count": 88,
     "metadata": {},
     "output_type": "execute_result"
    }
   ],
   "source": [
    "columns_to_delete = []\n",
    "for gr in groups:\n",
    "    columns_to_delete.extend(sorted(gr)[1:])\n",
    "\n",
    "columns_to_delete"
   ]
  },
  {
   "cell_type": "code",
   "execution_count": 96,
   "id": "c6d5ab77",
   "metadata": {},
   "outputs": [
    {
     "name": "stdout",
     "output_type": "stream",
     "text": [
      "Overall features count: 79\n",
      "Columns to delete (due to high correlation) count: 44\n"
     ]
    }
   ],
   "source": [
    "print(f\"Overall features count: {len(set(FEATURES))}\")\n",
    "print(f\"Columns to delete (due to high correlation) count: {len(set(columns_to_delete))}\")"
   ]
  },
  {
   "cell_type": "code",
   "execution_count": 97,
   "id": "4939c21f",
   "metadata": {},
   "outputs": [],
   "source": [
    "FEATURES = set(FEATURES) - set(columns_to_delete)"
   ]
  },
  {
   "cell_type": "code",
   "execution_count": 100,
   "id": "73cef807",
   "metadata": {},
   "outputs": [
    {
     "data": {
      "text/plain": [
       "79"
      ]
     },
     "execution_count": 100,
     "metadata": {},
     "output_type": "execute_result"
    }
   ],
   "source": [
    "len(FEATURES)"
   ]
  },
  {
   "cell_type": "markdown",
   "id": "1e38c454",
   "metadata": {},
   "source": [
    "Number of features decreased drastically (approximately, one third)"
   ]
  },
  {
   "cell_type": "markdown",
   "id": "0d235492",
   "metadata": {},
   "source": [
    "## Save dataframes"
   ]
  },
  {
   "cell_type": "code",
   "execution_count": 42,
   "id": "eebd3c85",
   "metadata": {},
   "outputs": [],
   "source": [
    "filenames = {\n",
    "    'x_train_features.parquet.gzip': X_train,\n",
    "    'x_val_features.parquet.gzip': X_val,\n",
    "    'x_test_features.parquet.gzip': X_test,\n",
    "}\n",
    "\n",
    "for fn, df in filenames.items():\n",
    "    df.to_parquet(INTERIM_DATA / fn, compression='gzip')"
   ]
  },
  {
   "cell_type": "code",
   "execution_count": 95,
   "id": "96ebde10",
   "metadata": {},
   "outputs": [],
   "source": [
    "with open(INTERIM_DATA / \"features_list.txt\", \"w\") as f:\n",
    "    for feature in FEATURES:\n",
    "        f.write(feature + '\\n')"
   ]
  }
 ],
 "metadata": {
  "kernelspec": {
   "display_name": "Qonto ML Tech Assignment",
   "language": "python",
   "name": "qonto-ml-tech-assignment"
  },
  "language_info": {
   "codemirror_mode": {
    "name": "ipython",
    "version": 3
   },
   "file_extension": ".py",
   "mimetype": "text/x-python",
   "name": "python",
   "nbconvert_exporter": "python",
   "pygments_lexer": "ipython3",
   "version": "3.12.6"
  }
 },
 "nbformat": 4,
 "nbformat_minor": 5
}
